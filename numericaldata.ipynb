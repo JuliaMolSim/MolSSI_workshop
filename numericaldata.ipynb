{
 "cells": [
  {
   "cell_type": "markdown",
   "metadata": {},
   "source": [
    "## Linear Algebra"
   ]
  },
  {
   "cell_type": "code",
   "execution_count": 43,
   "metadata": {},
   "outputs": [],
   "source": [
    "using LinearAlgebra"
   ]
  },
  {
   "cell_type": "code",
   "execution_count": 44,
   "metadata": {},
   "outputs": [
    {
     "data": {
      "text/plain": [
       "3×3 Matrix{Int64}:\n",
       " 1  2  3\n",
       " 4  5  6\n",
       " 7  8  9"
      ]
     },
     "metadata": {},
     "output_type": "display_data"
    }
   ],
   "source": [
    "# Creating a 3x3 matrix\n",
    "A = [1 2 3; 4 5 6; 7 8 9]"
   ]
  },
  {
   "cell_type": "code",
   "execution_count": 45,
   "metadata": {},
   "outputs": [
    {
     "data": {
      "text/plain": [
       "-9.516197353929915e-16"
      ]
     },
     "metadata": {},
     "output_type": "display_data"
    }
   ],
   "source": [
    "# Determinant\n",
    "det_A = det(A)"
   ]
  },
  {
   "cell_type": "code",
   "execution_count": 46,
   "metadata": {},
   "outputs": [
    {
     "data": {
      "text/plain": [
       "3×3 Matrix{Float64}:\n",
       "  0.75  -0.25  -0.25\n",
       " -0.25   0.75  -0.25\n",
       " -0.25  -0.25   0.75"
      ]
     },
     "metadata": {},
     "output_type": "display_data"
    }
   ],
   "source": [
    "# Inverse (Note: A is singular, so using a different matrix)\n",
    "B = [2 1 1; 1 2 1; 1 1 2]\n",
    "inv_B = inv(B)"
   ]
  },
  {
   "cell_type": "code",
   "execution_count": 47,
   "metadata": {},
   "outputs": [
    {
     "data": {
      "text/plain": [
       "Eigen{Float64, Float64, Matrix{Float64}, Vector{Float64}}\n",
       "values:\n",
       "3-element Vector{Float64}:\n",
       " 0.9999999999999998\n",
       " 1.0\n",
       " 3.999999999999999\n",
       "vectors:\n",
       "3×3 Matrix{Float64}:\n",
       " -0.408248   0.707107  -0.57735\n",
       " -0.408248  -0.707107  -0.57735\n",
       "  0.816497   0.0       -0.57735"
      ]
     },
     "metadata": {},
     "output_type": "display_data"
    }
   ],
   "source": [
    "# Eigenvalues and eigenvectors\n",
    "eig_B = eigen(B)"
   ]
  },
  {
   "cell_type": "code",
   "execution_count": 48,
   "metadata": {},
   "outputs": [
    {
     "data": {
      "text/plain": [
       "3-element Vector{Float64}:\n",
       " -0.23333333333333334\n",
       "  0.46666666666666673\n",
       "  0.09999999999999994"
      ]
     },
     "metadata": {},
     "output_type": "display_data"
    }
   ],
   "source": [
    "# Solve Ax = b where A is 3x3 matrix and b is a vector\n",
    "b = [1, 2, 3]\n",
    "x = A \\ b"
   ]
  },
  {
   "cell_type": "markdown",
   "metadata": {},
   "source": [
    "#### Solving a system of equations"
   ]
  },
  {
   "cell_type": "code",
   "execution_count": 49,
   "metadata": {},
   "outputs": [
    {
     "data": {
      "text/plain": [
       "3-element Vector{Int64}:\n",
       "   8\n",
       " -11\n",
       "  -3"
      ]
     },
     "metadata": {},
     "output_type": "display_data"
    }
   ],
   "source": [
    "# Define matrix A and vector b\n",
    "A = [2 1 -1; -3 -1 2; -2 1 2]\n",
    "b = [8, -11, -3]"
   ]
  },
  {
   "cell_type": "code",
   "execution_count": 50,
   "metadata": {},
   "outputs": [
    {
     "data": {
      "text/plain": [
       "3-element Vector{Float64}:\n",
       "  2.0000000000000004\n",
       "  2.9999999999999996\n",
       " -0.9999999999999991"
      ]
     },
     "metadata": {},
     "output_type": "display_data"
    }
   ],
   "source": [
    "# Solve for x using the backslash operator\n",
    "x = A \\ b"
   ]
  },
  {
   "cell_type": "code",
   "execution_count": 51,
   "metadata": {},
   "outputs": [
    {
     "name": "stdout",
     "output_type": "stream",
     "text": [
      "The solution is: [2.0000000000000004, 2.9999999999999996, -0.9999999999999991]\n"
     ]
    }
   ],
   "source": [
    "# Display the solution\n",
    "println(\"The solution is: \", x)"
   ]
  },
  {
   "cell_type": "markdown",
   "metadata": {},
   "source": [
    "##### More advanced problem"
   ]
  },
  {
   "cell_type": "code",
   "execution_count": 52,
   "metadata": {},
   "outputs": [
    {
     "name": "stdout",
     "output_type": "stream",
     "text": [
      "Solution x: [0.6235294117647063, 0.7176470588235293, 2.3529411764705888, 1.294117647058824]\n",
      "Rank of A: 4\n",
      "Null space of A: Matrix{Float64}(undef, 4, 0)\n",
      "Condition number of A: 7.4635161399954475\n"
     ]
    }
   ],
   "source": [
    "# Define matrix A and vector b\n",
    "A = [1 2 -1 1; 2 -1 3 -2; -3 4 2 1; 1 -3 2 -4]\n",
    "b = [1, 5, 7, -2]\n",
    "\n",
    "# Solve for x using the backslash operator\n",
    "x = A \\ b\n",
    "\n",
    "# Compute the rank of A\n",
    "rank_A = rank(A)\n",
    "\n",
    "# Compute the null space of A\n",
    "null_space_A = nullspace(A)\n",
    "\n",
    "# Compute the condition number of A\n",
    "cond_A = cond(A)\n",
    "\n",
    "# Display results\n",
    "println(\"Solution x: \", x)\n",
    "println(\"Rank of A: \", rank_A)\n",
    "println(\"Null space of A: \", null_space_A)\n",
    "println(\"Condition number of A: \", cond_A)"
   ]
  },
  {
   "cell_type": "markdown",
   "metadata": {},
   "source": [
    "## DataFrames"
   ]
  },
  {
   "cell_type": "code",
   "execution_count": 53,
   "metadata": {},
   "outputs": [
    {
     "name": "stderr",
     "output_type": "stream",
     "text": [
      "\u001b[32m\u001b[1m   Resolving\u001b[22m\u001b[39m package versions...\n",
      "\u001b[32m\u001b[1m  No Changes\u001b[22m\u001b[39m to `~/MolSSI_workshop/Project.toml`\n",
      "\u001b[32m\u001b[1m  No Changes\u001b[22m\u001b[39m to `~/MolSSI_workshop/Manifest.toml`\n"
     ]
    }
   ],
   "source": [
    "using Pkg\n",
    "Pkg.add(\"DataFrames\")\n",
    "using DataFrames"
   ]
  },
  {
   "cell_type": "code",
   "execution_count": 54,
   "metadata": {},
   "outputs": [
    {
     "data": {
      "text/html": [
       "<div><div style = \"float: left;\"><span>3×3 DataFrame</span></div><div style = \"clear: both;\"></div></div><div class = \"data-frame\" style = \"overflow-x: scroll;\"><table class = \"data-frame\" style = \"margin-bottom: 6px;\"><thead><tr class = \"header\"><th class = \"rowNumber\" style = \"font-weight: bold; text-align: right;\">Row</th><th style = \"text-align: left;\">Name</th><th style = \"text-align: left;\">Age</th><th style = \"text-align: left;\">Salary</th></tr><tr class = \"subheader headerLastRow\"><th class = \"rowNumber\" style = \"font-weight: bold; text-align: right;\"></th><th title = \"String\" style = \"text-align: left;\">String</th><th title = \"Int64\" style = \"text-align: left;\">Int64</th><th title = \"Int64\" style = \"text-align: left;\">Int64</th></tr></thead><tbody><tr><td class = \"rowNumber\" style = \"font-weight: bold; text-align: right;\">1</td><td style = \"text-align: left;\">John</td><td style = \"text-align: right;\">28</td><td style = \"text-align: right;\">50000</td></tr><tr><td class = \"rowNumber\" style = \"font-weight: bold; text-align: right;\">2</td><td style = \"text-align: left;\">Jane</td><td style = \"text-align: right;\">34</td><td style = \"text-align: right;\">62000</td></tr><tr><td class = \"rowNumber\" style = \"font-weight: bold; text-align: right;\">3</td><td style = \"text-align: left;\">Jim</td><td style = \"text-align: right;\">45</td><td style = \"text-align: right;\">72000</td></tr></tbody></table></div>"
      ],
      "text/latex": [
       "\\begin{tabular}{r|ccc}\n",
       "\t& Name & Age & Salary\\\\\n",
       "\t\\hline\n",
       "\t& String & Int64 & Int64\\\\\n",
       "\t\\hline\n",
       "\t1 & John & 28 & 50000 \\\\\n",
       "\t2 & Jane & 34 & 62000 \\\\\n",
       "\t3 & Jim & 45 & 72000 \\\\\n",
       "\\end{tabular}\n"
      ],
      "text/plain": [
       "\u001b[1m3×3 DataFrame\u001b[0m\n",
       "\u001b[1m Row \u001b[0m│\u001b[1m Name   \u001b[0m\u001b[1m Age   \u001b[0m\u001b[1m Salary \u001b[0m\n",
       "     │\u001b[90m String \u001b[0m\u001b[90m Int64 \u001b[0m\u001b[90m Int64  \u001b[0m\n",
       "─────┼───────────────────────\n",
       "   1 │ John       28   50000\n",
       "   2 │ Jane       34   62000\n",
       "   3 │ Jim        45   72000"
      ]
     },
     "metadata": {},
     "output_type": "display_data"
    }
   ],
   "source": [
    "# Create a DataFrame\n",
    "df = DataFrame(Name=[\"John\", \"Jane\", \"Jim\"], Age=[28, 34, 45], Salary=[50000, 62000, 72000])"
   ]
  },
  {
   "cell_type": "code",
   "execution_count": 55,
   "metadata": {},
   "outputs": [
    {
     "name": "stdout",
     "output_type": "stream",
     "text": [
      "\u001b[1m3×3 DataFrame\u001b[0m\n",
      "\u001b[1m Row \u001b[0m│\u001b[1m Name   \u001b[0m\u001b[1m Age   \u001b[0m\u001b[1m Salary \u001b[0m\n",
      "     │\u001b[90m String \u001b[0m\u001b[90m Int64 \u001b[0m\u001b[90m Int64  \u001b[0m\n",
      "─────┼───────────────────────\n",
      "   1 │ John       28   50000\n",
      "   2 │ Jane       34   62000\n",
      "   3 │ Jim        45   72000\n"
     ]
    }
   ],
   "source": [
    "# View the DataFrame\n",
    "println(df)"
   ]
  },
  {
   "cell_type": "code",
   "execution_count": 56,
   "metadata": {},
   "outputs": [
    {
     "data": {
      "text/plain": [
       "3-element Vector{String}:\n",
       " \"Single\"\n",
       " \"Married\"\n",
       " \"Single\""
      ]
     },
     "metadata": {},
     "output_type": "display_data"
    }
   ],
   "source": [
    "# Add a new column\n",
    "df.Status = [\"Single\", \"Married\", \"Single\"]"
   ]
  },
  {
   "cell_type": "code",
   "execution_count": 57,
   "metadata": {},
   "outputs": [
    {
     "data": {
      "text/html": [
       "<div><div style = \"float: left;\"><span>2×4 DataFrame</span></div><div style = \"clear: both;\"></div></div><div class = \"data-frame\" style = \"overflow-x: scroll;\"><table class = \"data-frame\" style = \"margin-bottom: 6px;\"><thead><tr class = \"header\"><th class = \"rowNumber\" style = \"font-weight: bold; text-align: right;\">Row</th><th style = \"text-align: left;\">Name</th><th style = \"text-align: left;\">Age</th><th style = \"text-align: left;\">Salary</th><th style = \"text-align: left;\">Status</th></tr><tr class = \"subheader headerLastRow\"><th class = \"rowNumber\" style = \"font-weight: bold; text-align: right;\"></th><th title = \"String\" style = \"text-align: left;\">String</th><th title = \"Int64\" style = \"text-align: left;\">Int64</th><th title = \"Int64\" style = \"text-align: left;\">Int64</th><th title = \"String\" style = \"text-align: left;\">String</th></tr></thead><tbody><tr><td class = \"rowNumber\" style = \"font-weight: bold; text-align: right;\">1</td><td style = \"text-align: left;\">Jane</td><td style = \"text-align: right;\">34</td><td style = \"text-align: right;\">62000</td><td style = \"text-align: left;\">Married</td></tr><tr><td class = \"rowNumber\" style = \"font-weight: bold; text-align: right;\">2</td><td style = \"text-align: left;\">Jim</td><td style = \"text-align: right;\">45</td><td style = \"text-align: right;\">72000</td><td style = \"text-align: left;\">Single</td></tr></tbody></table></div>"
      ],
      "text/latex": [
       "\\begin{tabular}{r|cccc}\n",
       "\t& Name & Age & Salary & Status\\\\\n",
       "\t\\hline\n",
       "\t& String & Int64 & Int64 & String\\\\\n",
       "\t\\hline\n",
       "\t1 & Jane & 34 & 62000 & Married \\\\\n",
       "\t2 & Jim & 45 & 72000 & Single \\\\\n",
       "\\end{tabular}\n"
      ],
      "text/plain": [
       "\u001b[1m2×4 DataFrame\u001b[0m\n",
       "\u001b[1m Row \u001b[0m│\u001b[1m Name   \u001b[0m\u001b[1m Age   \u001b[0m\u001b[1m Salary \u001b[0m\u001b[1m Status  \u001b[0m\n",
       "     │\u001b[90m String \u001b[0m\u001b[90m Int64 \u001b[0m\u001b[90m Int64  \u001b[0m\u001b[90m String  \u001b[0m\n",
       "─────┼────────────────────────────────\n",
       "   1 │ Jane       34   62000  Married\n",
       "   2 │ Jim        45   72000  Single"
      ]
     },
     "metadata": {},
     "output_type": "display_data"
    }
   ],
   "source": [
    "# Filter rows where Age > 30\n",
    "filtered_df = filter(row -> row.Age > 30, df)"
   ]
  },
  {
   "cell_type": "code",
   "execution_count": 58,
   "metadata": {},
   "outputs": [
    {
     "data": {
      "text/html": [
       "<div><div style = \"float: left;\"><span>4×7 DataFrame</span></div><div style = \"clear: both;\"></div></div><div class = \"data-frame\" style = \"overflow-x: scroll;\"><table class = \"data-frame\" style = \"margin-bottom: 6px;\"><thead><tr class = \"header\"><th class = \"rowNumber\" style = \"font-weight: bold; text-align: right;\">Row</th><th style = \"text-align: left;\">variable</th><th style = \"text-align: left;\">mean</th><th style = \"text-align: left;\">min</th><th style = \"text-align: left;\">median</th><th style = \"text-align: left;\">max</th><th style = \"text-align: left;\">nmissing</th><th style = \"text-align: left;\">eltype</th></tr><tr class = \"subheader headerLastRow\"><th class = \"rowNumber\" style = \"font-weight: bold; text-align: right;\"></th><th title = \"Symbol\" style = \"text-align: left;\">Symbol</th><th title = \"Union{Nothing, Float64}\" style = \"text-align: left;\">Union…</th><th title = \"Any\" style = \"text-align: left;\">Any</th><th title = \"Union{Nothing, Float64}\" style = \"text-align: left;\">Union…</th><th title = \"Any\" style = \"text-align: left;\">Any</th><th title = \"Int64\" style = \"text-align: left;\">Int64</th><th title = \"DataType\" style = \"text-align: left;\">DataType</th></tr></thead><tbody><tr><td class = \"rowNumber\" style = \"font-weight: bold; text-align: right;\">1</td><td style = \"text-align: left;\">Name</td><td style = \"font-style: italic; text-align: left;\"></td><td style = \"text-align: left;\">Jane</td><td style = \"font-style: italic; text-align: left;\"></td><td style = \"text-align: left;\">John</td><td style = \"text-align: right;\">0</td><td style = \"text-align: left;\">String</td></tr><tr><td class = \"rowNumber\" style = \"font-weight: bold; text-align: right;\">2</td><td style = \"text-align: left;\">Age</td><td style = \"text-align: left;\">35.6667</td><td style = \"text-align: left;\">28</td><td style = \"text-align: left;\">34.0</td><td style = \"text-align: left;\">45</td><td style = \"text-align: right;\">0</td><td style = \"text-align: left;\">Int64</td></tr><tr><td class = \"rowNumber\" style = \"font-weight: bold; text-align: right;\">3</td><td style = \"text-align: left;\">Salary</td><td style = \"text-align: left;\">61333.3</td><td style = \"text-align: left;\">50000</td><td style = \"text-align: left;\">62000.0</td><td style = \"text-align: left;\">72000</td><td style = \"text-align: right;\">0</td><td style = \"text-align: left;\">Int64</td></tr><tr><td class = \"rowNumber\" style = \"font-weight: bold; text-align: right;\">4</td><td style = \"text-align: left;\">Status</td><td style = \"font-style: italic; text-align: left;\"></td><td style = \"text-align: left;\">Married</td><td style = \"font-style: italic; text-align: left;\"></td><td style = \"text-align: left;\">Single</td><td style = \"text-align: right;\">0</td><td style = \"text-align: left;\">String</td></tr></tbody></table></div>"
      ],
      "text/latex": [
       "\\begin{tabular}{r|ccccccc}\n",
       "\t& variable & mean & min & median & max & nmissing & eltype\\\\\n",
       "\t\\hline\n",
       "\t& Symbol & Union… & Any & Union… & Any & Int64 & DataType\\\\\n",
       "\t\\hline\n",
       "\t1 & Name &  & Jane &  & John & 0 & String \\\\\n",
       "\t2 & Age & 35.6667 & 28 & 34.0 & 45 & 0 & Int64 \\\\\n",
       "\t3 & Salary & 61333.3 & 50000 & 62000.0 & 72000 & 0 & Int64 \\\\\n",
       "\t4 & Status &  & Married &  & Single & 0 & String \\\\\n",
       "\\end{tabular}\n"
      ],
      "text/plain": [
       "\u001b[1m4×7 DataFrame\u001b[0m\n",
       "\u001b[1m Row \u001b[0m│\u001b[1m variable \u001b[0m\u001b[1m mean    \u001b[0m\u001b[1m min     \u001b[0m\u001b[1m median  \u001b[0m\u001b[1m max    \u001b[0m\u001b[1m nmissing \u001b[0m\u001b[1m eltype   \u001b[0m\n",
       "     │\u001b[90m Symbol   \u001b[0m\u001b[90m Union…  \u001b[0m\u001b[90m Any     \u001b[0m\u001b[90m Union…  \u001b[0m\u001b[90m Any    \u001b[0m\u001b[90m Int64    \u001b[0m\u001b[90m DataType \u001b[0m\n",
       "─────┼─────────────────────────────────────────────────────────────────\n",
       "   1 │ Name     \u001b[90m         \u001b[0m Jane    \u001b[90m         \u001b[0m John           0  String\n",
       "   2 │ Age       35.6667  28       34.0     45             0  Int64\n",
       "   3 │ Salary    61333.3  50000    62000.0  72000          0  Int64\n",
       "   4 │ Status   \u001b[90m         \u001b[0m Married \u001b[90m         \u001b[0m Single         0  String"
      ]
     },
     "metadata": {},
     "output_type": "display_data"
    }
   ],
   "source": [
    "# Summary statistics\n",
    "describe(df)"
   ]
  },
  {
   "cell_type": "code",
   "execution_count": 59,
   "metadata": {},
   "outputs": [
    {
     "data": {
      "text/html": [
       "<div><div style = \"float: left;\"><span>2×2 DataFrame</span></div><div style = \"clear: both;\"></div></div><div class = \"data-frame\" style = \"overflow-x: scroll;\"><table class = \"data-frame\" style = \"margin-bottom: 6px;\"><thead><tr class = \"header\"><th class = \"rowNumber\" style = \"font-weight: bold; text-align: right;\">Row</th><th style = \"text-align: left;\">Status</th><th style = \"text-align: left;\">AvgSalary</th></tr><tr class = \"subheader headerLastRow\"><th class = \"rowNumber\" style = \"font-weight: bold; text-align: right;\"></th><th title = \"String\" style = \"text-align: left;\">String</th><th title = \"Float64\" style = \"text-align: left;\">Float64</th></tr></thead><tbody><tr><td class = \"rowNumber\" style = \"font-weight: bold; text-align: right;\">1</td><td style = \"text-align: left;\">Single</td><td style = \"text-align: right;\">61000.0</td></tr><tr><td class = \"rowNumber\" style = \"font-weight: bold; text-align: right;\">2</td><td style = \"text-align: left;\">Married</td><td style = \"text-align: right;\">62000.0</td></tr></tbody></table></div>"
      ],
      "text/latex": [
       "\\begin{tabular}{r|cc}\n",
       "\t& Status & AvgSalary\\\\\n",
       "\t\\hline\n",
       "\t& String & Float64\\\\\n",
       "\t\\hline\n",
       "\t1 & Single & 61000.0 \\\\\n",
       "\t2 & Married & 62000.0 \\\\\n",
       "\\end{tabular}\n"
      ],
      "text/plain": [
       "\u001b[1m2×2 DataFrame\u001b[0m\n",
       "\u001b[1m Row \u001b[0m│\u001b[1m Status  \u001b[0m\u001b[1m AvgSalary \u001b[0m\n",
       "     │\u001b[90m String  \u001b[0m\u001b[90m Float64   \u001b[0m\n",
       "─────┼────────────────────\n",
       "   1 │ Single     61000.0\n",
       "   2 │ Married    62000.0"
      ]
     },
     "metadata": {},
     "output_type": "display_data"
    }
   ],
   "source": [
    "# Group by Status and calculate average Salary\n",
    "grouped = groupby(df, :Status)\n",
    "agg_df = combine(grouped, :Salary => mean => :AvgSalary)"
   ]
  },
  {
   "cell_type": "markdown",
   "metadata": {},
   "source": [
    "## Distributions"
   ]
  },
  {
   "cell_type": "code",
   "execution_count": 60,
   "metadata": {},
   "outputs": [
    {
     "name": "stderr",
     "output_type": "stream",
     "text": [
      "\u001b[32m\u001b[1m   Resolving\u001b[22m\u001b[39m package versions...\n",
      "\u001b[32m\u001b[1m  No Changes\u001b[22m\u001b[39m to `~/MolSSI_workshop/Project.toml`\n",
      "\u001b[32m\u001b[1m  No Changes\u001b[22m\u001b[39m to `~/MolSSI_workshop/Manifest.toml`\n"
     ]
    }
   ],
   "source": [
    "Pkg.add(\"Distributions\")\n",
    "using Distributions"
   ]
  },
  {
   "cell_type": "code",
   "execution_count": 61,
   "metadata": {},
   "outputs": [
    {
     "data": {
      "text/plain": [
       "Normal{Float64}(μ=0.0, σ=1.0)"
      ]
     },
     "metadata": {},
     "output_type": "display_data"
    }
   ],
   "source": [
    "# Normal distribution with mean 0 and standard deviation 1\n",
    "normal_dist = Normal(0, 1)"
   ]
  },
  {
   "cell_type": "code",
   "execution_count": 62,
   "metadata": {},
   "outputs": [
    {
     "data": {
      "text/plain": [
       "5-element Vector{Float64}:\n",
       " -1.0462799493948278\n",
       " -1.348220729870889\n",
       " -0.7205446545056656\n",
       " -0.8311737668842218\n",
       " -1.0088956691122002"
      ]
     },
     "metadata": {},
     "output_type": "display_data"
    }
   ],
   "source": [
    "# Generate 5 random samples\n",
    "samples = rand(normal_dist, 5)"
   ]
  },
  {
   "cell_type": "code",
   "execution_count": 63,
   "metadata": {},
   "outputs": [
    {
     "data": {
      "text/plain": [
       "0.3989422804014327"
      ]
     },
     "metadata": {},
     "output_type": "display_data"
    }
   ],
   "source": [
    "# Probability density at x = 0\n",
    "pdf_val = pdf(normal_dist, 0)"
   ]
  },
  {
   "cell_type": "code",
   "execution_count": 64,
   "metadata": {},
   "outputs": [
    {
     "data": {
      "text/plain": [
       "0.841344746068543"
      ]
     },
     "metadata": {},
     "output_type": "display_data"
    }
   ],
   "source": [
    "# Cumulative probability up to x = 1\n",
    "cdf_val = cdf(normal_dist, 1)"
   ]
  },
  {
   "cell_type": "code",
   "execution_count": 65,
   "metadata": {},
   "outputs": [
    {
     "data": {
      "text/plain": [
       "1000-element Vector{Float64}:\n",
       " 0.9869032504647324\n",
       " 6.619048358994415\n",
       " 5.5880226117338285\n",
       " 3.3065108612616454\n",
       " 2.6786781836566274\n",
       " 3.7639600654395204\n",
       " 2.7662225699852985\n",
       " 7.3223130809703\n",
       " 7.156901171859434\n",
       " 8.952953340824712\n",
       " ⋮\n",
       " 5.52366744963457\n",
       " 2.9939600959323855\n",
       " 0.06044137130617866\n",
       " 7.81925605226035\n",
       " 5.188349234948819\n",
       " 6.326507743949226\n",
       " 6.7888763232363925\n",
       " 6.622636379751538\n",
       " 9.02804768153744"
      ]
     },
     "metadata": {},
     "output_type": "display_data"
    }
   ],
   "source": [
    "# Normal distribution: mean = 5, std = 2\n",
    "normal_dist = Normal(5, 2)\n",
    "normal_samples = rand(normal_dist, 1000)"
   ]
  },
  {
   "cell_type": "code",
   "execution_count": 66,
   "metadata": {},
   "outputs": [
    {
     "data": {
      "text/plain": [
       "1000-element Vector{Float64}:\n",
       " 3.408655055446456\n",
       " 9.847220859379696\n",
       " 4.02588165164414\n",
       " 0.19074958893138483\n",
       " 9.7631516978827\n",
       " 2.288378227445839\n",
       " 9.836573822263437\n",
       " 1.0583045847362793\n",
       " 7.89015996949729\n",
       " 4.427656288288762\n",
       " ⋮\n",
       " 0.6956740004625028\n",
       " 8.879466581945435\n",
       " 3.234747237786798\n",
       " 2.621653642894409\n",
       " 7.71261102548787\n",
       " 4.671590272727805\n",
       " 0.2068507100490291\n",
       " 8.688099054659856\n",
       " 5.368852499675678"
      ]
     },
     "metadata": {},
     "output_type": "display_data"
    }
   ],
   "source": [
    "# Uniform distribution: from 0 to 10\n",
    "uniform_dist = Uniform(0, 10)\n",
    "uniform_samples = rand(uniform_dist, 1000)"
   ]
  },
  {
   "cell_type": "code",
   "execution_count": 67,
   "metadata": {},
   "outputs": [
    {
     "data": {
      "text/plain": [
       "1000-element Vector{Int64}:\n",
       " 5\n",
       " 9\n",
       " 8\n",
       " 4\n",
       " 4\n",
       " 7\n",
       " 4\n",
       " 6\n",
       " 2\n",
       " 6\n",
       " ⋮\n",
       " 4\n",
       " 2\n",
       " 3\n",
       " 7\n",
       " 1\n",
       " 2\n",
       " 3\n",
       " 3\n",
       " 1"
      ]
     },
     "metadata": {},
     "output_type": "display_data"
    }
   ],
   "source": [
    "# Poisson distribution: lambda = 4\n",
    "poisson_dist = Poisson(4)\n",
    "poisson_samples = rand(poisson_dist, 1000)"
   ]
  },
  {
   "cell_type": "code",
   "execution_count": null,
   "metadata": {},
   "outputs": [],
   "source": [
    "using Plots"
   ]
  },
  {
   "cell_type": "code",
   "execution_count": 68,
   "metadata": {},
   "outputs": [
    {
     "ename": "UndefVarError",
     "evalue": "UndefVarError: `histogram` not defined",
     "output_type": "error",
     "traceback": [
      "UndefVarError: `histogram` not defined\n",
      "\n",
      "Stacktrace:\n",
      " [1] top-level scope\n",
      "   @ ~/MolSSI_workshop/jl_notebook_cell_df34fa98e69747e1a8f8a730347b8e2f_X43sZmlsZQ==.jl:2"
     ]
    }
   ],
   "source": [
    "# Plot histograms for comparison\n",
    "histogram(normal_samples, bins=30, alpha=0.5, label=\"Normal(5, 2)\", xlabel=\"Value\", ylabel=\"Frequency\")\n",
    "histogram!(uniform_samples, bins=30, alpha=0.5, label=\"Uniform(0, 10)\")\n",
    "histogram!(poisson_samples, bins=30, alpha=0.5, label=\"Poisson(4)\")"
   ]
  }
 ],
 "metadata": {
  "kernelspec": {
   "display_name": "Julia 1.10.0-alpha1",
   "language": "julia",
   "name": "julia-1.10"
  },
  "language_info": {
   "file_extension": ".jl",
   "mimetype": "application/julia",
   "name": "julia",
   "version": "1.10.0-alpha1"
  }
 },
 "nbformat": 4,
 "nbformat_minor": 2
}
