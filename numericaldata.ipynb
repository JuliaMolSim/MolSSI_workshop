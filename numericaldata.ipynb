{
 "cells": [
  {
   "cell_type": "markdown",
   "metadata": {},
   "source": [
    "## Linear Algebra"
   ]
  },
  {
   "cell_type": "code",
   "execution_count": 70,
   "metadata": {},
   "outputs": [],
   "source": [
    "using LinearAlgebra"
   ]
  },
  {
   "cell_type": "code",
   "execution_count": 71,
   "metadata": {},
   "outputs": [
    {
     "data": {
      "text/plain": [
       "3×3 Matrix{Int64}:\n",
       " 1  2  3\n",
       " 4  5  6\n",
       " 7  8  9"
      ]
     },
     "metadata": {},
     "output_type": "display_data"
    }
   ],
   "source": [
    "# Creating a 3x3 matrix\n",
    "A = [1 2 3; 4 5 6; 7 8 9]"
   ]
  },
  {
   "cell_type": "markdown",
   "metadata": {},
   "source": [
    "add symmetric matrices, special matrices types."
   ]
  },
  {
   "cell_type": "code",
   "execution_count": 72,
   "metadata": {},
   "outputs": [
    {
     "data": {
      "text/plain": [
       "-9.516197353929915e-16"
      ]
     },
     "metadata": {},
     "output_type": "display_data"
    }
   ],
   "source": [
    "# Determinant\n",
    "det_A = det(A)"
   ]
  },
  {
   "cell_type": "code",
   "execution_count": 97,
   "metadata": {},
   "outputs": [
    {
     "data": {
      "text/plain": [
       "3×3 Matrix{Float64}:\n",
       "  0.75  -0.25  -0.25\n",
       " -0.25   0.75  -0.25\n",
       " -0.25  -0.25   0.75"
      ]
     },
     "metadata": {},
     "output_type": "display_data"
    }
   ],
   "source": [
    "# Inverse (Note: A is singular, so using a different matrix)\n",
    "B = [2 1 1; 1 2 1; 1 1 2]\n",
    "inv_B = inv(B)"
   ]
  },
  {
   "cell_type": "code",
   "execution_count": 74,
   "metadata": {},
   "outputs": [
    {
     "data": {
      "text/plain": [
       "Eigen{Float64, Float64, Matrix{Float64}, Vector{Float64}}\n",
       "values:\n",
       "3-element Vector{Float64}:\n",
       " 0.9999999999999998\n",
       " 1.0\n",
       " 3.999999999999999\n",
       "vectors:\n",
       "3×3 Matrix{Float64}:\n",
       " -0.408248   0.707107  -0.57735\n",
       " -0.408248  -0.707107  -0.57735\n",
       "  0.816497   0.0       -0.57735"
      ]
     },
     "metadata": {},
     "output_type": "display_data"
    }
   ],
   "source": [
    "# Eigenvalues and eigenvectors\n",
    "eig_B = eigen(B)"
   ]
  },
  {
   "cell_type": "code",
   "execution_count": 75,
   "metadata": {},
   "outputs": [
    {
     "data": {
      "text/plain": [
       "3-element Vector{Float64}:\n",
       " -0.23333333333333334\n",
       "  0.46666666666666673\n",
       "  0.09999999999999994"
      ]
     },
     "metadata": {},
     "output_type": "display_data"
    }
   ],
   "source": [
    "# Solve Ax = b where A is 3x3 matrix and b is a vector\n",
    "b = [1, 2, 3]\n",
    "x = A \\ b"
   ]
  },
  {
   "cell_type": "markdown",
   "metadata": {},
   "source": [
    "#### Solving a system of equations"
   ]
  },
  {
   "cell_type": "code",
   "execution_count": 76,
   "metadata": {},
   "outputs": [
    {
     "data": {
      "text/plain": [
       "3-element Vector{Int64}:\n",
       "   8\n",
       " -11\n",
       "  -3"
      ]
     },
     "metadata": {},
     "output_type": "display_data"
    }
   ],
   "source": [
    "# Define matrix A and vector b\n",
    "A = [2 1 -1; -3 -1 2; -2 1 2]\n",
    "b = [8, -11, -3]"
   ]
  },
  {
   "cell_type": "code",
   "execution_count": 77,
   "metadata": {},
   "outputs": [
    {
     "data": {
      "text/plain": [
       "3-element Vector{Float64}:\n",
       "  2.0000000000000004\n",
       "  2.9999999999999996\n",
       " -0.9999999999999991"
      ]
     },
     "metadata": {},
     "output_type": "display_data"
    }
   ],
   "source": [
    "# Solve for x using the backslash operator\n",
    "x = A \\ b"
   ]
  },
  {
   "cell_type": "code",
   "execution_count": 78,
   "metadata": {},
   "outputs": [
    {
     "name": "stdout",
     "output_type": "stream",
     "text": [
      "The solution is: [2.0000000000000004, 2.9999999999999996, -0.9999999999999991]\n"
     ]
    }
   ],
   "source": [
    "# Display the solution\n",
    "println(\"The solution is: \", x)"
   ]
  },
  {
   "cell_type": "markdown",
   "metadata": {},
   "source": [
    "##### More advanced problem"
   ]
  },
  {
   "cell_type": "code",
   "execution_count": 79,
   "metadata": {},
   "outputs": [
    {
     "name": "stdout",
     "output_type": "stream",
     "text": [
      "Solution x: [0.6235294117647063, 0.7176470588235293, 2.3529411764705888, 1.294117647058824]\n",
      "Rank of A: 4\n",
      "Null space of A: Matrix{Float64}(undef, 4, 0)\n",
      "Condition number of A: 7.4635161399954475\n"
     ]
    }
   ],
   "source": [
    "# Define matrix A and vector b\n",
    "A = [1 2 -1 1; 2 -1 3 -2; -3 4 2 1; 1 -3 2 -4]\n",
    "b = [1, 5, 7, -2]\n",
    "\n",
    "# Solve for x using the backslash operator\n",
    "x = A \\ b\n",
    "\n",
    "# Compute the rank of A\n",
    "rank_A = rank(A)\n",
    "\n",
    "# Compute the null space of A\n",
    "null_space_A = nullspace(A)\n",
    "\n",
    "# Compute the condition number of A\n",
    "cond_A = cond(A)\n",
    "\n",
    "# Display results\n",
    "println(\"Solution x: \", x)\n",
    "println(\"Rank of A: \", rank_A)\n",
    "println(\"Null space of A: \", null_space_A)\n",
    "println(\"Condition number of A: \", cond_A)"
   ]
  },
  {
   "cell_type": "markdown",
   "metadata": {},
   "source": [
    "## DataFrames"
   ]
  },
  {
   "cell_type": "code",
   "execution_count": 80,
   "metadata": {},
   "outputs": [
    {
     "name": "stderr",
     "output_type": "stream",
     "text": [
      "\u001b[32m\u001b[1m   Resolving\u001b[22m\u001b[39m package versions...\n",
      "\u001b[32m\u001b[1m  No Changes\u001b[22m\u001b[39m to `~/MolSSI_workshop/Project.toml`\n",
      "\u001b[32m\u001b[1m  No Changes\u001b[22m\u001b[39m to `~/MolSSI_workshop/Manifest.toml`\n"
     ]
    }
   ],
   "source": [
    "using Pkg\n",
    "Pkg.add(\"DataFrames\")\n",
    "using DataFrames"
   ]
  },
  {
   "cell_type": "code",
   "execution_count": 81,
   "metadata": {},
   "outputs": [
    {
     "data": {
      "text/html": [
       "<div><div style = \"float: left;\"><span>3×3 DataFrame</span></div><div style = \"clear: both;\"></div></div><div class = \"data-frame\" style = \"overflow-x: scroll;\"><table class = \"data-frame\" style = \"margin-bottom: 6px;\"><thead><tr class = \"header\"><th class = \"rowNumber\" style = \"font-weight: bold; text-align: right;\">Row</th><th style = \"text-align: left;\">Name</th><th style = \"text-align: left;\">Age</th><th style = \"text-align: left;\">Salary</th></tr><tr class = \"subheader headerLastRow\"><th class = \"rowNumber\" style = \"font-weight: bold; text-align: right;\"></th><th title = \"String\" style = \"text-align: left;\">String</th><th title = \"Int64\" style = \"text-align: left;\">Int64</th><th title = \"Int64\" style = \"text-align: left;\">Int64</th></tr></thead><tbody><tr><td class = \"rowNumber\" style = \"font-weight: bold; text-align: right;\">1</td><td style = \"text-align: left;\">John</td><td style = \"text-align: right;\">28</td><td style = \"text-align: right;\">50000</td></tr><tr><td class = \"rowNumber\" style = \"font-weight: bold; text-align: right;\">2</td><td style = \"text-align: left;\">Jane</td><td style = \"text-align: right;\">34</td><td style = \"text-align: right;\">62000</td></tr><tr><td class = \"rowNumber\" style = \"font-weight: bold; text-align: right;\">3</td><td style = \"text-align: left;\">Jim</td><td style = \"text-align: right;\">45</td><td style = \"text-align: right;\">72000</td></tr></tbody></table></div>"
      ],
      "text/latex": [
       "\\begin{tabular}{r|ccc}\n",
       "\t& Name & Age & Salary\\\\\n",
       "\t\\hline\n",
       "\t& String & Int64 & Int64\\\\\n",
       "\t\\hline\n",
       "\t1 & John & 28 & 50000 \\\\\n",
       "\t2 & Jane & 34 & 62000 \\\\\n",
       "\t3 & Jim & 45 & 72000 \\\\\n",
       "\\end{tabular}\n"
      ],
      "text/plain": [
       "\u001b[1m3×3 DataFrame\u001b[0m\n",
       "\u001b[1m Row \u001b[0m│\u001b[1m Name   \u001b[0m\u001b[1m Age   \u001b[0m\u001b[1m Salary \u001b[0m\n",
       "     │\u001b[90m String \u001b[0m\u001b[90m Int64 \u001b[0m\u001b[90m Int64  \u001b[0m\n",
       "─────┼───────────────────────\n",
       "   1 │ John       28   50000\n",
       "   2 │ Jane       34   62000\n",
       "   3 │ Jim        45   72000"
      ]
     },
     "metadata": {},
     "output_type": "display_data"
    }
   ],
   "source": [
    "# Create a DataFrame\n",
    "df = DataFrame(Name=[\"John\", \"Jane\", \"Jim\"], Age=[28, 34, 45], Salary=[50000, 62000, 72000])"
   ]
  },
  {
   "cell_type": "code",
   "execution_count": 82,
   "metadata": {},
   "outputs": [
    {
     "name": "stdout",
     "output_type": "stream",
     "text": [
      "\u001b[1m3×3 DataFrame\u001b[0m\n",
      "\u001b[1m Row \u001b[0m│\u001b[1m Name   \u001b[0m\u001b[1m Age   \u001b[0m\u001b[1m Salary \u001b[0m\n",
      "     │\u001b[90m String \u001b[0m\u001b[90m Int64 \u001b[0m\u001b[90m Int64  \u001b[0m\n",
      "─────┼───────────────────────\n",
      "   1 │ John       28   50000\n",
      "   2 │ Jane       34   62000\n",
      "   3 │ Jim        45   72000\n"
     ]
    }
   ],
   "source": [
    "# View the DataFrame\n",
    "println(df)"
   ]
  },
  {
   "cell_type": "code",
   "execution_count": 83,
   "metadata": {},
   "outputs": [
    {
     "data": {
      "text/plain": [
       "3-element Vector{String}:\n",
       " \"Single\"\n",
       " \"Married\"\n",
       " \"Single\""
      ]
     },
     "metadata": {},
     "output_type": "display_data"
    }
   ],
   "source": [
    "# Add a new column\n",
    "df.Status = [\"Single\", \"Married\", \"Single\"]"
   ]
  },
  {
   "cell_type": "code",
   "execution_count": 84,
   "metadata": {},
   "outputs": [
    {
     "data": {
      "text/html": [
       "<div><div style = \"float: left;\"><span>2×4 DataFrame</span></div><div style = \"clear: both;\"></div></div><div class = \"data-frame\" style = \"overflow-x: scroll;\"><table class = \"data-frame\" style = \"margin-bottom: 6px;\"><thead><tr class = \"header\"><th class = \"rowNumber\" style = \"font-weight: bold; text-align: right;\">Row</th><th style = \"text-align: left;\">Name</th><th style = \"text-align: left;\">Age</th><th style = \"text-align: left;\">Salary</th><th style = \"text-align: left;\">Status</th></tr><tr class = \"subheader headerLastRow\"><th class = \"rowNumber\" style = \"font-weight: bold; text-align: right;\"></th><th title = \"String\" style = \"text-align: left;\">String</th><th title = \"Int64\" style = \"text-align: left;\">Int64</th><th title = \"Int64\" style = \"text-align: left;\">Int64</th><th title = \"String\" style = \"text-align: left;\">String</th></tr></thead><tbody><tr><td class = \"rowNumber\" style = \"font-weight: bold; text-align: right;\">1</td><td style = \"text-align: left;\">Jane</td><td style = \"text-align: right;\">34</td><td style = \"text-align: right;\">62000</td><td style = \"text-align: left;\">Married</td></tr><tr><td class = \"rowNumber\" style = \"font-weight: bold; text-align: right;\">2</td><td style = \"text-align: left;\">Jim</td><td style = \"text-align: right;\">45</td><td style = \"text-align: right;\">72000</td><td style = \"text-align: left;\">Single</td></tr></tbody></table></div>"
      ],
      "text/latex": [
       "\\begin{tabular}{r|cccc}\n",
       "\t& Name & Age & Salary & Status\\\\\n",
       "\t\\hline\n",
       "\t& String & Int64 & Int64 & String\\\\\n",
       "\t\\hline\n",
       "\t1 & Jane & 34 & 62000 & Married \\\\\n",
       "\t2 & Jim & 45 & 72000 & Single \\\\\n",
       "\\end{tabular}\n"
      ],
      "text/plain": [
       "\u001b[1m2×4 DataFrame\u001b[0m\n",
       "\u001b[1m Row \u001b[0m│\u001b[1m Name   \u001b[0m\u001b[1m Age   \u001b[0m\u001b[1m Salary \u001b[0m\u001b[1m Status  \u001b[0m\n",
       "     │\u001b[90m String \u001b[0m\u001b[90m Int64 \u001b[0m\u001b[90m Int64  \u001b[0m\u001b[90m String  \u001b[0m\n",
       "─────┼────────────────────────────────\n",
       "   1 │ Jane       34   62000  Married\n",
       "   2 │ Jim        45   72000  Single"
      ]
     },
     "metadata": {},
     "output_type": "display_data"
    }
   ],
   "source": [
    "# Filter rows where Age > 30\n",
    "filtered_df = filter(row -> row.Age > 30, df)"
   ]
  },
  {
   "cell_type": "code",
   "execution_count": 85,
   "metadata": {},
   "outputs": [
    {
     "data": {
      "text/html": [
       "<div><div style = \"float: left;\"><span>4×7 DataFrame</span></div><div style = \"clear: both;\"></div></div><div class = \"data-frame\" style = \"overflow-x: scroll;\"><table class = \"data-frame\" style = \"margin-bottom: 6px;\"><thead><tr class = \"header\"><th class = \"rowNumber\" style = \"font-weight: bold; text-align: right;\">Row</th><th style = \"text-align: left;\">variable</th><th style = \"text-align: left;\">mean</th><th style = \"text-align: left;\">min</th><th style = \"text-align: left;\">median</th><th style = \"text-align: left;\">max</th><th style = \"text-align: left;\">nmissing</th><th style = \"text-align: left;\">eltype</th></tr><tr class = \"subheader headerLastRow\"><th class = \"rowNumber\" style = \"font-weight: bold; text-align: right;\"></th><th title = \"Symbol\" style = \"text-align: left;\">Symbol</th><th title = \"Union{Nothing, Float64}\" style = \"text-align: left;\">Union…</th><th title = \"Any\" style = \"text-align: left;\">Any</th><th title = \"Union{Nothing, Float64}\" style = \"text-align: left;\">Union…</th><th title = \"Any\" style = \"text-align: left;\">Any</th><th title = \"Int64\" style = \"text-align: left;\">Int64</th><th title = \"DataType\" style = \"text-align: left;\">DataType</th></tr></thead><tbody><tr><td class = \"rowNumber\" style = \"font-weight: bold; text-align: right;\">1</td><td style = \"text-align: left;\">Name</td><td style = \"font-style: italic; text-align: left;\"></td><td style = \"text-align: left;\">Jane</td><td style = \"font-style: italic; text-align: left;\"></td><td style = \"text-align: left;\">John</td><td style = \"text-align: right;\">0</td><td style = \"text-align: left;\">String</td></tr><tr><td class = \"rowNumber\" style = \"font-weight: bold; text-align: right;\">2</td><td style = \"text-align: left;\">Age</td><td style = \"text-align: left;\">35.6667</td><td style = \"text-align: left;\">28</td><td style = \"text-align: left;\">34.0</td><td style = \"text-align: left;\">45</td><td style = \"text-align: right;\">0</td><td style = \"text-align: left;\">Int64</td></tr><tr><td class = \"rowNumber\" style = \"font-weight: bold; text-align: right;\">3</td><td style = \"text-align: left;\">Salary</td><td style = \"text-align: left;\">61333.3</td><td style = \"text-align: left;\">50000</td><td style = \"text-align: left;\">62000.0</td><td style = \"text-align: left;\">72000</td><td style = \"text-align: right;\">0</td><td style = \"text-align: left;\">Int64</td></tr><tr><td class = \"rowNumber\" style = \"font-weight: bold; text-align: right;\">4</td><td style = \"text-align: left;\">Status</td><td style = \"font-style: italic; text-align: left;\"></td><td style = \"text-align: left;\">Married</td><td style = \"font-style: italic; text-align: left;\"></td><td style = \"text-align: left;\">Single</td><td style = \"text-align: right;\">0</td><td style = \"text-align: left;\">String</td></tr></tbody></table></div>"
      ],
      "text/latex": [
       "\\begin{tabular}{r|ccccccc}\n",
       "\t& variable & mean & min & median & max & nmissing & eltype\\\\\n",
       "\t\\hline\n",
       "\t& Symbol & Union… & Any & Union… & Any & Int64 & DataType\\\\\n",
       "\t\\hline\n",
       "\t1 & Name &  & Jane &  & John & 0 & String \\\\\n",
       "\t2 & Age & 35.6667 & 28 & 34.0 & 45 & 0 & Int64 \\\\\n",
       "\t3 & Salary & 61333.3 & 50000 & 62000.0 & 72000 & 0 & Int64 \\\\\n",
       "\t4 & Status &  & Married &  & Single & 0 & String \\\\\n",
       "\\end{tabular}\n"
      ],
      "text/plain": [
       "\u001b[1m4×7 DataFrame\u001b[0m\n",
       "\u001b[1m Row \u001b[0m│\u001b[1m variable \u001b[0m\u001b[1m mean    \u001b[0m\u001b[1m min     \u001b[0m\u001b[1m median  \u001b[0m\u001b[1m max    \u001b[0m\u001b[1m nmissing \u001b[0m\u001b[1m eltype   \u001b[0m\n",
       "     │\u001b[90m Symbol   \u001b[0m\u001b[90m Union…  \u001b[0m\u001b[90m Any     \u001b[0m\u001b[90m Union…  \u001b[0m\u001b[90m Any    \u001b[0m\u001b[90m Int64    \u001b[0m\u001b[90m DataType \u001b[0m\n",
       "─────┼─────────────────────────────────────────────────────────────────\n",
       "   1 │ Name     \u001b[90m         \u001b[0m Jane    \u001b[90m         \u001b[0m John           0  String\n",
       "   2 │ Age       35.6667  28       34.0     45             0  Int64\n",
       "   3 │ Salary    61333.3  50000    62000.0  72000          0  Int64\n",
       "   4 │ Status   \u001b[90m         \u001b[0m Married \u001b[90m         \u001b[0m Single         0  String"
      ]
     },
     "metadata": {},
     "output_type": "display_data"
    }
   ],
   "source": [
    "# Summary statistics\n",
    "describe(df)"
   ]
  },
  {
   "cell_type": "code",
   "execution_count": 86,
   "metadata": {},
   "outputs": [
    {
     "data": {
      "text/html": [
       "<div><div style = \"float: left;\"><span>2×2 DataFrame</span></div><div style = \"clear: both;\"></div></div><div class = \"data-frame\" style = \"overflow-x: scroll;\"><table class = \"data-frame\" style = \"margin-bottom: 6px;\"><thead><tr class = \"header\"><th class = \"rowNumber\" style = \"font-weight: bold; text-align: right;\">Row</th><th style = \"text-align: left;\">Status</th><th style = \"text-align: left;\">AvgSalary</th></tr><tr class = \"subheader headerLastRow\"><th class = \"rowNumber\" style = \"font-weight: bold; text-align: right;\"></th><th title = \"String\" style = \"text-align: left;\">String</th><th title = \"Float64\" style = \"text-align: left;\">Float64</th></tr></thead><tbody><tr><td class = \"rowNumber\" style = \"font-weight: bold; text-align: right;\">1</td><td style = \"text-align: left;\">Single</td><td style = \"text-align: right;\">61000.0</td></tr><tr><td class = \"rowNumber\" style = \"font-weight: bold; text-align: right;\">2</td><td style = \"text-align: left;\">Married</td><td style = \"text-align: right;\">62000.0</td></tr></tbody></table></div>"
      ],
      "text/latex": [
       "\\begin{tabular}{r|cc}\n",
       "\t& Status & AvgSalary\\\\\n",
       "\t\\hline\n",
       "\t& String & Float64\\\\\n",
       "\t\\hline\n",
       "\t1 & Single & 61000.0 \\\\\n",
       "\t2 & Married & 62000.0 \\\\\n",
       "\\end{tabular}\n"
      ],
      "text/plain": [
       "\u001b[1m2×2 DataFrame\u001b[0m\n",
       "\u001b[1m Row \u001b[0m│\u001b[1m Status  \u001b[0m\u001b[1m AvgSalary \u001b[0m\n",
       "     │\u001b[90m String  \u001b[0m\u001b[90m Float64   \u001b[0m\n",
       "─────┼────────────────────\n",
       "   1 │ Single     61000.0\n",
       "   2 │ Married    62000.0"
      ]
     },
     "metadata": {},
     "output_type": "display_data"
    }
   ],
   "source": [
    "# Group by Status and calculate average Salary\n",
    "grouped = groupby(df, :Status)\n",
    "agg_df = combine(grouped, :Salary => mean => :AvgSalary)"
   ]
  },
  {
   "cell_type": "markdown",
   "metadata": {},
   "source": [
    "## Distributions"
   ]
  },
  {
   "cell_type": "code",
   "execution_count": 87,
   "metadata": {},
   "outputs": [
    {
     "name": "stderr",
     "output_type": "stream",
     "text": [
      "\u001b[32m\u001b[1m   Resolving\u001b[22m\u001b[39m package versions...\n",
      "\u001b[32m\u001b[1m  No Changes\u001b[22m\u001b[39m to `~/MolSSI_workshop/Project.toml`\n",
      "\u001b[32m\u001b[1m  No Changes\u001b[22m\u001b[39m to `~/MolSSI_workshop/Manifest.toml`\n"
     ]
    }
   ],
   "source": [
    "Pkg.add(\"Distributions\")\n",
    "using Distributions"
   ]
  },
  {
   "cell_type": "code",
   "execution_count": 88,
   "metadata": {},
   "outputs": [
    {
     "data": {
      "text/plain": [
       "Normal{Float64}(μ=0.0, σ=1.0)"
      ]
     },
     "metadata": {},
     "output_type": "display_data"
    }
   ],
   "source": [
    "# Normal distribution with mean 0 and standard deviation 1\n",
    "normal_dist = Normal(0, 1)"
   ]
  },
  {
   "cell_type": "code",
   "execution_count": 89,
   "metadata": {},
   "outputs": [
    {
     "data": {
      "text/plain": [
       "5-element Vector{Float64}:\n",
       "  0.1634643879489759\n",
       " -0.7636062785789774\n",
       "  0.024230224229801797\n",
       " -0.4279328205665096\n",
       "  1.081452341212532"
      ]
     },
     "metadata": {},
     "output_type": "display_data"
    }
   ],
   "source": [
    "# Generate 5 random samples\n",
    "samples = rand(normal_dist, 5)"
   ]
  },
  {
   "cell_type": "code",
   "execution_count": 90,
   "metadata": {},
   "outputs": [
    {
     "data": {
      "text/plain": [
       "0.3989422804014327"
      ]
     },
     "metadata": {},
     "output_type": "display_data"
    }
   ],
   "source": [
    "# Probability density at x = 0\n",
    "pdf_val = pdf(normal_dist, 0)"
   ]
  },
  {
   "cell_type": "code",
   "execution_count": 91,
   "metadata": {},
   "outputs": [
    {
     "data": {
      "text/plain": [
       "0.841344746068543"
      ]
     },
     "metadata": {},
     "output_type": "display_data"
    }
   ],
   "source": [
    "# Cumulative probability up to x = 1\n",
    "cdf_val = cdf(normal_dist, 1)"
   ]
  },
  {
   "cell_type": "code",
   "execution_count": 92,
   "metadata": {},
   "outputs": [
    {
     "data": {
      "text/plain": [
       "1000-element Vector{Float64}:\n",
       "  4.515770386345241\n",
       "  3.409216637756963\n",
       "  5.7947214686151165\n",
       "  5.618880747443759\n",
       "  5.515381578642006\n",
       "  2.7951261756792607\n",
       "  3.838388925501308\n",
       " -0.4870140142366708\n",
       "  6.792866969126076\n",
       "  5.527255080208777\n",
       "  ⋮\n",
       "  5.073773976742111\n",
       "  2.4165795861238286\n",
       "  3.8872607086131814\n",
       "  7.359142869940655\n",
       "  6.847873427449165\n",
       "  4.933102248502875\n",
       "  3.102806529948448\n",
       "  7.215689981960314\n",
       "  4.211165545674135"
      ]
     },
     "metadata": {},
     "output_type": "display_data"
    }
   ],
   "source": [
    "# Normal distribution: mean = 5, std = 2\n",
    "normal_dist = Normal(5, 2)\n",
    "normal_samples = rand(normal_dist, 1000)"
   ]
  },
  {
   "cell_type": "code",
   "execution_count": 93,
   "metadata": {},
   "outputs": [
    {
     "data": {
      "text/plain": [
       "1000-element Vector{Float64}:\n",
       " 8.59534225238727\n",
       " 9.691146044068882\n",
       " 6.443053046355061\n",
       " 6.116737567480357\n",
       " 1.4081665785657316\n",
       " 5.8767463984142125\n",
       " 5.561534322653905\n",
       " 2.621072939137025\n",
       " 6.710473236816119\n",
       " 9.611093323143226\n",
       " ⋮\n",
       " 6.559165077618666\n",
       " 1.7151704102524357\n",
       " 4.367398108640465\n",
       " 5.5854832454134655\n",
       " 1.119292011475056\n",
       " 7.644123067238111\n",
       " 7.513068629828497\n",
       " 2.3121837122687627\n",
       " 4.618349512774598"
      ]
     },
     "metadata": {},
     "output_type": "display_data"
    }
   ],
   "source": [
    "# Uniform distribution: from 0 to 10\n",
    "uniform_dist = Uniform(0, 10)\n",
    "uniform_samples = rand(uniform_dist, 1000)"
   ]
  },
  {
   "cell_type": "code",
   "execution_count": 94,
   "metadata": {},
   "outputs": [
    {
     "data": {
      "text/plain": [
       "1000-element Vector{Int64}:\n",
       " 5\n",
       " 4\n",
       " 3\n",
       " 4\n",
       " 4\n",
       " 3\n",
       " 6\n",
       " 5\n",
       " 2\n",
       " 6\n",
       " ⋮\n",
       " 3\n",
       " 2\n",
       " 4\n",
       " 3\n",
       " 6\n",
       " 1\n",
       " 4\n",
       " 6\n",
       " 3"
      ]
     },
     "metadata": {},
     "output_type": "display_data"
    }
   ],
   "source": [
    "# Poisson distribution: lambda = 4\n",
    "poisson_dist = Poisson(4)\n",
    "poisson_samples = rand(poisson_dist, 1000)"
   ]
  },
  {
   "cell_type": "code",
   "execution_count": 95,
   "metadata": {},
   "outputs": [],
   "source": [
    "using Plots"
   ]
  },
  {
   "cell_type": "code",
   "execution_count": 96,
   "metadata": {},
   "outputs": [
    {
     "data": {
      "image/png": "[encoded data removed]",
      "image/svg+xml": [
       "<?xml version=\"1.0\" encoding=\"utf-8\"?>\n",
       "<svg xmlns=\"http://www.w3.org/2000/svg\" xmlns:xlink=\"http://www.w3.org/1999/xlink\" width=\"600\" height=\"400\" viewBox=\"0 0 2400 1600\">\n",
       "<defs>\n",
       "  <clipPath id=\"clip160\">\n",
       "    <rect x=\"0\" y=\"0\" width=\"2400\" height=\"1600\"/>\n",
       "  </clipPath>\n",
       "</defs>\n",
       "<path clip-path=\"url(#clip160)\" d=\"M0 1600 L2400 1600 L2400 8.88178e-14 L0 8.88178e-14  Z\" fill=\"#ffffff\" fill-rule=\"evenodd\" fill-opacity=\"1\"/>\n",
       "<defs>\n",
       "  <clipPath id=\"clip161\">\n",
       "    <rect x=\"480\" y=\"0\" width=\"1681\" height=\"1600\"/>\n",
       "  </clipPath>\n",
       "</defs>\n",
       "<path clip-path=\"url(#clip160)\" d=\"M234.125 1423.18 L2352.76 1423.18 L2352.76 47.2441 L234.125 47.2441  Z\" fill=\"#ffffff\" fill-rule=\"evenodd\" fill-opacity=\"1\"/>\n",
       "<defs>\n",
       "  <clipPath id=\"clip162\">\n",
       "    <rect x=\"234\" y=\"47\" width=\"2120\" height=\"1377\"/>\n",
       "  </clipPath>\n",
       "</defs>\n",
       "<polyline clip-path=\"url(#clip162)\" style=\"stroke:#000000; stroke-linecap:round; stroke-linejoin:round; stroke-width:2; stroke-opacity:0.1; fill:none\" points=\"342.241,1423.18 342.241,47.2441 \"/>\n",
       "<polyline clip-path=\"url(#clip162)\" style=\"stroke:#000000; stroke-linecap:round; stroke-linejoin:round; stroke-width:2; stroke-opacity:0.1; fill:none\" points=\"639.491,1423.18 639.491,47.2441 \"/>\n",
       "<polyline clip-path=\"url(#clip162)\" style=\"stroke:#000000; stroke-linecap:round; stroke-linejoin:round; stroke-width:2; stroke-opacity:0.1; fill:none\" points=\"936.741,1423.18 936.741,47.2441 \"/>\n",
       "<polyline clip-path=\"url(#clip162)\" style=\"stroke:#000000; stroke-linecap:round; stroke-linejoin:round; stroke-width:2; stroke-opacity:0.1; fill:none\" points=\"1233.99,1423.18 1233.99,47.2441 \"/>\n",
       "<polyline clip-path=\"url(#clip162)\" style=\"stroke:#000000; stroke-linecap:round; stroke-linejoin:round; stroke-width:2; stroke-opacity:0.1; fill:none\" points=\"1531.24,1423.18 1531.24,47.2441 \"/>\n",
       "<polyline clip-path=\"url(#clip162)\" style=\"stroke:#000000; stroke-linecap:round; stroke-linejoin:round; stroke-width:2; stroke-opacity:0.1; fill:none\" points=\"1828.49,1423.18 1828.49,47.2441 \"/>\n",
       "<polyline clip-path=\"url(#clip162)\" style=\"stroke:#000000; stroke-linecap:round; stroke-linejoin:round; stroke-width:2; stroke-opacity:0.1; fill:none\" points=\"2125.74,1423.18 2125.74,47.2441 \"/>\n",
       "<polyline clip-path=\"url(#clip162)\" style=\"stroke:#000000; stroke-linecap:round; stroke-linejoin:round; stroke-width:2; stroke-opacity:0.1; fill:none\" points=\"234.125,1423.18 2352.76,1423.18 \"/>\n",
       "<polyline clip-path=\"url(#clip162)\" style=\"stroke:#000000; stroke-linecap:round; stroke-linejoin:round; stroke-width:2; stroke-opacity:0.1; fill:none\" points=\"234.125,1089.21 2352.76,1089.21 \"/>\n",
       "<polyline clip-path=\"url(#clip162)\" style=\"stroke:#000000; stroke-linecap:round; stroke-linejoin:round; stroke-width:2; stroke-opacity:0.1; fill:none\" points=\"234.125,755.25 2352.76,755.25 \"/>\n",
       "<polyline clip-path=\"url(#clip162)\" style=\"stroke:#000000; stroke-linecap:round; stroke-linejoin:round; stroke-width:2; stroke-opacity:0.1; fill:none\" points=\"234.125,421.285 2352.76,421.285 \"/>\n",
       "<polyline clip-path=\"url(#clip162)\" style=\"stroke:#000000; stroke-linecap:round; stroke-linejoin:round; stroke-width:2; stroke-opacity:0.1; fill:none\" points=\"234.125,87.3199 2352.76,87.3199 \"/>\n",
       "<polyline clip-path=\"url(#clip160)\" style=\"stroke:#000000; stroke-linecap:round; stroke-linejoin:round; stroke-width:4; stroke-opacity:1; fill:none\" points=\"234.125,1423.18 2352.76,1423.18 \"/>\n",
       "<polyline clip-path=\"url(#clip160)\" style=\"stroke:#000000; stroke-linecap:round; stroke-linejoin:round; stroke-width:4; stroke-opacity:1; fill:none\" points=\"342.241,1423.18 342.241,1404.28 \"/>\n",
       "<polyline clip-path=\"url(#clip160)\" style=\"stroke:#000000; stroke-linecap:round; stroke-linejoin:round; stroke-width:4; stroke-opacity:1; fill:none\" points=\"639.491,1423.18 639.491,1404.28 \"/>\n",
       "<polyline clip-path=\"url(#clip160)\" style=\"stroke:#000000; stroke-linecap:round; stroke-linejoin:round; stroke-width:4; stroke-opacity:1; fill:none\" points=\"936.741,1423.18 936.741,1404.28 \"/>\n",
       "<polyline clip-path=\"url(#clip160)\" style=\"stroke:#000000; stroke-linecap:round; stroke-linejoin:round; stroke-width:4; stroke-opacity:1; fill:none\" points=\"1233.99,1423.18 1233.99,1404.28 \"/>\n",
       "<polyline clip-path=\"url(#clip160)\" style=\"stroke:#000000; stroke-linecap:round; stroke-linejoin:round; stroke-width:4; stroke-opacity:1; fill:none\" points=\"1531.24,1423.18 1531.24,1404.28 \"/>\n",
       "<polyline clip-path=\"url(#clip160)\" style=\"stroke:#000000; stroke-linecap:round; stroke-linejoin:round; stroke-width:4; stroke-opacity:1; fill:none\" points=\"1828.49,1423.18 1828.49,1404.28 \"/>\n",
       "<polyline clip-path=\"url(#clip160)\" style=\"stroke:#000000; stroke-linecap:round; stroke-linejoin:round; stroke-width:4; stroke-opacity:1; fill:none\" points=\"2125.74,1423.18 2125.74,1404.28 \"/>\n",
       "<path clip-path=\"url(#clip160)\" d=\"M289.267 1468.75 L318.943 1468.75 L318.943 1472.69 L289.267 1472.69 L289.267 1468.75 Z\" fill=\"#000000\" fill-rule=\"nonzero\" fill-opacity=\"1\" /><path clip-path=\"url(#clip160)\" d=\"M333.063 1481.64 L349.382 1481.64 L349.382 1485.58 L327.438 1485.58 L327.438 1481.64 Q330.1 1478.89 334.683 1474.26 Q339.29 1469.61 340.47 1468.27 Q342.716 1465.74 343.595 1464.01 Q344.498 1462.25 344.498 1460.56 Q344.498 1457.8 342.554 1456.07 Q340.632 1454.33 337.531 1454.33 Q335.331 1454.33 332.878 1455.09 Q330.447 1455.86 327.669 1457.41 L327.669 1452.69 Q330.494 1451.55 332.947 1450.97 Q335.401 1450.39 337.438 1450.39 Q342.808 1450.39 346.003 1453.08 Q349.197 1455.77 349.197 1460.26 Q349.197 1462.39 348.387 1464.31 Q347.6 1466.2 345.493 1468.8 Q344.915 1469.47 341.813 1472.69 Q338.711 1475.88 333.063 1481.64 Z\" fill=\"#000000\" fill-rule=\"nonzero\" fill-opacity=\"1\" /><path clip-path=\"url(#clip160)\" d=\"M359.197 1479.7 L364.081 1479.7 L364.081 1485.58 L359.197 1485.58 L359.197 1479.7 Z\" fill=\"#000000\" fill-rule=\"nonzero\" fill-opacity=\"1\" /><path clip-path=\"url(#clip160)\" d=\"M374.313 1451.02 L392.669 1451.02 L392.669 1454.96 L378.595 1454.96 L378.595 1463.43 Q379.614 1463.08 380.632 1462.92 Q381.651 1462.73 382.669 1462.73 Q388.456 1462.73 391.836 1465.9 Q395.215 1469.08 395.215 1474.49 Q395.215 1480.07 391.743 1483.17 Q388.271 1486.25 381.952 1486.25 Q379.776 1486.25 377.507 1485.88 Q375.262 1485.51 372.854 1484.77 L372.854 1480.07 Q374.938 1481.2 377.16 1481.76 Q379.382 1482.32 381.859 1482.32 Q385.864 1482.32 388.202 1480.21 Q390.54 1478.1 390.54 1474.49 Q390.54 1470.88 388.202 1468.77 Q385.864 1466.67 381.859 1466.67 Q379.984 1466.67 378.109 1467.08 Q376.257 1467.5 374.313 1468.38 L374.313 1451.02 Z\" fill=\"#000000\" fill-rule=\"nonzero\" fill-opacity=\"1\" /><path clip-path=\"url(#clip160)\" d=\"M616.875 1454.1 Q613.264 1454.1 611.436 1457.66 Q609.63 1461.2 609.63 1468.33 Q609.63 1475.44 611.436 1479.01 Q613.264 1482.55 616.875 1482.55 Q620.51 1482.55 622.315 1479.01 Q624.144 1475.44 624.144 1468.33 Q624.144 1461.2 622.315 1457.66 Q620.51 1454.1 616.875 1454.1 M616.875 1450.39 Q622.686 1450.39 625.741 1455 Q628.82 1459.58 628.82 1468.33 Q628.82 1477.06 625.741 1481.67 Q622.686 1486.25 616.875 1486.25 Q611.065 1486.25 607.987 1481.67 Q604.931 1477.06 604.931 1468.33 Q604.931 1459.58 607.987 1455 Q611.065 1450.39 616.875 1450.39 Z\" fill=\"#000000\" fill-rule=\"nonzero\" fill-opacity=\"1\" /><path clip-path=\"url(#clip160)\" d=\"M637.037 1479.7 L641.922 1479.7 L641.922 1485.58 L637.037 1485.58 L637.037 1479.7 Z\" fill=\"#000000\" fill-rule=\"nonzero\" fill-opacity=\"1\" /><path clip-path=\"url(#clip160)\" d=\"M662.107 1454.1 Q658.496 1454.1 656.667 1457.66 Q654.861 1461.2 654.861 1468.33 Q654.861 1475.44 656.667 1479.01 Q658.496 1482.55 662.107 1482.55 Q665.741 1482.55 667.546 1479.01 Q669.375 1475.44 669.375 1468.33 Q669.375 1461.2 667.546 1457.66 Q665.741 1454.1 662.107 1454.1 M662.107 1450.39 Q667.917 1450.39 670.972 1455 Q674.051 1459.58 674.051 1468.33 Q674.051 1477.06 670.972 1481.67 Q667.917 1486.25 662.107 1486.25 Q656.296 1486.25 653.218 1481.67 Q650.162 1477.06 650.162 1468.33 Q650.162 1459.58 653.218 1455 Q656.296 1450.39 662.107 1450.39 Z\" fill=\"#000000\" fill-rule=\"nonzero\" fill-opacity=\"1\" /><path clip-path=\"url(#clip160)\" d=\"M908.477 1481.64 L924.796 1481.64 L924.796 1485.58 L902.852 1485.58 L902.852 1481.64 Q905.514 1478.89 910.097 1474.26 Q914.704 1469.61 915.884 1468.27 Q918.13 1465.74 919.009 1464.01 Q919.912 1462.25 919.912 1460.56 Q919.912 1457.8 917.968 1456.07 Q916.047 1454.33 912.945 1454.33 Q910.746 1454.33 908.292 1455.09 Q905.861 1455.86 903.084 1457.41 L903.084 1452.69 Q905.908 1451.55 908.361 1450.97 Q910.815 1450.39 912.852 1450.39 Q918.222 1450.39 921.417 1453.08 Q924.611 1455.77 924.611 1460.26 Q924.611 1462.39 923.801 1464.31 Q923.014 1466.2 920.908 1468.8 Q920.329 1469.47 917.227 1472.69 Q914.125 1475.88 908.477 1481.64 Z\" fill=\"#000000\" fill-rule=\"nonzero\" fill-opacity=\"1\" /><path clip-path=\"url(#clip160)\" d=\"M934.611 1479.7 L939.495 1479.7 L939.495 1485.58 L934.611 1485.58 L934.611 1479.7 Z\" fill=\"#000000\" fill-rule=\"nonzero\" fill-opacity=\"1\" /><path clip-path=\"url(#clip160)\" d=\"M949.727 1451.02 L968.083 1451.02 L968.083 1454.96 L954.009 1454.96 L954.009 1463.43 Q955.028 1463.08 956.046 1462.92 Q957.065 1462.73 958.083 1462.73 Q963.87 1462.73 967.25 1465.9 Q970.63 1469.08 970.63 1474.49 Q970.63 1480.07 967.157 1483.17 Q963.685 1486.25 957.366 1486.25 Q955.19 1486.25 952.921 1485.88 Q950.676 1485.51 948.269 1484.77 L948.269 1480.07 Q950.352 1481.2 952.574 1481.76 Q954.796 1482.32 957.273 1482.32 Q961.278 1482.32 963.616 1480.21 Q965.954 1478.1 965.954 1474.49 Q965.954 1470.88 963.616 1468.77 Q961.278 1466.67 957.273 1466.67 Q955.398 1466.67 953.523 1467.08 Q951.671 1467.5 949.727 1468.38 L949.727 1451.02 Z\" fill=\"#000000\" fill-rule=\"nonzero\" fill-opacity=\"1\" /><path clip-path=\"url(#clip160)\" d=\"M1201.16 1451.02 L1219.51 1451.02 L1219.51 1454.96 L1205.44 1454.96 L1205.44 1463.43 Q1206.46 1463.08 1207.47 1462.92 Q1208.49 1462.73 1209.51 1462.73 Q1215.3 1462.73 1218.68 1465.9 Q1222.06 1469.08 1222.06 1474.49 Q1222.06 1480.07 1218.59 1483.17 Q1215.11 1486.25 1208.79 1486.25 Q1206.62 1486.25 1204.35 1485.88 Q1202.1 1485.51 1199.7 1484.77 L1199.7 1480.07 Q1201.78 1481.2 1204 1481.76 Q1206.22 1482.32 1208.7 1482.32 Q1212.71 1482.32 1215.04 1480.21 Q1217.38 1478.1 1217.38 1474.49 Q1217.38 1470.88 1215.04 1468.77 Q1212.71 1466.67 1208.7 1466.67 Q1206.83 1466.67 1204.95 1467.08 Q1203.1 1467.5 1201.16 1468.38 L1201.16 1451.02 Z\" fill=\"#000000\" fill-rule=\"nonzero\" fill-opacity=\"1\" /><path clip-path=\"url(#clip160)\" d=\"M1231.27 1479.7 L1236.16 1479.7 L1236.16 1485.58 L1231.27 1485.58 L1231.27 1479.7 Z\" fill=\"#000000\" fill-rule=\"nonzero\" fill-opacity=\"1\" /><path clip-path=\"url(#clip160)\" d=\"M1256.34 1454.1 Q1252.73 1454.1 1250.9 1457.66 Q1249.09 1461.2 1249.09 1468.33 Q1249.09 1475.44 1250.9 1479.01 Q1252.73 1482.55 1256.34 1482.55 Q1259.97 1482.55 1261.78 1479.01 Q1263.61 1475.44 1263.61 1468.33 Q1263.61 1461.2 1261.78 1457.66 Q1259.97 1454.1 1256.34 1454.1 M1256.34 1450.39 Q1262.15 1450.39 1265.21 1455 Q1268.28 1459.58 1268.28 1468.33 Q1268.28 1477.06 1265.21 1481.67 Q1262.15 1486.25 1256.34 1486.25 Q1250.53 1486.25 1247.45 1481.67 Q1244.4 1477.06 1244.4 1468.33 Q1244.4 1459.58 1247.45 1455 Q1250.53 1450.39 1256.34 1450.39 Z\" fill=\"#000000\" fill-rule=\"nonzero\" fill-opacity=\"1\" /><path clip-path=\"url(#clip160)\" d=\"M1497.56 1451.02 L1519.78 1451.02 L1519.78 1453.01 L1507.24 1485.58 L1502.35 1485.58 L1514.16 1454.96 L1497.56 1454.96 L1497.56 1451.02 Z\" fill=\"#000000\" fill-rule=\"nonzero\" fill-opacity=\"1\" /><path clip-path=\"url(#clip160)\" d=\"M1528.9 1479.7 L1533.79 1479.7 L1533.79 1485.58 L1528.9 1485.58 L1528.9 1479.7 Z\" fill=\"#000000\" fill-rule=\"nonzero\" fill-opacity=\"1\" /><path clip-path=\"url(#clip160)\" d=\"M1544.02 1451.02 L1562.37 1451.02 L1562.37 1454.96 L1548.3 1454.96 L1548.3 1463.43 Q1549.32 1463.08 1550.34 1462.92 Q1551.36 1462.73 1552.37 1462.73 Q1558.16 1462.73 1561.54 1465.9 Q1564.92 1469.08 1564.92 1474.49 Q1564.92 1480.07 1561.45 1483.17 Q1557.98 1486.25 1551.66 1486.25 Q1549.48 1486.25 1547.21 1485.88 Q1544.97 1485.51 1542.56 1484.77 L1542.56 1480.07 Q1544.64 1481.2 1546.87 1481.76 Q1549.09 1482.32 1551.56 1482.32 Q1555.57 1482.32 1557.91 1480.21 Q1560.25 1478.1 1560.25 1474.49 Q1560.25 1470.88 1557.91 1468.77 Q1555.57 1466.67 1551.56 1466.67 Q1549.69 1466.67 1547.81 1467.08 Q1545.96 1467.5 1544.02 1468.38 L1544.02 1451.02 Z\" fill=\"#000000\" fill-rule=\"nonzero\" fill-opacity=\"1\" /><path clip-path=\"url(#clip160)\" d=\"M1780.56 1481.64 L1788.2 1481.64 L1788.2 1455.28 L1779.89 1456.95 L1779.89 1452.69 L1788.15 1451.02 L1792.83 1451.02 L1792.83 1481.64 L1800.47 1481.64 L1800.47 1485.58 L1780.56 1485.58 L1780.56 1481.64 Z\" fill=\"#000000\" fill-rule=\"nonzero\" fill-opacity=\"1\" /><path clip-path=\"url(#clip160)\" d=\"M1819.91 1454.1 Q1816.3 1454.1 1814.47 1457.66 Q1812.67 1461.2 1812.67 1468.33 Q1812.67 1475.44 1814.47 1479.01 Q1816.3 1482.55 1819.91 1482.55 Q1823.55 1482.55 1825.35 1479.01 Q1827.18 1475.44 1827.18 1468.33 Q1827.18 1461.2 1825.35 1457.66 Q1823.55 1454.1 1819.91 1454.1 M1819.91 1450.39 Q1825.72 1450.39 1828.78 1455 Q1831.86 1459.58 1831.86 1468.33 Q1831.86 1477.06 1828.78 1481.67 Q1825.72 1486.25 1819.91 1486.25 Q1814.1 1486.25 1811.03 1481.67 Q1807.97 1477.06 1807.97 1468.33 Q1807.97 1459.58 1811.03 1455 Q1814.1 1450.39 1819.91 1450.39 Z\" fill=\"#000000\" fill-rule=\"nonzero\" fill-opacity=\"1\" /><path clip-path=\"url(#clip160)\" d=\"M1840.08 1479.7 L1844.96 1479.7 L1844.96 1485.58 L1840.08 1485.58 L1840.08 1479.7 Z\" fill=\"#000000\" fill-rule=\"nonzero\" fill-opacity=\"1\" /><path clip-path=\"url(#clip160)\" d=\"M1865.15 1454.1 Q1861.53 1454.1 1859.71 1457.66 Q1857.9 1461.2 1857.9 1468.33 Q1857.9 1475.44 1859.71 1479.01 Q1861.53 1482.55 1865.15 1482.55 Q1868.78 1482.55 1870.59 1479.01 Q1872.41 1475.44 1872.41 1468.33 Q1872.41 1461.2 1870.59 1457.66 Q1868.78 1454.1 1865.15 1454.1 M1865.15 1450.39 Q1870.96 1450.39 1874.01 1455 Q1877.09 1459.58 1877.09 1468.33 Q1877.09 1477.06 1874.01 1481.67 Q1870.96 1486.25 1865.15 1486.25 Q1859.34 1486.25 1856.26 1481.67 Q1853.2 1477.06 1853.2 1468.33 Q1853.2 1459.58 1856.26 1455 Q1859.34 1450.39 1865.15 1450.39 Z\" fill=\"#000000\" fill-rule=\"nonzero\" fill-opacity=\"1\" /><path clip-path=\"url(#clip160)\" d=\"M2078.31 1481.64 L2085.95 1481.64 L2085.95 1455.28 L2077.64 1456.95 L2077.64 1452.69 L2085.9 1451.02 L2090.58 1451.02 L2090.58 1481.64 L2098.22 1481.64 L2098.22 1485.58 L2078.31 1485.58 L2078.31 1481.64 Z\" fill=\"#000000\" fill-rule=\"nonzero\" fill-opacity=\"1\" /><path clip-path=\"url(#clip160)\" d=\"M2111.69 1481.64 L2128.01 1481.64 L2128.01 1485.58 L2106.06 1485.58 L2106.06 1481.64 Q2108.73 1478.89 2113.31 1474.26 Q2117.92 1469.61 2119.1 1468.27 Q2121.34 1465.74 2122.22 1464.01 Q2123.12 1462.25 2123.12 1460.56 Q2123.12 1457.8 2121.18 1456.07 Q2119.26 1454.33 2116.16 1454.33 Q2113.96 1454.33 2111.5 1455.09 Q2109.07 1455.86 2106.3 1457.41 L2106.3 1452.69 Q2109.12 1451.55 2111.57 1450.97 Q2114.03 1450.39 2116.06 1450.39 Q2121.43 1450.39 2124.63 1453.08 Q2127.82 1455.77 2127.82 1460.26 Q2127.82 1462.39 2127.01 1464.31 Q2126.23 1466.2 2124.12 1468.8 Q2123.54 1469.47 2120.44 1472.69 Q2117.34 1475.88 2111.69 1481.64 Z\" fill=\"#000000\" fill-rule=\"nonzero\" fill-opacity=\"1\" /><path clip-path=\"url(#clip160)\" d=\"M2137.82 1479.7 L2142.71 1479.7 L2142.71 1485.58 L2137.82 1485.58 L2137.82 1479.7 Z\" fill=\"#000000\" fill-rule=\"nonzero\" fill-opacity=\"1\" /><path clip-path=\"url(#clip160)\" d=\"M2152.94 1451.02 L2171.3 1451.02 L2171.3 1454.96 L2157.22 1454.96 L2157.22 1463.43 Q2158.24 1463.08 2159.26 1462.92 Q2160.28 1462.73 2161.3 1462.73 Q2167.08 1462.73 2170.46 1465.9 Q2173.84 1469.08 2173.84 1474.49 Q2173.84 1480.07 2170.37 1483.17 Q2166.9 1486.25 2160.58 1486.25 Q2158.4 1486.25 2156.13 1485.88 Q2153.89 1485.51 2151.48 1484.77 L2151.48 1480.07 Q2153.56 1481.2 2155.79 1481.76 Q2158.01 1482.32 2160.49 1482.32 Q2164.49 1482.32 2166.83 1480.21 Q2169.17 1478.1 2169.17 1474.49 Q2169.17 1470.88 2166.83 1468.77 Q2164.49 1466.67 2160.49 1466.67 Q2158.61 1466.67 2156.74 1467.08 Q2154.88 1467.5 2152.94 1468.38 L2152.94 1451.02 Z\" fill=\"#000000\" fill-rule=\"nonzero\" fill-opacity=\"1\" /><path clip-path=\"url(#clip160)\" d=\"M1224.07 1568.04 L1205.93 1520.52 L1212.64 1520.52 L1227.7 1560.53 L1242.79 1520.52 L1249.47 1520.52 L1231.36 1568.04 L1224.07 1568.04 Z\" fill=\"#000000\" fill-rule=\"nonzero\" fill-opacity=\"1\" /><path clip-path=\"url(#clip160)\" d=\"M1267.29 1550.12 Q1260.2 1550.12 1257.46 1551.75 Q1254.72 1553.37 1254.72 1557.29 Q1254.72 1560.4 1256.76 1562.25 Q1258.83 1564.07 1262.36 1564.07 Q1267.23 1564.07 1270.16 1560.63 Q1273.12 1557.16 1273.12 1551.43 L1273.12 1550.12 L1267.29 1550.12 M1278.97 1547.71 L1278.97 1568.04 L1273.12 1568.04 L1273.12 1562.63 Q1271.11 1565.88 1268.12 1567.44 Q1265.13 1568.97 1260.8 1568.97 Q1255.33 1568.97 1252.08 1565.91 Q1248.86 1562.82 1248.86 1557.67 Q1248.86 1551.65 1252.88 1548.6 Q1256.92 1545.54 1264.91 1545.54 L1273.12 1545.54 L1273.12 1544.97 Q1273.12 1540.93 1270.44 1538.73 Q1267.8 1536.5 1263 1536.5 Q1259.94 1536.5 1257.04 1537.23 Q1254.15 1537.97 1251.47 1539.43 L1251.47 1534.02 Q1254.69 1532.78 1257.71 1532.17 Q1260.74 1531.54 1263.6 1531.54 Q1271.34 1531.54 1275.16 1535.55 Q1278.97 1539.56 1278.97 1547.71 Z\" fill=\"#000000\" fill-rule=\"nonzero\" fill-opacity=\"1\" /><path clip-path=\"url(#clip160)\" d=\"M1291.04 1518.52 L1296.89 1518.52 L1296.89 1568.04 L1291.04 1568.04 L1291.04 1518.52 Z\" fill=\"#000000\" fill-rule=\"nonzero\" fill-opacity=\"1\" /><path clip-path=\"url(#clip160)\" d=\"M1308.54 1553.98 L1308.54 1532.4 L1314.4 1532.4 L1314.4 1553.75 Q1314.4 1558.81 1316.37 1561.36 Q1318.35 1563.87 1322.29 1563.87 Q1327.04 1563.87 1329.77 1560.85 Q1332.54 1557.83 1332.54 1552.61 L1332.54 1532.4 L1338.4 1532.4 L1338.4 1568.04 L1332.54 1568.04 L1332.54 1562.57 Q1330.41 1565.82 1327.58 1567.41 Q1324.78 1568.97 1321.05 1568.97 Q1314.91 1568.97 1311.73 1565.15 Q1308.54 1561.33 1308.54 1553.98 M1323.28 1531.54 L1323.28 1531.54 Z\" fill=\"#000000\" fill-rule=\"nonzero\" fill-opacity=\"1\" /><path clip-path=\"url(#clip160)\" d=\"M1380.95 1548.76 L1380.95 1551.62 L1354.03 1551.62 Q1354.41 1557.67 1357.65 1560.85 Q1360.93 1564 1366.76 1564 Q1370.13 1564 1373.28 1563.17 Q1376.47 1562.35 1379.58 1560.69 L1379.58 1566.23 Q1376.43 1567.57 1373.12 1568.27 Q1369.81 1568.97 1366.41 1568.97 Q1357.88 1568.97 1352.88 1564 Q1347.92 1559.04 1347.92 1550.57 Q1347.92 1541.82 1352.63 1536.69 Q1357.37 1531.54 1365.39 1531.54 Q1372.58 1531.54 1376.75 1536.18 Q1380.95 1540.8 1380.95 1548.76 M1375.1 1547.04 Q1375.03 1542.23 1372.39 1539.37 Q1369.78 1536.5 1365.45 1536.5 Q1360.55 1536.5 1357.59 1539.27 Q1354.66 1542.04 1354.22 1547.07 L1375.1 1547.04 Z\" fill=\"#000000\" fill-rule=\"nonzero\" fill-opacity=\"1\" /><polyline clip-path=\"url(#clip160)\" style=\"stroke:#000000; stroke-linecap:round; stroke-linejoin:round; stroke-width:4; stroke-opacity:1; fill:none\" points=\"234.125,1423.18 234.125,47.2441 \"/>\n",
       "<polyline clip-path=\"url(#clip160)\" style=\"stroke:#000000; stroke-linecap:round; stroke-linejoin:round; stroke-width:4; stroke-opacity:1; fill:none\" points=\"234.125,1423.18 253.023,1423.18 \"/>\n",
       "<polyline clip-path=\"url(#clip160)\" style=\"stroke:#000000; stroke-linecap:round; stroke-linejoin:round; stroke-width:4; stroke-opacity:1; fill:none\" points=\"234.125,1089.21 253.023,1089.21 \"/>\n",
       "<polyline clip-path=\"url(#clip160)\" style=\"stroke:#000000; stroke-linecap:round; stroke-linejoin:round; stroke-width:4; stroke-opacity:1; fill:none\" points=\"234.125,755.25 253.023,755.25 \"/>\n",
       "<polyline clip-path=\"url(#clip160)\" style=\"stroke:#000000; stroke-linecap:round; stroke-linejoin:round; stroke-width:4; stroke-opacity:1; fill:none\" points=\"234.125,421.285 253.023,421.285 \"/>\n",
       "<polyline clip-path=\"url(#clip160)\" style=\"stroke:#000000; stroke-linecap:round; stroke-linejoin:round; stroke-width:4; stroke-opacity:1; fill:none\" points=\"234.125,87.3199 253.023,87.3199 \"/>\n",
       "<path clip-path=\"url(#clip160)\" d=\"M186.181 1408.98 Q182.57 1408.98 180.741 1412.54 Q178.936 1416.08 178.936 1423.21 Q178.936 1430.32 180.741 1433.89 Q182.57 1437.43 186.181 1437.43 Q189.815 1437.43 191.621 1433.89 Q193.45 1430.32 193.45 1423.21 Q193.45 1416.08 191.621 1412.54 Q189.815 1408.98 186.181 1408.98 M186.181 1405.27 Q191.991 1405.27 195.047 1409.88 Q198.125 1414.46 198.125 1423.21 Q198.125 1431.94 195.047 1436.55 Q191.991 1441.13 186.181 1441.13 Q180.371 1441.13 177.292 1436.55 Q174.237 1431.94 174.237 1423.21 Q174.237 1414.46 177.292 1409.88 Q180.371 1405.27 186.181 1405.27 Z\" fill=\"#000000\" fill-rule=\"nonzero\" fill-opacity=\"1\" /><path clip-path=\"url(#clip160)\" d=\"M146.066 1071.93 L164.422 1071.93 L164.422 1075.87 L150.348 1075.87 L150.348 1084.34 Q151.366 1083.99 152.385 1083.83 Q153.403 1083.65 154.422 1083.65 Q160.209 1083.65 163.589 1086.82 Q166.968 1089.99 166.968 1095.41 Q166.968 1100.99 163.496 1104.09 Q160.024 1107.17 153.704 1107.17 Q151.528 1107.17 149.26 1106.8 Q147.015 1106.43 144.607 1105.68 L144.607 1100.99 Q146.691 1102.12 148.913 1102.68 Q151.135 1103.23 153.612 1103.23 Q157.616 1103.23 159.954 1101.12 Q162.292 1099.02 162.292 1095.41 Q162.292 1091.8 159.954 1089.69 Q157.616 1087.58 153.612 1087.58 Q151.737 1087.58 149.862 1088 Q148.01 1088.42 146.066 1089.3 L146.066 1071.93 Z\" fill=\"#000000\" fill-rule=\"nonzero\" fill-opacity=\"1\" /><path clip-path=\"url(#clip160)\" d=\"M186.181 1075.01 Q182.57 1075.01 180.741 1078.58 Q178.936 1082.12 178.936 1089.25 Q178.936 1096.36 180.741 1099.92 Q182.57 1103.46 186.181 1103.46 Q189.815 1103.46 191.621 1099.92 Q193.45 1096.36 193.45 1089.25 Q193.45 1082.12 191.621 1078.58 Q189.815 1075.01 186.181 1075.01 M186.181 1071.31 Q191.991 1071.31 195.047 1075.92 Q198.125 1080.5 198.125 1089.25 Q198.125 1097.98 195.047 1102.58 Q191.991 1107.17 186.181 1107.17 Q180.371 1107.17 177.292 1102.58 Q174.237 1097.98 174.237 1089.25 Q174.237 1080.5 177.292 1075.92 Q180.371 1071.31 186.181 1071.31 Z\" fill=\"#000000\" fill-rule=\"nonzero\" fill-opacity=\"1\" /><path clip-path=\"url(#clip160)\" d=\"M116.668 768.595 L124.306 768.595 L124.306 742.229 L115.996 743.896 L115.996 739.637 L124.26 737.97 L128.936 737.97 L128.936 768.595 L136.575 768.595 L136.575 772.53 L116.668 772.53 L116.668 768.595 Z\" fill=\"#000000\" fill-rule=\"nonzero\" fill-opacity=\"1\" /><path clip-path=\"url(#clip160)\" d=\"M156.019 741.049 Q152.408 741.049 150.579 744.613 Q148.774 748.155 148.774 755.285 Q148.774 762.391 150.579 765.956 Q152.408 769.497 156.019 769.497 Q159.653 769.497 161.459 765.956 Q163.288 762.391 163.288 755.285 Q163.288 748.155 161.459 744.613 Q159.653 741.049 156.019 741.049 M156.019 737.345 Q161.829 737.345 164.885 741.951 Q167.964 746.535 167.964 755.285 Q167.964 764.011 164.885 768.618 Q161.829 773.201 156.019 773.201 Q150.209 773.201 147.13 768.618 Q144.075 764.011 144.075 755.285 Q144.075 746.535 147.13 741.951 Q150.209 737.345 156.019 737.345 Z\" fill=\"#000000\" fill-rule=\"nonzero\" fill-opacity=\"1\" /><path clip-path=\"url(#clip160)\" d=\"M186.181 741.049 Q182.57 741.049 180.741 744.613 Q178.936 748.155 178.936 755.285 Q178.936 762.391 180.741 765.956 Q182.57 769.497 186.181 769.497 Q189.815 769.497 191.621 765.956 Q193.45 762.391 193.45 755.285 Q193.45 748.155 191.621 744.613 Q189.815 741.049 186.181 741.049 M186.181 737.345 Q191.991 737.345 195.047 741.951 Q198.125 746.535 198.125 755.285 Q198.125 764.011 195.047 768.618 Q191.991 773.201 186.181 773.201 Q180.371 773.201 177.292 768.618 Q174.237 764.011 174.237 755.285 Q174.237 746.535 177.292 741.951 Q180.371 737.345 186.181 737.345 Z\" fill=\"#000000\" fill-rule=\"nonzero\" fill-opacity=\"1\" /><path clip-path=\"url(#clip160)\" d=\"M116.668 434.63 L124.306 434.63 L124.306 408.264 L115.996 409.931 L115.996 405.672 L124.26 404.005 L128.936 404.005 L128.936 434.63 L136.575 434.63 L136.575 438.565 L116.668 438.565 L116.668 434.63 Z\" fill=\"#000000\" fill-rule=\"nonzero\" fill-opacity=\"1\" /><path clip-path=\"url(#clip160)\" d=\"M146.066 404.005 L164.422 404.005 L164.422 407.94 L150.348 407.94 L150.348 416.412 Q151.366 416.065 152.385 415.903 Q153.403 415.718 154.422 415.718 Q160.209 415.718 163.589 418.889 Q166.968 422.06 166.968 427.477 Q166.968 433.056 163.496 436.157 Q160.024 439.236 153.704 439.236 Q151.528 439.236 149.26 438.866 Q147.015 438.495 144.607 437.755 L144.607 433.056 Q146.691 434.19 148.913 434.745 Q151.135 435.301 153.612 435.301 Q157.616 435.301 159.954 433.195 Q162.292 431.088 162.292 427.477 Q162.292 423.866 159.954 421.759 Q157.616 419.653 153.612 419.653 Q151.737 419.653 149.862 420.07 Q148.01 420.486 146.066 421.366 L146.066 404.005 Z\" fill=\"#000000\" fill-rule=\"nonzero\" fill-opacity=\"1\" /><path clip-path=\"url(#clip160)\" d=\"M186.181 407.084 Q182.57 407.084 180.741 410.648 Q178.936 414.19 178.936 421.32 Q178.936 428.426 180.741 431.991 Q182.57 435.532 186.181 435.532 Q189.815 435.532 191.621 431.991 Q193.45 428.426 193.45 421.32 Q193.45 414.19 191.621 410.648 Q189.815 407.084 186.181 407.084 M186.181 403.38 Q191.991 403.38 195.047 407.986 Q198.125 412.57 198.125 421.32 Q198.125 430.046 195.047 434.653 Q191.991 439.236 186.181 439.236 Q180.371 439.236 177.292 434.653 Q174.237 430.046 174.237 421.32 Q174.237 412.57 177.292 407.986 Q180.371 403.38 186.181 403.38 Z\" fill=\"#000000\" fill-rule=\"nonzero\" fill-opacity=\"1\" /><path clip-path=\"url(#clip160)\" d=\"M119.885 100.665 L136.204 100.665 L136.204 104.6 L114.26 104.6 L114.26 100.665 Q116.922 97.9101 121.505 93.2805 Q126.112 88.6278 127.292 87.2852 Q129.538 84.762 130.417 83.0259 Q131.32 81.2667 131.32 79.5769 Q131.32 76.8223 129.376 75.0862 Q127.455 73.3501 124.353 73.3501 Q122.154 73.3501 119.7 74.1139 Q117.269 74.8778 114.492 76.4287 L114.492 71.7066 Q117.316 70.5723 119.769 69.9936 Q122.223 69.4149 124.26 69.4149 Q129.63 69.4149 132.825 72.1001 Q136.019 74.7852 136.019 79.276 Q136.019 81.4056 135.209 83.3269 Q134.422 85.225 132.316 87.8176 Q131.737 88.4889 128.635 91.7064 Q125.533 94.9009 119.885 100.665 Z\" fill=\"#000000\" fill-rule=\"nonzero\" fill-opacity=\"1\" /><path clip-path=\"url(#clip160)\" d=\"M156.019 73.1186 Q152.408 73.1186 150.579 76.6834 Q148.774 80.225 148.774 87.3546 Q148.774 94.4611 150.579 98.0259 Q152.408 101.568 156.019 101.568 Q159.653 101.568 161.459 98.0259 Q163.288 94.4611 163.288 87.3546 Q163.288 80.225 161.459 76.6834 Q159.653 73.1186 156.019 73.1186 M156.019 69.4149 Q161.829 69.4149 164.885 74.0214 Q167.964 78.6047 167.964 87.3546 Q167.964 96.0814 164.885 100.688 Q161.829 105.271 156.019 105.271 Q150.209 105.271 147.13 100.688 Q144.075 96.0814 144.075 87.3546 Q144.075 78.6047 147.13 74.0214 Q150.209 69.4149 156.019 69.4149 Z\" fill=\"#000000\" fill-rule=\"nonzero\" fill-opacity=\"1\" /><path clip-path=\"url(#clip160)\" d=\"M186.181 73.1186 Q182.57 73.1186 180.741 76.6834 Q178.936 80.225 178.936 87.3546 Q178.936 94.4611 180.741 98.0259 Q182.57 101.568 186.181 101.568 Q189.815 101.568 191.621 98.0259 Q193.45 94.4611 193.45 87.3546 Q193.45 80.225 191.621 76.6834 Q189.815 73.1186 186.181 73.1186 M186.181 69.4149 Q191.991 69.4149 195.047 74.0214 Q198.125 78.6047 198.125 87.3546 Q198.125 96.0814 195.047 100.688 Q191.991 105.271 186.181 105.271 Q180.371 105.271 177.292 100.688 Q174.237 96.0814 174.237 87.3546 Q174.237 78.6047 177.292 74.0214 Q180.371 69.4149 186.181 69.4149 Z\" fill=\"#000000\" fill-rule=\"nonzero\" fill-opacity=\"1\" /><path clip-path=\"url(#clip160)\" d=\"M16.4842 899.415 L16.4842 872.106 L21.895 872.106 L21.895 892.986 L35.8996 892.986 L35.8996 874.144 L41.3104 874.144 L41.3104 892.986 L64.0042 892.986 L64.0042 899.415 L16.4842 899.415 Z\" fill=\"#000000\" fill-rule=\"nonzero\" fill-opacity=\"1\" /><path clip-path=\"url(#clip160)\" d=\"M33.8307 846.262 Q33.2578 847.248 33.0032 848.426 Q32.7167 849.572 32.7167 850.972 Q32.7167 855.938 35.9632 858.611 Q39.1779 861.253 45.2253 861.253 L64.0042 861.253 L64.0042 867.141 L28.3562 867.141 L28.3562 861.253 L33.8944 861.253 Q30.6479 859.407 29.0883 856.447 Q27.4968 853.487 27.4968 849.254 Q27.4968 848.649 27.5923 847.917 Q27.656 847.185 27.8151 846.294 L33.8307 846.262 Z\" fill=\"#000000\" fill-rule=\"nonzero\" fill-opacity=\"1\" /><path clip-path=\"url(#clip160)\" d=\"M44.7161 811.059 L47.5806 811.059 L47.5806 837.986 Q53.6281 837.604 56.8109 834.358 Q59.9619 831.08 59.9619 825.255 Q59.9619 821.881 59.1344 818.73 Q58.3069 815.547 56.6518 812.428 L62.1899 812.428 Q63.5267 815.579 64.227 818.889 Q64.9272 822.199 64.9272 825.605 Q64.9272 834.135 59.9619 839.132 Q54.9967 844.097 46.5303 844.097 Q37.7774 844.097 32.6531 839.387 Q27.4968 834.644 27.4968 826.624 Q27.4968 819.43 32.1438 815.261 Q36.7589 811.059 44.7161 811.059 M42.9973 816.916 Q38.1912 816.979 35.3266 819.621 Q32.4621 822.231 32.4621 826.56 Q32.4621 831.461 35.2312 834.422 Q38.0002 837.35 43.0292 837.795 L42.9973 816.916 Z\" fill=\"#000000\" fill-rule=\"nonzero\" fill-opacity=\"1\" /><path clip-path=\"url(#clip160)\" d=\"M46.212 797.946 Q52.6732 797.946 56.3653 795.304 Q60.0256 792.631 60.0256 787.984 Q60.0256 783.337 56.3653 780.663 Q52.6732 777.99 46.212 777.99 Q39.7508 777.99 36.0905 780.663 Q32.3984 783.337 32.3984 787.984 Q32.3984 792.631 36.0905 795.304 Q39.7508 797.946 46.212 797.946 M58.657 777.99 Q61.8398 779.836 63.3994 782.668 Q64.9272 785.469 64.9272 789.416 Q64.9272 795.877 59.771 799.951 Q54.6147 803.993 46.212 803.993 Q37.8093 803.993 32.6531 799.951 Q27.4968 795.877 27.4968 789.416 Q27.4968 785.469 29.0564 782.668 Q30.5842 779.836 33.7671 777.99 L28.3562 777.99 L28.3562 772.133 L77.5631 772.133 L77.5631 777.99 L58.657 777.99 Z\" fill=\"#000000\" fill-rule=\"nonzero\" fill-opacity=\"1\" /><path clip-path=\"url(#clip160)\" d=\"M49.9359 760.675 L28.3562 760.675 L28.3562 754.818 L49.7131 754.818 Q54.7739 754.818 57.3202 752.845 Q59.8346 750.872 59.8346 746.925 Q59.8346 742.182 56.8109 739.445 Q53.7872 736.676 48.5673 736.676 L28.3562 736.676 L28.3562 730.82 L64.0042 730.82 L64.0042 736.676 L58.5296 736.676 Q61.7762 738.809 63.3676 741.641 Q64.9272 744.442 64.9272 748.166 Q64.9272 754.309 61.1078 757.492 Q57.2883 760.675 49.9359 760.675 M27.4968 745.938 L27.4968 745.938 Z\" fill=\"#000000\" fill-rule=\"nonzero\" fill-opacity=\"1\" /><path clip-path=\"url(#clip160)\" d=\"M44.7161 688.265 L47.5806 688.265 L47.5806 715.192 Q53.6281 714.81 56.8109 711.563 Q59.9619 708.285 59.9619 702.46 Q59.9619 699.087 59.1344 695.936 Q58.3069 692.753 56.6518 689.634 L62.1899 689.634 Q63.5267 692.785 64.227 696.095 Q64.9272 699.405 64.9272 702.811 Q64.9272 711.341 59.9619 716.338 Q54.9967 721.303 46.5303 721.303 Q37.7774 721.303 32.6531 716.592 Q27.4968 711.85 27.4968 703.829 Q27.4968 696.636 32.1438 692.466 Q36.7589 688.265 44.7161 688.265 M42.9973 694.121 Q38.1912 694.185 35.3266 696.827 Q32.4621 699.437 32.4621 703.765 Q32.4621 708.667 35.2312 711.627 Q38.0002 714.555 43.0292 715.001 L42.9973 694.121 Z\" fill=\"#000000\" fill-rule=\"nonzero\" fill-opacity=\"1\" /><path clip-path=\"url(#clip160)\" d=\"M42.4881 649.02 L64.0042 649.02 L64.0042 654.877 L42.679 654.877 Q37.6183 654.877 35.1038 656.85 Q32.5894 658.823 32.5894 662.77 Q32.5894 667.513 35.6131 670.25 Q38.6368 672.987 43.8567 672.987 L64.0042 672.987 L64.0042 678.875 L28.3562 678.875 L28.3562 672.987 L33.8944 672.987 Q30.6797 670.887 29.0883 668.054 Q27.4968 665.189 27.4968 661.465 Q27.4968 655.322 31.3163 652.171 Q35.1038 649.02 42.4881 649.02 Z\" fill=\"#000000\" fill-rule=\"nonzero\" fill-opacity=\"1\" /><path clip-path=\"url(#clip160)\" d=\"M29.7248 611.685 L35.1993 611.685 Q33.8307 614.168 33.1623 616.683 Q32.4621 619.165 32.4621 621.711 Q32.4621 627.409 36.0905 630.56 Q39.6872 633.711 46.212 633.711 Q52.7369 633.711 56.3653 630.56 Q59.9619 627.409 59.9619 621.711 Q59.9619 619.165 59.2935 616.683 Q58.5933 614.168 57.2247 611.685 L62.6355 611.685 Q63.7814 614.136 64.3543 616.778 Q64.9272 619.388 64.9272 622.348 Q64.9272 630.401 59.8664 635.143 Q54.8057 639.886 46.212 639.886 Q37.491 639.886 32.4939 635.111 Q27.4968 630.305 27.4968 621.966 Q27.4968 619.261 28.0697 616.683 Q28.6108 614.104 29.7248 611.685 Z\" fill=\"#000000\" fill-rule=\"nonzero\" fill-opacity=\"1\" /><path clip-path=\"url(#clip160)\" d=\"M67.3143 586.668 Q73.68 589.151 75.6216 591.506 Q77.5631 593.861 77.5631 597.808 L77.5631 602.487 L72.6615 602.487 L72.6615 599.05 Q72.6615 596.631 71.5157 595.294 Q70.3699 593.957 66.1048 592.334 L63.4312 591.283 L28.3562 605.702 L28.3562 599.495 L56.238 588.355 L28.3562 577.215 L28.3562 571.009 L67.3143 586.668 Z\" fill=\"#000000\" fill-rule=\"nonzero\" fill-opacity=\"1\" /><path clip-path=\"url(#clip162)\" d=\"M342.241 1416.5 L342.241 1423.18 L401.691 1423.18 L401.691 1416.5 L342.241 1416.5 L342.241 1416.5  Z\" fill=\"#009af9\" fill-rule=\"evenodd\" fill-opacity=\"0.5\"/>\n",
       "<polyline clip-path=\"url(#clip162)\" style=\"stroke:#000000; stroke-linecap:round; stroke-linejoin:round; stroke-width:4; stroke-opacity:0.5; fill:none\" points=\"342.241,1416.5 342.241,1423.18 401.691,1423.18 401.691,1416.5 342.241,1416.5 \"/>\n",
       "<path clip-path=\"url(#clip162)\" d=\"M401.691 1409.82 L401.691 1423.18 L461.141 1423.18 L461.141 1409.82 L401.691 1409.82 L401.691 1409.82  Z\" fill=\"#009af9\" fill-rule=\"evenodd\" fill-opacity=\"0.5\"/>\n",
       "<polyline clip-path=\"url(#clip162)\" style=\"stroke:#000000; stroke-linecap:round; stroke-linejoin:round; stroke-width:4; stroke-opacity:0.5; fill:none\" points=\"401.691,1409.82 401.691,1423.18 461.141,1423.18 461.141,1409.82 401.691,1409.82 \"/>\n",
       "<path clip-path=\"url(#clip162)\" d=\"M461.141 1416.5 L461.141 1423.18 L520.591 1423.18 L520.591 1416.5 L461.141 1416.5 L461.141 1416.5  Z\" fill=\"#009af9\" fill-rule=\"evenodd\" fill-opacity=\"0.5\"/>\n",
       "<polyline clip-path=\"url(#clip162)\" style=\"stroke:#000000; stroke-linecap:round; stroke-linejoin:round; stroke-width:4; stroke-opacity:0.5; fill:none\" points=\"461.141,1416.5 461.141,1423.18 520.591,1423.18 520.591,1416.5 461.141,1416.5 \"/>\n",
       "<path clip-path=\"url(#clip162)\" d=\"M520.591 1416.5 L520.591 1423.18 L580.041 1423.18 L580.041 1416.5 L520.591 1416.5 L520.591 1416.5  Z\" fill=\"#009af9\" fill-rule=\"evenodd\" fill-opacity=\"0.5\"/>\n",
       "<polyline clip-path=\"url(#clip162)\" style=\"stroke:#000000; stroke-linecap:round; stroke-linejoin:round; stroke-width:4; stroke-opacity:0.5; fill:none\" points=\"520.591,1416.5 520.591,1423.18 580.041,1423.18 580.041,1416.5 520.591,1416.5 \"/>\n",
       "<path clip-path=\"url(#clip162)\" d=\"M580.041 1416.5 L580.041 1423.18 L639.491 1423.18 L639.491 1416.5 L580.041 1416.5 L580.041 1416.5  Z\" fill=\"#009af9\" fill-rule=\"evenodd\" fill-opacity=\"0.5\"/>\n",
       "<polyline clip-path=\"url(#clip162)\" style=\"stroke:#000000; stroke-linecap:round; stroke-linejoin:round; stroke-width:4; stroke-opacity:0.5; fill:none\" points=\"580.041,1416.5 580.041,1423.18 639.491,1423.18 639.491,1416.5 580.041,1416.5 \"/>\n",
       "<path clip-path=\"url(#clip162)\" d=\"M639.491 1349.71 L639.491 1423.18 L698.941 1423.18 L698.941 1349.71 L639.491 1349.71 L639.491 1349.71  Z\" fill=\"#009af9\" fill-rule=\"evenodd\" fill-opacity=\"0.5\"/>\n",
       "<polyline clip-path=\"url(#clip162)\" style=\"stroke:#000000; stroke-linecap:round; stroke-linejoin:round; stroke-width:4; stroke-opacity:0.5; fill:none\" points=\"639.491,1349.71 639.491,1423.18 698.941,1423.18 698.941,1349.71 639.491,1349.71 \"/>\n",
       "<path clip-path=\"url(#clip162)\" d=\"M698.941 1349.71 L698.941 1423.18 L758.391 1423.18 L758.391 1349.71 L698.941 1349.71 L698.941 1349.71  Z\" fill=\"#009af9\" fill-rule=\"evenodd\" fill-opacity=\"0.5\"/>\n",
       "<polyline clip-path=\"url(#clip162)\" style=\"stroke:#000000; stroke-linecap:round; stroke-linejoin:round; stroke-width:4; stroke-opacity:0.5; fill:none\" points=\"698.941,1349.71 698.941,1423.18 758.391,1423.18 758.391,1349.71 698.941,1349.71 \"/>\n",
       "<path clip-path=\"url(#clip162)\" d=\"M758.391 1322.99 L758.391 1423.18 L817.841 1423.18 L817.841 1322.99 L758.391 1322.99 L758.391 1322.99  Z\" fill=\"#009af9\" fill-rule=\"evenodd\" fill-opacity=\"0.5\"/>\n",
       "<polyline clip-path=\"url(#clip162)\" style=\"stroke:#000000; stroke-linecap:round; stroke-linejoin:round; stroke-width:4; stroke-opacity:0.5; fill:none\" points=\"758.391,1322.99 758.391,1423.18 817.841,1423.18 817.841,1322.99 758.391,1322.99 \"/>\n",
       "<path clip-path=\"url(#clip162)\" d=\"M817.841 1282.91 L817.841 1423.18 L877.291 1423.18 L877.291 1282.91 L817.841 1282.91 L817.841 1282.91  Z\" fill=\"#009af9\" fill-rule=\"evenodd\" fill-opacity=\"0.5\"/>\n",
       "<polyline clip-path=\"url(#clip162)\" style=\"stroke:#000000; stroke-linecap:round; stroke-linejoin:round; stroke-width:4; stroke-opacity:0.5; fill:none\" points=\"817.841,1282.91 817.841,1423.18 877.291,1423.18 877.291,1282.91 817.841,1282.91 \"/>\n",
       "<path clip-path=\"url(#clip162)\" d=\"M877.291 1216.12 L877.291 1423.18 L936.741 1423.18 L936.741 1216.12 L877.291 1216.12 L877.291 1216.12  Z\" fill=\"#009af9\" fill-rule=\"evenodd\" fill-opacity=\"0.5\"/>\n",
       "<polyline clip-path=\"url(#clip162)\" style=\"stroke:#000000; stroke-linecap:round; stroke-linejoin:round; stroke-width:4; stroke-opacity:0.5; fill:none\" points=\"877.291,1216.12 877.291,1423.18 936.741,1423.18 936.741,1216.12 877.291,1216.12 \"/>\n",
       "<path clip-path=\"url(#clip162)\" d=\"M936.741 1122.61 L936.741 1423.18 L996.191 1423.18 L996.191 1122.61 L936.741 1122.61 L936.741 1122.61  Z\" fill=\"#009af9\" fill-rule=\"evenodd\" fill-opacity=\"0.5\"/>\n",
       "<polyline clip-path=\"url(#clip162)\" style=\"stroke:#000000; stroke-linecap:round; stroke-linejoin:round; stroke-width:4; stroke-opacity:0.5; fill:none\" points=\"936.741,1122.61 936.741,1423.18 996.191,1423.18 996.191,1122.61 936.741,1122.61 \"/>\n",
       "<path clip-path=\"url(#clip162)\" d=\"M996.191 982.346 L996.191 1423.18 L1055.64 1423.18 L1055.64 982.346 L996.191 982.346 L996.191 982.346  Z\" fill=\"#009af9\" fill-rule=\"evenodd\" fill-opacity=\"0.5\"/>\n",
       "<polyline clip-path=\"url(#clip162)\" style=\"stroke:#000000; stroke-linecap:round; stroke-linejoin:round; stroke-width:4; stroke-opacity:0.5; fill:none\" points=\"996.191,982.346 996.191,1423.18 1055.64,1423.18 1055.64,982.346 996.191,982.346 \"/>\n",
       "<path clip-path=\"url(#clip162)\" d=\"M1055.64 882.157 L1055.64 1423.18 L1115.09 1423.18 L1115.09 882.157 L1055.64 882.157 L1055.64 882.157  Z\" fill=\"#009af9\" fill-rule=\"evenodd\" fill-opacity=\"0.5\"/>\n",
       "<polyline clip-path=\"url(#clip162)\" style=\"stroke:#000000; stroke-linecap:round; stroke-linejoin:round; stroke-width:4; stroke-opacity:0.5; fill:none\" points=\"1055.64,882.157 1055.64,1423.18 1115.09,1423.18 1115.09,882.157 1055.64,882.157 \"/>\n",
       "<path clip-path=\"url(#clip162)\" d=\"M1115.09 741.891 L1115.09 1423.18 L1174.54 1423.18 L1174.54 741.891 L1115.09 741.891 L1115.09 741.891  Z\" fill=\"#009af9\" fill-rule=\"evenodd\" fill-opacity=\"0.5\"/>\n",
       "<polyline clip-path=\"url(#clip162)\" style=\"stroke:#000000; stroke-linecap:round; stroke-linejoin:round; stroke-width:4; stroke-opacity:0.5; fill:none\" points=\"1115.09,741.891 1115.09,1423.18 1174.54,1423.18 1174.54,741.891 1115.09,741.891 \"/>\n",
       "<path clip-path=\"url(#clip162)\" d=\"M1174.54 741.891 L1174.54 1423.18 L1233.99 1423.18 L1233.99 741.891 L1174.54 741.891 L1174.54 741.891  Z\" fill=\"#009af9\" fill-rule=\"evenodd\" fill-opacity=\"0.5\"/>\n",
       "<polyline clip-path=\"url(#clip162)\" style=\"stroke:#000000; stroke-linecap:round; stroke-linejoin:round; stroke-width:4; stroke-opacity:0.5; fill:none\" points=\"1174.54,741.891 1174.54,1423.18 1233.99,1423.18 1233.99,741.891 1174.54,741.891 \"/>\n",
       "<path clip-path=\"url(#clip162)\" d=\"M1233.99 868.798 L1233.99 1423.18 L1293.44 1423.18 L1293.44 868.798 L1233.99 868.798 L1233.99 868.798  Z\" fill=\"#009af9\" fill-rule=\"evenodd\" fill-opacity=\"0.5\"/>\n",
       "<polyline clip-path=\"url(#clip162)\" style=\"stroke:#000000; stroke-linecap:round; stroke-linejoin:round; stroke-width:4; stroke-opacity:0.5; fill:none\" points=\"1233.99,868.798 1233.99,1423.18 1293.44,1423.18 1293.44,868.798 1233.99,868.798 \"/>\n",
       "<path clip-path=\"url(#clip162)\" d=\"M1293.44 741.891 L1293.44 1423.18 L1352.89 1423.18 L1352.89 741.891 L1293.44 741.891 L1293.44 741.891  Z\" fill=\"#009af9\" fill-rule=\"evenodd\" fill-opacity=\"0.5\"/>\n",
       "<polyline clip-path=\"url(#clip162)\" style=\"stroke:#000000; stroke-linecap:round; stroke-linejoin:round; stroke-width:4; stroke-opacity:0.5; fill:none\" points=\"1293.44,741.891 1293.44,1423.18 1352.89,1423.18 1352.89,741.891 1293.44,741.891 \"/>\n",
       "<path clip-path=\"url(#clip162)\" d=\"M1352.89 835.401 L1352.89 1423.18 L1412.34 1423.18 L1412.34 835.401 L1352.89 835.401 L1352.89 835.401  Z\" fill=\"#009af9\" fill-rule=\"evenodd\" fill-opacity=\"0.5\"/>\n",
       "<polyline clip-path=\"url(#clip162)\" style=\"stroke:#000000; stroke-linecap:round; stroke-linejoin:round; stroke-width:4; stroke-opacity:0.5; fill:none\" points=\"1352.89,835.401 1352.89,1423.18 1412.34,1423.18 1412.34,835.401 1352.89,835.401 \"/>\n",
       "<path clip-path=\"url(#clip162)\" d=\"M1412.34 915.553 L1412.34 1423.18 L1471.79 1423.18 L1471.79 915.553 L1412.34 915.553 L1412.34 915.553  Z\" fill=\"#009af9\" fill-rule=\"evenodd\" fill-opacity=\"0.5\"/>\n",
       "<polyline clip-path=\"url(#clip162)\" style=\"stroke:#000000; stroke-linecap:round; stroke-linejoin:round; stroke-width:4; stroke-opacity:0.5; fill:none\" points=\"1412.34,915.553 1412.34,1423.18 1471.79,1423.18 1471.79,915.553 1412.34,915.553 \"/>\n",
       "<path clip-path=\"url(#clip162)\" d=\"M1471.79 1029.1 L1471.79 1423.18 L1531.24 1423.18 L1531.24 1029.1 L1471.79 1029.1 L1471.79 1029.1  Z\" fill=\"#009af9\" fill-rule=\"evenodd\" fill-opacity=\"0.5\"/>\n",
       "<polyline clip-path=\"url(#clip162)\" style=\"stroke:#000000; stroke-linecap:round; stroke-linejoin:round; stroke-width:4; stroke-opacity:0.5; fill:none\" points=\"1471.79,1029.1 1471.79,1423.18 1531.24,1423.18 1531.24,1029.1 1471.79,1029.1 \"/>\n",
       "<path clip-path=\"url(#clip162)\" d=\"M1531.24 1176.05 L1531.24 1423.18 L1590.69 1423.18 L1590.69 1176.05 L1531.24 1176.05 L1531.24 1176.05  Z\" fill=\"#009af9\" fill-rule=\"evenodd\" fill-opacity=\"0.5\"/>\n",
       "<polyline clip-path=\"url(#clip162)\" style=\"stroke:#000000; stroke-linecap:round; stroke-linejoin:round; stroke-width:4; stroke-opacity:0.5; fill:none\" points=\"1531.24,1176.05 1531.24,1423.18 1590.69,1423.18 1590.69,1176.05 1531.24,1176.05 \"/>\n",
       "<path clip-path=\"url(#clip162)\" d=\"M1590.69 1229.48 L1590.69 1423.18 L1650.14 1423.18 L1650.14 1229.48 L1590.69 1229.48 L1590.69 1229.48  Z\" fill=\"#009af9\" fill-rule=\"evenodd\" fill-opacity=\"0.5\"/>\n",
       "<polyline clip-path=\"url(#clip162)\" style=\"stroke:#000000; stroke-linecap:round; stroke-linejoin:round; stroke-width:4; stroke-opacity:0.5; fill:none\" points=\"1590.69,1229.48 1590.69,1423.18 1650.14,1423.18 1650.14,1229.48 1590.69,1229.48 \"/>\n",
       "<path clip-path=\"url(#clip162)\" d=\"M1650.14 1336.35 L1650.14 1423.18 L1709.59 1423.18 L1709.59 1336.35 L1650.14 1336.35 L1650.14 1336.35  Z\" fill=\"#009af9\" fill-rule=\"evenodd\" fill-opacity=\"0.5\"/>\n",
       "<polyline clip-path=\"url(#clip162)\" style=\"stroke:#000000; stroke-linecap:round; stroke-linejoin:round; stroke-width:4; stroke-opacity:0.5; fill:none\" points=\"1650.14,1336.35 1650.14,1423.18 1709.59,1423.18 1709.59,1336.35 1650.14,1336.35 \"/>\n",
       "<path clip-path=\"url(#clip162)\" d=\"M1709.59 1329.67 L1709.59 1423.18 L1769.04 1423.18 L1769.04 1329.67 L1709.59 1329.67 L1709.59 1329.67  Z\" fill=\"#009af9\" fill-rule=\"evenodd\" fill-opacity=\"0.5\"/>\n",
       "<polyline clip-path=\"url(#clip162)\" style=\"stroke:#000000; stroke-linecap:round; stroke-linejoin:round; stroke-width:4; stroke-opacity:0.5; fill:none\" points=\"1709.59,1329.67 1709.59,1423.18 1769.04,1423.18 1769.04,1329.67 1709.59,1329.67 \"/>\n",
       "<path clip-path=\"url(#clip162)\" d=\"M1769.04 1403.14 L1769.04 1423.18 L1828.49 1423.18 L1828.49 1403.14 L1769.04 1403.14 L1769.04 1403.14  Z\" fill=\"#009af9\" fill-rule=\"evenodd\" fill-opacity=\"0.5\"/>\n",
       "<polyline clip-path=\"url(#clip162)\" style=\"stroke:#000000; stroke-linecap:round; stroke-linejoin:round; stroke-width:4; stroke-opacity:0.5; fill:none\" points=\"1769.04,1403.14 1769.04,1423.18 1828.49,1423.18 1828.49,1403.14 1769.04,1403.14 \"/>\n",
       "<path clip-path=\"url(#clip162)\" d=\"M1828.49 1396.46 L1828.49 1423.18 L1887.94 1423.18 L1887.94 1396.46 L1828.49 1396.46 L1828.49 1396.46  Z\" fill=\"#009af9\" fill-rule=\"evenodd\" fill-opacity=\"0.5\"/>\n",
       "<polyline clip-path=\"url(#clip162)\" style=\"stroke:#000000; stroke-linecap:round; stroke-linejoin:round; stroke-width:4; stroke-opacity:0.5; fill:none\" points=\"1828.49,1396.46 1828.49,1423.18 1887.94,1423.18 1887.94,1396.46 1828.49,1396.46 \"/>\n",
       "<path clip-path=\"url(#clip162)\" d=\"M1887.94 1416.5 L1887.94 1423.18 L1947.39 1423.18 L1947.39 1416.5 L1887.94 1416.5 L1887.94 1416.5  Z\" fill=\"#009af9\" fill-rule=\"evenodd\" fill-opacity=\"0.5\"/>\n",
       "<polyline clip-path=\"url(#clip162)\" style=\"stroke:#000000; stroke-linecap:round; stroke-linejoin:round; stroke-width:4; stroke-opacity:0.5; fill:none\" points=\"1887.94,1416.5 1887.94,1423.18 1947.39,1423.18 1947.39,1416.5 1887.94,1416.5 \"/>\n",
       "<circle clip-path=\"url(#clip162)\" style=\"fill:#009af9; stroke:none; fill-opacity:0\" cx=\"371.966\" cy=\"1416.5\" r=\"2\"/>\n",
       "<circle clip-path=\"url(#clip162)\" style=\"fill:#009af9; stroke:none; fill-opacity:0\" cx=\"431.416\" cy=\"1409.82\" r=\"2\"/>\n",
       "<circle clip-path=\"url(#clip162)\" style=\"fill:#009af9; stroke:none; fill-opacity:0\" cx=\"490.866\" cy=\"1416.5\" r=\"2\"/>\n",
       "<circle clip-path=\"url(#clip162)\" style=\"fill:#009af9; stroke:none; fill-opacity:0\" cx=\"550.316\" cy=\"1416.5\" r=\"2\"/>\n",
       "<circle clip-path=\"url(#clip162)\" style=\"fill:#009af9; stroke:none; fill-opacity:0\" cx=\"609.766\" cy=\"1416.5\" r=\"2\"/>\n",
       "<circle clip-path=\"url(#clip162)\" style=\"fill:#009af9; stroke:none; fill-opacity:0\" cx=\"669.216\" cy=\"1349.71\" r=\"2\"/>\n",
       "<circle clip-path=\"url(#clip162)\" style=\"fill:#009af9; stroke:none; fill-opacity:0\" cx=\"728.666\" cy=\"1349.71\" r=\"2\"/>\n",
       "<circle clip-path=\"url(#clip162)\" style=\"fill:#009af9; stroke:none; fill-opacity:0\" cx=\"788.116\" cy=\"1322.99\" r=\"2\"/>\n",
       "<circle clip-path=\"url(#clip162)\" style=\"fill:#009af9; stroke:none; fill-opacity:0\" cx=\"847.566\" cy=\"1282.91\" r=\"2\"/>\n",
       "<circle clip-path=\"url(#clip162)\" style=\"fill:#009af9; stroke:none; fill-opacity:0\" cx=\"907.016\" cy=\"1216.12\" r=\"2\"/>\n",
       "<circle clip-path=\"url(#clip162)\" style=\"fill:#009af9; stroke:none; fill-opacity:0\" cx=\"966.466\" cy=\"1122.61\" r=\"2\"/>\n",
       "<circle clip-path=\"url(#clip162)\" style=\"fill:#009af9; stroke:none; fill-opacity:0\" cx=\"1025.92\" cy=\"982.346\" r=\"2\"/>\n",
       "<circle clip-path=\"url(#clip162)\" style=\"fill:#009af9; stroke:none; fill-opacity:0\" cx=\"1085.37\" cy=\"882.157\" r=\"2\"/>\n",
       "<circle clip-path=\"url(#clip162)\" style=\"fill:#009af9; stroke:none; fill-opacity:0\" cx=\"1144.82\" cy=\"741.891\" r=\"2\"/>\n",
       "<circle clip-path=\"url(#clip162)\" style=\"fill:#009af9; stroke:none; fill-opacity:0\" cx=\"1204.27\" cy=\"741.891\" r=\"2\"/>\n",
       "<circle clip-path=\"url(#clip162)\" style=\"fill:#009af9; stroke:none; fill-opacity:0\" cx=\"1263.72\" cy=\"868.798\" r=\"2\"/>\n",
       "<circle clip-path=\"url(#clip162)\" style=\"fill:#009af9; stroke:none; fill-opacity:0\" cx=\"1323.17\" cy=\"741.891\" r=\"2\"/>\n",
       "<circle clip-path=\"url(#clip162)\" style=\"fill:#009af9; stroke:none; fill-opacity:0\" cx=\"1382.62\" cy=\"835.401\" r=\"2\"/>\n",
       "<circle clip-path=\"url(#clip162)\" style=\"fill:#009af9; stroke:none; fill-opacity:0\" cx=\"1442.07\" cy=\"915.553\" r=\"2\"/>\n",
       "<circle clip-path=\"url(#clip162)\" style=\"fill:#009af9; stroke:none; fill-opacity:0\" cx=\"1501.52\" cy=\"1029.1\" r=\"2\"/>\n",
       "<circle clip-path=\"url(#clip162)\" style=\"fill:#009af9; stroke:none; fill-opacity:0\" cx=\"1560.97\" cy=\"1176.05\" r=\"2\"/>\n",
       "<circle clip-path=\"url(#clip162)\" style=\"fill:#009af9; stroke:none; fill-opacity:0\" cx=\"1620.42\" cy=\"1229.48\" r=\"2\"/>\n",
       "<circle clip-path=\"url(#clip162)\" style=\"fill:#009af9; stroke:none; fill-opacity:0\" cx=\"1679.87\" cy=\"1336.35\" r=\"2\"/>\n",
       "<circle clip-path=\"url(#clip162)\" style=\"fill:#009af9; stroke:none; fill-opacity:0\" cx=\"1739.32\" cy=\"1329.67\" r=\"2\"/>\n",
       "<circle clip-path=\"url(#clip162)\" style=\"fill:#009af9; stroke:none; fill-opacity:0\" cx=\"1798.77\" cy=\"1403.14\" r=\"2\"/>\n",
       "<circle clip-path=\"url(#clip162)\" style=\"fill:#009af9; stroke:none; fill-opacity:0\" cx=\"1858.22\" cy=\"1396.46\" r=\"2\"/>\n",
       "<circle clip-path=\"url(#clip162)\" style=\"fill:#009af9; stroke:none; fill-opacity:0\" cx=\"1917.67\" cy=\"1416.5\" r=\"2\"/>\n",
       "<path clip-path=\"url(#clip162)\" d=\"M639.491 1069.18 L639.491 1423.18 L698.941 1423.18 L698.941 1069.18 L639.491 1069.18 L639.491 1069.18  Z\" fill=\"#e26f46\" fill-rule=\"evenodd\" fill-opacity=\"0.5\"/>\n",
       "<polyline clip-path=\"url(#clip162)\" style=\"stroke:#000000; stroke-linecap:round; stroke-linejoin:round; stroke-width:4; stroke-opacity:0.5; fill:none\" points=\"639.491,1069.18 639.491,1423.18 698.941,1423.18 698.941,1069.18 639.491,1069.18 \"/>\n",
       "<path clip-path=\"url(#clip162)\" d=\"M698.941 1062.5 L698.941 1423.18 L758.391 1423.18 L758.391 1062.5 L698.941 1062.5 L698.941 1062.5  Z\" fill=\"#e26f46\" fill-rule=\"evenodd\" fill-opacity=\"0.5\"/>\n",
       "<polyline clip-path=\"url(#clip162)\" style=\"stroke:#000000; stroke-linecap:round; stroke-linejoin:round; stroke-width:4; stroke-opacity:0.5; fill:none\" points=\"698.941,1062.5 698.941,1423.18 758.391,1423.18 758.391,1062.5 698.941,1062.5 \"/>\n",
       "<path clip-path=\"url(#clip162)\" d=\"M758.391 1129.29 L758.391 1423.18 L817.841 1423.18 L817.841 1129.29 L758.391 1129.29 L758.391 1129.29  Z\" fill=\"#e26f46\" fill-rule=\"evenodd\" fill-opacity=\"0.5\"/>\n",
       "<polyline clip-path=\"url(#clip162)\" style=\"stroke:#000000; stroke-linecap:round; stroke-linejoin:round; stroke-width:4; stroke-opacity:0.5; fill:none\" points=\"758.391,1129.29 758.391,1423.18 817.841,1423.18 817.841,1129.29 758.391,1129.29 \"/>\n",
       "<path clip-path=\"url(#clip162)\" d=\"M817.841 1129.29 L817.841 1423.18 L877.291 1423.18 L877.291 1129.29 L817.841 1129.29 L817.841 1129.29  Z\" fill=\"#e26f46\" fill-rule=\"evenodd\" fill-opacity=\"0.5\"/>\n",
       "<polyline clip-path=\"url(#clip162)\" style=\"stroke:#000000; stroke-linecap:round; stroke-linejoin:round; stroke-width:4; stroke-opacity:0.5; fill:none\" points=\"817.841,1129.29 817.841,1423.18 877.291,1423.18 877.291,1129.29 817.841,1129.29 \"/>\n",
       "<path clip-path=\"url(#clip162)\" d=\"M877.291 1075.86 L877.291 1423.18 L936.741 1423.18 L936.741 1075.86 L877.291 1075.86 L877.291 1075.86  Z\" fill=\"#e26f46\" fill-rule=\"evenodd\" fill-opacity=\"0.5\"/>\n",
       "<polyline clip-path=\"url(#clip162)\" style=\"stroke:#000000; stroke-linecap:round; stroke-linejoin:round; stroke-width:4; stroke-opacity:0.5; fill:none\" points=\"877.291,1075.86 877.291,1423.18 936.741,1423.18 936.741,1075.86 877.291,1075.86 \"/>\n",
       "<path clip-path=\"url(#clip162)\" d=\"M936.741 1075.86 L936.741 1423.18 L996.191 1423.18 L996.191 1075.86 L936.741 1075.86 L936.741 1075.86  Z\" fill=\"#e26f46\" fill-rule=\"evenodd\" fill-opacity=\"0.5\"/>\n",
       "<polyline clip-path=\"url(#clip162)\" style=\"stroke:#000000; stroke-linecap:round; stroke-linejoin:round; stroke-width:4; stroke-opacity:0.5; fill:none\" points=\"936.741,1075.86 936.741,1423.18 996.191,1423.18 996.191,1075.86 936.741,1075.86 \"/>\n",
       "<path clip-path=\"url(#clip162)\" d=\"M996.191 1095.89 L996.191 1423.18 L1055.64 1423.18 L1055.64 1095.89 L996.191 1095.89 L996.191 1095.89  Z\" fill=\"#e26f46\" fill-rule=\"evenodd\" fill-opacity=\"0.5\"/>\n",
       "<polyline clip-path=\"url(#clip162)\" style=\"stroke:#000000; stroke-linecap:round; stroke-linejoin:round; stroke-width:4; stroke-opacity:0.5; fill:none\" points=\"996.191,1095.89 996.191,1423.18 1055.64,1423.18 1055.64,1095.89 996.191,1095.89 \"/>\n",
       "<path clip-path=\"url(#clip162)\" d=\"M1055.64 1089.21 L1055.64 1423.18 L1115.09 1423.18 L1115.09 1089.21 L1055.64 1089.21 L1055.64 1089.21  Z\" fill=\"#e26f46\" fill-rule=\"evenodd\" fill-opacity=\"0.5\"/>\n",
       "<polyline clip-path=\"url(#clip162)\" style=\"stroke:#000000; stroke-linecap:round; stroke-linejoin:round; stroke-width:4; stroke-opacity:0.5; fill:none\" points=\"1055.64,1089.21 1055.64,1423.18 1115.09,1423.18 1115.09,1089.21 1055.64,1089.21 \"/>\n",
       "<path clip-path=\"url(#clip162)\" d=\"M1115.09 1156.01 L1115.09 1423.18 L1174.54 1423.18 L1174.54 1156.01 L1115.09 1156.01 L1115.09 1156.01  Z\" fill=\"#e26f46\" fill-rule=\"evenodd\" fill-opacity=\"0.5\"/>\n",
       "<polyline clip-path=\"url(#clip162)\" style=\"stroke:#000000; stroke-linecap:round; stroke-linejoin:round; stroke-width:4; stroke-opacity:0.5; fill:none\" points=\"1115.09,1156.01 1115.09,1423.18 1174.54,1423.18 1174.54,1156.01 1115.09,1156.01 \"/>\n",
       "<path clip-path=\"url(#clip162)\" d=\"M1174.54 1102.57 L1174.54 1423.18 L1233.99 1423.18 L1233.99 1102.57 L1174.54 1102.57 L1174.54 1102.57  Z\" fill=\"#e26f46\" fill-rule=\"evenodd\" fill-opacity=\"0.5\"/>\n",
       "<polyline clip-path=\"url(#clip162)\" style=\"stroke:#000000; stroke-linecap:round; stroke-linejoin:round; stroke-width:4; stroke-opacity:0.5; fill:none\" points=\"1174.54,1102.57 1174.54,1423.18 1233.99,1423.18 1233.99,1102.57 1174.54,1102.57 \"/>\n",
       "<path clip-path=\"url(#clip162)\" d=\"M1233.99 1182.73 L1233.99 1423.18 L1293.44 1423.18 L1293.44 1182.73 L1233.99 1182.73 L1233.99 1182.73  Z\" fill=\"#e26f46\" fill-rule=\"evenodd\" fill-opacity=\"0.5\"/>\n",
       "<polyline clip-path=\"url(#clip162)\" style=\"stroke:#000000; stroke-linecap:round; stroke-linejoin:round; stroke-width:4; stroke-opacity:0.5; fill:none\" points=\"1233.99,1182.73 1233.99,1423.18 1293.44,1423.18 1293.44,1182.73 1233.99,1182.73 \"/>\n",
       "<path clip-path=\"url(#clip162)\" d=\"M1293.44 1122.61 L1293.44 1423.18 L1352.89 1423.18 L1352.89 1122.61 L1293.44 1122.61 L1293.44 1122.61  Z\" fill=\"#e26f46\" fill-rule=\"evenodd\" fill-opacity=\"0.5\"/>\n",
       "<polyline clip-path=\"url(#clip162)\" style=\"stroke:#000000; stroke-linecap:round; stroke-linejoin:round; stroke-width:4; stroke-opacity:0.5; fill:none\" points=\"1293.44,1122.61 1293.44,1423.18 1352.89,1423.18 1352.89,1122.61 1293.44,1122.61 \"/>\n",
       "<path clip-path=\"url(#clip162)\" d=\"M1352.89 1109.25 L1352.89 1423.18 L1412.34 1423.18 L1412.34 1109.25 L1352.89 1109.25 L1352.89 1109.25  Z\" fill=\"#e26f46\" fill-rule=\"evenodd\" fill-opacity=\"0.5\"/>\n",
       "<polyline clip-path=\"url(#clip162)\" style=\"stroke:#000000; stroke-linecap:round; stroke-linejoin:round; stroke-width:4; stroke-opacity:0.5; fill:none\" points=\"1352.89,1109.25 1352.89,1423.18 1412.34,1423.18 1412.34,1109.25 1352.89,1109.25 \"/>\n",
       "<path clip-path=\"url(#clip162)\" d=\"M1412.34 1035.78 L1412.34 1423.18 L1471.79 1423.18 L1471.79 1035.78 L1412.34 1035.78 L1412.34 1035.78  Z\" fill=\"#e26f46\" fill-rule=\"evenodd\" fill-opacity=\"0.5\"/>\n",
       "<polyline clip-path=\"url(#clip162)\" style=\"stroke:#000000; stroke-linecap:round; stroke-linejoin:round; stroke-width:4; stroke-opacity:0.5; fill:none\" points=\"1412.34,1035.78 1412.34,1423.18 1471.79,1423.18 1471.79,1035.78 1412.34,1035.78 \"/>\n",
       "<path clip-path=\"url(#clip162)\" d=\"M1471.79 1142.65 L1471.79 1423.18 L1531.24 1423.18 L1531.24 1142.65 L1471.79 1142.65 L1471.79 1142.65  Z\" fill=\"#e26f46\" fill-rule=\"evenodd\" fill-opacity=\"0.5\"/>\n",
       "<polyline clip-path=\"url(#clip162)\" style=\"stroke:#000000; stroke-linecap:round; stroke-linejoin:round; stroke-width:4; stroke-opacity:0.5; fill:none\" points=\"1471.79,1142.65 1471.79,1423.18 1531.24,1423.18 1531.24,1142.65 1471.79,1142.65 \"/>\n",
       "<path clip-path=\"url(#clip162)\" d=\"M1531.24 1049.14 L1531.24 1423.18 L1590.69 1423.18 L1590.69 1049.14 L1531.24 1049.14 L1531.24 1049.14  Z\" fill=\"#e26f46\" fill-rule=\"evenodd\" fill-opacity=\"0.5\"/>\n",
       "<polyline clip-path=\"url(#clip162)\" style=\"stroke:#000000; stroke-linecap:round; stroke-linejoin:round; stroke-width:4; stroke-opacity:0.5; fill:none\" points=\"1531.24,1049.14 1531.24,1423.18 1590.69,1423.18 1590.69,1049.14 1531.24,1049.14 \"/>\n",
       "<path clip-path=\"url(#clip162)\" d=\"M1590.69 995.705 L1590.69 1423.18 L1650.14 1423.18 L1650.14 995.705 L1590.69 995.705 L1590.69 995.705  Z\" fill=\"#e26f46\" fill-rule=\"evenodd\" fill-opacity=\"0.5\"/>\n",
       "<polyline clip-path=\"url(#clip162)\" style=\"stroke:#000000; stroke-linecap:round; stroke-linejoin:round; stroke-width:4; stroke-opacity:0.5; fill:none\" points=\"1590.69,995.705 1590.69,1423.18 1650.14,1423.18 1650.14,995.705 1590.69,995.705 \"/>\n",
       "<path clip-path=\"url(#clip162)\" d=\"M1650.14 1069.18 L1650.14 1423.18 L1709.59 1423.18 L1709.59 1069.18 L1650.14 1069.18 L1650.14 1069.18  Z\" fill=\"#e26f46\" fill-rule=\"evenodd\" fill-opacity=\"0.5\"/>\n",
       "<polyline clip-path=\"url(#clip162)\" style=\"stroke:#000000; stroke-linecap:round; stroke-linejoin:round; stroke-width:4; stroke-opacity:0.5; fill:none\" points=\"1650.14,1069.18 1650.14,1423.18 1709.59,1423.18 1709.59,1069.18 1650.14,1069.18 \"/>\n",
       "<path clip-path=\"url(#clip162)\" d=\"M1709.59 1029.1 L1709.59 1423.18 L1769.04 1423.18 L1769.04 1029.1 L1709.59 1029.1 L1709.59 1029.1  Z\" fill=\"#e26f46\" fill-rule=\"evenodd\" fill-opacity=\"0.5\"/>\n",
       "<polyline clip-path=\"url(#clip162)\" style=\"stroke:#000000; stroke-linecap:round; stroke-linejoin:round; stroke-width:4; stroke-opacity:0.5; fill:none\" points=\"1709.59,1029.1 1709.59,1423.18 1769.04,1423.18 1769.04,1029.1 1709.59,1029.1 \"/>\n",
       "<path clip-path=\"url(#clip162)\" d=\"M1769.04 1062.5 L1769.04 1423.18 L1828.49 1423.18 L1828.49 1062.5 L1769.04 1062.5 L1769.04 1062.5  Z\" fill=\"#e26f46\" fill-rule=\"evenodd\" fill-opacity=\"0.5\"/>\n",
       "<polyline clip-path=\"url(#clip162)\" style=\"stroke:#000000; stroke-linecap:round; stroke-linejoin:round; stroke-width:4; stroke-opacity:0.5; fill:none\" points=\"1769.04,1062.5 1769.04,1423.18 1828.49,1423.18 1828.49,1062.5 1769.04,1062.5 \"/>\n",
       "<circle clip-path=\"url(#clip162)\" style=\"fill:#e26f46; stroke:none; fill-opacity:0\" cx=\"669.216\" cy=\"1069.18\" r=\"2\"/>\n",
       "<circle clip-path=\"url(#clip162)\" style=\"fill:#e26f46; stroke:none; fill-opacity:0\" cx=\"728.666\" cy=\"1062.5\" r=\"2\"/>\n",
       "<circle clip-path=\"url(#clip162)\" style=\"fill:#e26f46; stroke:none; fill-opacity:0\" cx=\"788.116\" cy=\"1129.29\" r=\"2\"/>\n",
       "<circle clip-path=\"url(#clip162)\" style=\"fill:#e26f46; stroke:none; fill-opacity:0\" cx=\"847.566\" cy=\"1129.29\" r=\"2\"/>\n",
       "<circle clip-path=\"url(#clip162)\" style=\"fill:#e26f46; stroke:none; fill-opacity:0\" cx=\"907.016\" cy=\"1075.86\" r=\"2\"/>\n",
       "<circle clip-path=\"url(#clip162)\" style=\"fill:#e26f46; stroke:none; fill-opacity:0\" cx=\"966.466\" cy=\"1075.86\" r=\"2\"/>\n",
       "<circle clip-path=\"url(#clip162)\" style=\"fill:#e26f46; stroke:none; fill-opacity:0\" cx=\"1025.92\" cy=\"1095.89\" r=\"2\"/>\n",
       "<circle clip-path=\"url(#clip162)\" style=\"fill:#e26f46; stroke:none; fill-opacity:0\" cx=\"1085.37\" cy=\"1089.21\" r=\"2\"/>\n",
       "<circle clip-path=\"url(#clip162)\" style=\"fill:#e26f46; stroke:none; fill-opacity:0\" cx=\"1144.82\" cy=\"1156.01\" r=\"2\"/>\n",
       "<circle clip-path=\"url(#clip162)\" style=\"fill:#e26f46; stroke:none; fill-opacity:0\" cx=\"1204.27\" cy=\"1102.57\" r=\"2\"/>\n",
       "<circle clip-path=\"url(#clip162)\" style=\"fill:#e26f46; stroke:none; fill-opacity:0\" cx=\"1263.72\" cy=\"1182.73\" r=\"2\"/>\n",
       "<circle clip-path=\"url(#clip162)\" style=\"fill:#e26f46; stroke:none; fill-opacity:0\" cx=\"1323.17\" cy=\"1122.61\" r=\"2\"/>\n",
       "<circle clip-path=\"url(#clip162)\" style=\"fill:#e26f46; stroke:none; fill-opacity:0\" cx=\"1382.62\" cy=\"1109.25\" r=\"2\"/>\n",
       "<circle clip-path=\"url(#clip162)\" style=\"fill:#e26f46; stroke:none; fill-opacity:0\" cx=\"1442.07\" cy=\"1035.78\" r=\"2\"/>\n",
       "<circle clip-path=\"url(#clip162)\" style=\"fill:#e26f46; stroke:none; fill-opacity:0\" cx=\"1501.52\" cy=\"1142.65\" r=\"2\"/>\n",
       "<circle clip-path=\"url(#clip162)\" style=\"fill:#e26f46; stroke:none; fill-opacity:0\" cx=\"1560.97\" cy=\"1049.14\" r=\"2\"/>\n",
       "<circle clip-path=\"url(#clip162)\" style=\"fill:#e26f46; stroke:none; fill-opacity:0\" cx=\"1620.42\" cy=\"995.705\" r=\"2\"/>\n",
       "<circle clip-path=\"url(#clip162)\" style=\"fill:#e26f46; stroke:none; fill-opacity:0\" cx=\"1679.87\" cy=\"1069.18\" r=\"2\"/>\n",
       "<circle clip-path=\"url(#clip162)\" style=\"fill:#e26f46; stroke:none; fill-opacity:0\" cx=\"1739.32\" cy=\"1029.1\" r=\"2\"/>\n",
       "<circle clip-path=\"url(#clip162)\" style=\"fill:#e26f46; stroke:none; fill-opacity:0\" cx=\"1798.77\" cy=\"1062.5\" r=\"2\"/>\n",
       "<path clip-path=\"url(#clip162)\" d=\"M639.491 1302.95 L639.491 1423.18 L698.941 1423.18 L698.941 1302.95 L639.491 1302.95 L639.491 1302.95  Z\" fill=\"#3da44d\" fill-rule=\"evenodd\" fill-opacity=\"0.5\"/>\n",
       "<polyline clip-path=\"url(#clip162)\" style=\"stroke:#000000; stroke-linecap:round; stroke-linejoin:round; stroke-width:4; stroke-opacity:0.5; fill:none\" points=\"639.491,1302.95 639.491,1423.18 698.941,1423.18 698.941,1302.95 639.491,1302.95 \"/>\n",
       "<path clip-path=\"url(#clip162)\" d=\"M698.941 1423.18 L698.941 1423.18 L758.391 1423.18 L758.391 1423.18 L698.941 1423.18 L698.941 1423.18  Z\" fill=\"#3da44d\" fill-rule=\"evenodd\" fill-opacity=\"0.5\"/>\n",
       "<polyline clip-path=\"url(#clip162)\" style=\"stroke:#000000; stroke-linecap:round; stroke-linejoin:round; stroke-width:4; stroke-opacity:0.5; fill:none\" points=\"698.941,1423.18 698.941,1423.18 758.391,1423.18 698.941,1423.18 \"/>\n",
       "<path clip-path=\"url(#clip162)\" d=\"M758.391 1015.74 L758.391 1423.18 L817.841 1423.18 L817.841 1015.74 L758.391 1015.74 L758.391 1015.74  Z\" fill=\"#3da44d\" fill-rule=\"evenodd\" fill-opacity=\"0.5\"/>\n",
       "<polyline clip-path=\"url(#clip162)\" style=\"stroke:#000000; stroke-linecap:round; stroke-linejoin:round; stroke-width:4; stroke-opacity:0.5; fill:none\" points=\"758.391,1015.74 758.391,1423.18 817.841,1423.18 817.841,1015.74 758.391,1015.74 \"/>\n",
       "<path clip-path=\"url(#clip162)\" d=\"M817.841 1423.18 L817.841 1423.18 L877.291 1423.18 L877.291 1423.18 L817.841 1423.18 L817.841 1423.18  Z\" fill=\"#3da44d\" fill-rule=\"evenodd\" fill-opacity=\"0.5\"/>\n",
       "<polyline clip-path=\"url(#clip162)\" style=\"stroke:#000000; stroke-linecap:round; stroke-linejoin:round; stroke-width:4; stroke-opacity:0.5; fill:none\" points=\"817.841,1423.18 817.841,1423.18 877.291,1423.18 817.841,1423.18 \"/>\n",
       "<path clip-path=\"url(#clip162)\" d=\"M877.291 427.964 L877.291 1423.18 L936.741 1423.18 L936.741 427.964 L877.291 427.964 L877.291 427.964  Z\" fill=\"#3da44d\" fill-rule=\"evenodd\" fill-opacity=\"0.5\"/>\n",
       "<polyline clip-path=\"url(#clip162)\" style=\"stroke:#000000; stroke-linecap:round; stroke-linejoin:round; stroke-width:4; stroke-opacity:0.5; fill:none\" points=\"877.291,427.964 877.291,1423.18 936.741,1423.18 936.741,427.964 877.291,427.964 \"/>\n",
       "<path clip-path=\"url(#clip162)\" d=\"M936.741 1423.18 L936.741 1423.18 L996.191 1423.18 L996.191 1423.18 L936.741 1423.18 L936.741 1423.18  Z\" fill=\"#3da44d\" fill-rule=\"evenodd\" fill-opacity=\"0.5\"/>\n",
       "<polyline clip-path=\"url(#clip162)\" style=\"stroke:#000000; stroke-linecap:round; stroke-linejoin:round; stroke-width:4; stroke-opacity:0.5; fill:none\" points=\"936.741,1423.18 936.741,1423.18 996.191,1423.18 936.741,1423.18 \"/>\n",
       "<path clip-path=\"url(#clip162)\" d=\"M996.191 140.754 L996.191 1423.18 L1055.64 1423.18 L1055.64 140.754 L996.191 140.754 L996.191 140.754  Z\" fill=\"#3da44d\" fill-rule=\"evenodd\" fill-opacity=\"0.5\"/>\n",
       "<polyline clip-path=\"url(#clip162)\" style=\"stroke:#000000; stroke-linecap:round; stroke-linejoin:round; stroke-width:4; stroke-opacity:0.5; fill:none\" points=\"996.191,140.754 996.191,1423.18 1055.64,1423.18 1055.64,140.754 996.191,140.754 \"/>\n",
       "<path clip-path=\"url(#clip162)\" d=\"M1055.64 1423.18 L1055.64 1423.18 L1115.09 1423.18 L1115.09 1423.18 L1055.64 1423.18 L1055.64 1423.18  Z\" fill=\"#3da44d\" fill-rule=\"evenodd\" fill-opacity=\"0.5\"/>\n",
       "<polyline clip-path=\"url(#clip162)\" style=\"stroke:#000000; stroke-linecap:round; stroke-linejoin:round; stroke-width:4; stroke-opacity:0.5; fill:none\" points=\"1055.64,1423.18 1055.64,1423.18 1115.09,1423.18 1055.64,1423.18 \"/>\n",
       "<path clip-path=\"url(#clip162)\" d=\"M1115.09 47.2441 L1115.09 1423.18 L1174.54 1423.18 L1174.54 47.2441 L1115.09 47.2441 L1115.09 47.2441  Z\" fill=\"#3da44d\" fill-rule=\"evenodd\" fill-opacity=\"0.5\"/>\n",
       "<polyline clip-path=\"url(#clip162)\" style=\"stroke:#000000; stroke-linecap:round; stroke-linejoin:round; stroke-width:4; stroke-opacity:0.5; fill:none\" points=\"1115.09,47.2441 1115.09,1423.18 1174.54,1423.18 1174.54,47.2441 1115.09,47.2441 \"/>\n",
       "<path clip-path=\"url(#clip162)\" d=\"M1174.54 1423.18 L1174.54 1423.18 L1233.99 1423.18 L1233.99 1423.18 L1174.54 1423.18 L1174.54 1423.18  Z\" fill=\"#3da44d\" fill-rule=\"evenodd\" fill-opacity=\"0.5\"/>\n",
       "<polyline clip-path=\"url(#clip162)\" style=\"stroke:#000000; stroke-linecap:round; stroke-linejoin:round; stroke-width:4; stroke-opacity:0.5; fill:none\" points=\"1174.54,1423.18 1174.54,1423.18 1233.99,1423.18 1174.54,1423.18 \"/>\n",
       "<path clip-path=\"url(#clip162)\" d=\"M1233.99 474.719 L1233.99 1423.18 L1293.44 1423.18 L1293.44 474.719 L1233.99 474.719 L1233.99 474.719  Z\" fill=\"#3da44d\" fill-rule=\"evenodd\" fill-opacity=\"0.5\"/>\n",
       "<polyline clip-path=\"url(#clip162)\" style=\"stroke:#000000; stroke-linecap:round; stroke-linejoin:round; stroke-width:4; stroke-opacity:0.5; fill:none\" points=\"1233.99,474.719 1233.99,1423.18 1293.44,1423.18 1293.44,474.719 1233.99,474.719 \"/>\n",
       "<path clip-path=\"url(#clip162)\" d=\"M1293.44 1423.18 L1293.44 1423.18 L1352.89 1423.18 L1352.89 1423.18 L1293.44 1423.18 L1293.44 1423.18  Z\" fill=\"#3da44d\" fill-rule=\"evenodd\" fill-opacity=\"0.5\"/>\n",
       "<polyline clip-path=\"url(#clip162)\" style=\"stroke:#000000; stroke-linecap:round; stroke-linejoin:round; stroke-width:4; stroke-opacity:0.5; fill:none\" points=\"1293.44,1423.18 1293.44,1423.18 1352.89,1423.18 1293.44,1423.18 \"/>\n",
       "<path clip-path=\"url(#clip162)\" d=\"M1352.89 648.381 L1352.89 1423.18 L1412.34 1423.18 L1412.34 648.381 L1352.89 648.381 L1352.89 648.381  Z\" fill=\"#3da44d\" fill-rule=\"evenodd\" fill-opacity=\"0.5\"/>\n",
       "<polyline clip-path=\"url(#clip162)\" style=\"stroke:#000000; stroke-linecap:round; stroke-linejoin:round; stroke-width:4; stroke-opacity:0.5; fill:none\" points=\"1352.89,648.381 1352.89,1423.18 1412.34,1423.18 1412.34,648.381 1352.89,648.381 \"/>\n",
       "<path clip-path=\"url(#clip162)\" d=\"M1412.34 1423.18 L1412.34 1423.18 L1471.79 1423.18 L1471.79 1423.18 L1412.34 1423.18 L1412.34 1423.18  Z\" fill=\"#3da44d\" fill-rule=\"evenodd\" fill-opacity=\"0.5\"/>\n",
       "<polyline clip-path=\"url(#clip162)\" style=\"stroke:#000000; stroke-linecap:round; stroke-linejoin:round; stroke-width:4; stroke-opacity:0.5; fill:none\" points=\"1412.34,1423.18 1412.34,1423.18 1471.79,1423.18 1412.34,1423.18 \"/>\n",
       "<path clip-path=\"url(#clip162)\" d=\"M1471.79 1055.82 L1471.79 1423.18 L1531.24 1423.18 L1531.24 1055.82 L1471.79 1055.82 L1471.79 1055.82  Z\" fill=\"#3da44d\" fill-rule=\"evenodd\" fill-opacity=\"0.5\"/>\n",
       "<polyline clip-path=\"url(#clip162)\" style=\"stroke:#000000; stroke-linecap:round; stroke-linejoin:round; stroke-width:4; stroke-opacity:0.5; fill:none\" points=\"1471.79,1055.82 1471.79,1423.18 1531.24,1423.18 1531.24,1055.82 1471.79,1055.82 \"/>\n",
       "<path clip-path=\"url(#clip162)\" d=\"M1531.24 1423.18 L1531.24 1423.18 L1590.69 1423.18 L1590.69 1423.18 L1531.24 1423.18 L1531.24 1423.18  Z\" fill=\"#3da44d\" fill-rule=\"evenodd\" fill-opacity=\"0.5\"/>\n",
       "<polyline clip-path=\"url(#clip162)\" style=\"stroke:#000000; stroke-linecap:round; stroke-linejoin:round; stroke-width:4; stroke-opacity:0.5; fill:none\" points=\"1531.24,1423.18 1531.24,1423.18 1590.69,1423.18 1531.24,1423.18 \"/>\n",
       "<path clip-path=\"url(#clip162)\" d=\"M1590.69 1169.37 L1590.69 1423.18 L1650.14 1423.18 L1650.14 1169.37 L1590.69 1169.37 L1590.69 1169.37  Z\" fill=\"#3da44d\" fill-rule=\"evenodd\" fill-opacity=\"0.5\"/>\n",
       "<polyline clip-path=\"url(#clip162)\" style=\"stroke:#000000; stroke-linecap:round; stroke-linejoin:round; stroke-width:4; stroke-opacity:0.5; fill:none\" points=\"1590.69,1169.37 1590.69,1423.18 1650.14,1423.18 1650.14,1169.37 1590.69,1169.37 \"/>\n",
       "<path clip-path=\"url(#clip162)\" d=\"M1650.14 1423.18 L1650.14 1423.18 L1709.59 1423.18 L1709.59 1423.18 L1650.14 1423.18 L1650.14 1423.18  Z\" fill=\"#3da44d\" fill-rule=\"evenodd\" fill-opacity=\"0.5\"/>\n",
       "<polyline clip-path=\"url(#clip162)\" style=\"stroke:#000000; stroke-linecap:round; stroke-linejoin:round; stroke-width:4; stroke-opacity:0.5; fill:none\" points=\"1650.14,1423.18 1650.14,1423.18 1709.59,1423.18 1650.14,1423.18 \"/>\n",
       "<path clip-path=\"url(#clip162)\" d=\"M1709.59 1336.35 L1709.59 1423.18 L1769.04 1423.18 L1769.04 1336.35 L1709.59 1336.35 L1709.59 1336.35  Z\" fill=\"#3da44d\" fill-rule=\"evenodd\" fill-opacity=\"0.5\"/>\n",
       "<polyline clip-path=\"url(#clip162)\" style=\"stroke:#000000; stroke-linecap:round; stroke-linejoin:round; stroke-width:4; stroke-opacity:0.5; fill:none\" points=\"1709.59,1336.35 1709.59,1423.18 1769.04,1423.18 1769.04,1336.35 1709.59,1336.35 \"/>\n",
       "<path clip-path=\"url(#clip162)\" d=\"M1769.04 1423.18 L1769.04 1423.18 L1828.49 1423.18 L1828.49 1423.18 L1769.04 1423.18 L1769.04 1423.18  Z\" fill=\"#3da44d\" fill-rule=\"evenodd\" fill-opacity=\"0.5\"/>\n",
       "<polyline clip-path=\"url(#clip162)\" style=\"stroke:#000000; stroke-linecap:round; stroke-linejoin:round; stroke-width:4; stroke-opacity:0.5; fill:none\" points=\"1769.04,1423.18 1769.04,1423.18 1828.49,1423.18 1769.04,1423.18 \"/>\n",
       "<path clip-path=\"url(#clip162)\" d=\"M1828.49 1389.78 L1828.49 1423.18 L1887.94 1423.18 L1887.94 1389.78 L1828.49 1389.78 L1828.49 1389.78  Z\" fill=\"#3da44d\" fill-rule=\"evenodd\" fill-opacity=\"0.5\"/>\n",
       "<polyline clip-path=\"url(#clip162)\" style=\"stroke:#000000; stroke-linecap:round; stroke-linejoin:round; stroke-width:4; stroke-opacity:0.5; fill:none\" points=\"1828.49,1389.78 1828.49,1423.18 1887.94,1423.18 1887.94,1389.78 1828.49,1389.78 \"/>\n",
       "<path clip-path=\"url(#clip162)\" d=\"M1887.94 1423.18 L1887.94 1423.18 L1947.39 1423.18 L1947.39 1423.18 L1887.94 1423.18 L1887.94 1423.18  Z\" fill=\"#3da44d\" fill-rule=\"evenodd\" fill-opacity=\"0.5\"/>\n",
       "<polyline clip-path=\"url(#clip162)\" style=\"stroke:#000000; stroke-linecap:round; stroke-linejoin:round; stroke-width:4; stroke-opacity:0.5; fill:none\" points=\"1887.94,1423.18 1887.94,1423.18 1947.39,1423.18 1887.94,1423.18 \"/>\n",
       "<path clip-path=\"url(#clip162)\" d=\"M1947.39 1409.82 L1947.39 1423.18 L2006.84 1423.18 L2006.84 1409.82 L1947.39 1409.82 L1947.39 1409.82  Z\" fill=\"#3da44d\" fill-rule=\"evenodd\" fill-opacity=\"0.5\"/>\n",
       "<polyline clip-path=\"url(#clip162)\" style=\"stroke:#000000; stroke-linecap:round; stroke-linejoin:round; stroke-width:4; stroke-opacity:0.5; fill:none\" points=\"1947.39,1409.82 1947.39,1423.18 2006.84,1423.18 2006.84,1409.82 1947.39,1409.82 \"/>\n",
       "<path clip-path=\"url(#clip162)\" d=\"M2006.84 1423.18 L2006.84 1423.18 L2066.29 1423.18 L2066.29 1423.18 L2006.84 1423.18 L2006.84 1423.18  Z\" fill=\"#3da44d\" fill-rule=\"evenodd\" fill-opacity=\"0.5\"/>\n",
       "<polyline clip-path=\"url(#clip162)\" style=\"stroke:#000000; stroke-linecap:round; stroke-linejoin:round; stroke-width:4; stroke-opacity:0.5; fill:none\" points=\"2006.84,1423.18 2006.84,1423.18 2066.29,1423.18 2006.84,1423.18 \"/>\n",
       "<path clip-path=\"url(#clip162)\" d=\"M2066.29 1409.82 L2066.29 1423.18 L2125.74 1423.18 L2125.74 1409.82 L2066.29 1409.82 L2066.29 1409.82  Z\" fill=\"#3da44d\" fill-rule=\"evenodd\" fill-opacity=\"0.5\"/>\n",
       "<polyline clip-path=\"url(#clip162)\" style=\"stroke:#000000; stroke-linecap:round; stroke-linejoin:round; stroke-width:4; stroke-opacity:0.5; fill:none\" points=\"2066.29,1409.82 2066.29,1423.18 2125.74,1423.18 2125.74,1409.82 2066.29,1409.82 \"/>\n",
       "<path clip-path=\"url(#clip162)\" d=\"M2125.74 1423.18 L2125.74 1423.18 L2185.19 1423.18 L2185.19 1423.18 L2125.74 1423.18 L2125.74 1423.18  Z\" fill=\"#3da44d\" fill-rule=\"evenodd\" fill-opacity=\"0.5\"/>\n",
       "<polyline clip-path=\"url(#clip162)\" style=\"stroke:#000000; stroke-linecap:round; stroke-linejoin:round; stroke-width:4; stroke-opacity:0.5; fill:none\" points=\"2125.74,1423.18 2125.74,1423.18 2185.19,1423.18 2125.74,1423.18 \"/>\n",
       "<path clip-path=\"url(#clip162)\" d=\"M2185.19 1416.5 L2185.19 1423.18 L2244.64 1423.18 L2244.64 1416.5 L2185.19 1416.5 L2185.19 1416.5  Z\" fill=\"#3da44d\" fill-rule=\"evenodd\" fill-opacity=\"0.5\"/>\n",
       "<polyline clip-path=\"url(#clip162)\" style=\"stroke:#000000; stroke-linecap:round; stroke-linejoin:round; stroke-width:4; stroke-opacity:0.5; fill:none\" points=\"2185.19,1416.5 2185.19,1423.18 2244.64,1423.18 2244.64,1416.5 2185.19,1416.5 \"/>\n",
       "<circle clip-path=\"url(#clip162)\" style=\"fill:#3da44d; stroke:none; fill-opacity:0\" cx=\"669.216\" cy=\"1302.95\" r=\"2\"/>\n",
       "<circle clip-path=\"url(#clip162)\" style=\"fill:#3da44d; stroke:none; fill-opacity:0\" cx=\"728.666\" cy=\"1423.18\" r=\"2\"/>\n",
       "<circle clip-path=\"url(#clip162)\" style=\"fill:#3da44d; stroke:none; fill-opacity:0\" cx=\"788.116\" cy=\"1015.74\" r=\"2\"/>\n",
       "<circle clip-path=\"url(#clip162)\" style=\"fill:#3da44d; stroke:none; fill-opacity:0\" cx=\"847.566\" cy=\"1423.18\" r=\"2\"/>\n",
       "<circle clip-path=\"url(#clip162)\" style=\"fill:#3da44d; stroke:none; fill-opacity:0\" cx=\"907.016\" cy=\"427.964\" r=\"2\"/>\n",
       "<circle clip-path=\"url(#clip162)\" style=\"fill:#3da44d; stroke:none; fill-opacity:0\" cx=\"966.466\" cy=\"1423.18\" r=\"2\"/>\n",
       "<circle clip-path=\"url(#clip162)\" style=\"fill:#3da44d; stroke:none; fill-opacity:0\" cx=\"1025.92\" cy=\"140.754\" r=\"2\"/>\n",
       "<circle clip-path=\"url(#clip162)\" style=\"fill:#3da44d; stroke:none; fill-opacity:0\" cx=\"1085.37\" cy=\"1423.18\" r=\"2\"/>\n",
       "<circle clip-path=\"url(#clip162)\" style=\"fill:#3da44d; stroke:none; fill-opacity:0\" cx=\"1144.82\" cy=\"47.2441\" r=\"2\"/>\n",
       "<circle clip-path=\"url(#clip162)\" style=\"fill:#3da44d; stroke:none; fill-opacity:0\" cx=\"1204.27\" cy=\"1423.18\" r=\"2\"/>\n",
       "<circle clip-path=\"url(#clip162)\" style=\"fill:#3da44d; stroke:none; fill-opacity:0\" cx=\"1263.72\" cy=\"474.719\" r=\"2\"/>\n",
       "<circle clip-path=\"url(#clip162)\" style=\"fill:#3da44d; stroke:none; fill-opacity:0\" cx=\"1323.17\" cy=\"1423.18\" r=\"2\"/>\n",
       "<circle clip-path=\"url(#clip162)\" style=\"fill:#3da44d; stroke:none; fill-opacity:0\" cx=\"1382.62\" cy=\"648.381\" r=\"2\"/>\n",
       "<circle clip-path=\"url(#clip162)\" style=\"fill:#3da44d; stroke:none; fill-opacity:0\" cx=\"1442.07\" cy=\"1423.18\" r=\"2\"/>\n",
       "<circle clip-path=\"url(#clip162)\" style=\"fill:#3da44d; stroke:none; fill-opacity:0\" cx=\"1501.52\" cy=\"1055.82\" r=\"2\"/>\n",
       "<circle clip-path=\"url(#clip162)\" style=\"fill:#3da44d; stroke:none; fill-opacity:0\" cx=\"1560.97\" cy=\"1423.18\" r=\"2\"/>\n",
       "<circle clip-path=\"url(#clip162)\" style=\"fill:#3da44d; stroke:none; fill-opacity:0\" cx=\"1620.42\" cy=\"1169.37\" r=\"2\"/>\n",
       "<circle clip-path=\"url(#clip162)\" style=\"fill:#3da44d; stroke:none; fill-opacity:0\" cx=\"1679.87\" cy=\"1423.18\" r=\"2\"/>\n",
       "<circle clip-path=\"url(#clip162)\" style=\"fill:#3da44d; stroke:none; fill-opacity:0\" cx=\"1739.32\" cy=\"1336.35\" r=\"2\"/>\n",
       "<circle clip-path=\"url(#clip162)\" style=\"fill:#3da44d; stroke:none; fill-opacity:0\" cx=\"1798.77\" cy=\"1423.18\" r=\"2\"/>\n",
       "<circle clip-path=\"url(#clip162)\" style=\"fill:#3da44d; stroke:none; fill-opacity:0\" cx=\"1858.22\" cy=\"1389.78\" r=\"2\"/>\n",
       "<circle clip-path=\"url(#clip162)\" style=\"fill:#3da44d; stroke:none; fill-opacity:0\" cx=\"1917.67\" cy=\"1423.18\" r=\"2\"/>\n",
       "<circle clip-path=\"url(#clip162)\" style=\"fill:#3da44d; stroke:none; fill-opacity:0\" cx=\"1977.12\" cy=\"1409.82\" r=\"2\"/>\n",
       "<circle clip-path=\"url(#clip162)\" style=\"fill:#3da44d; stroke:none; fill-opacity:0\" cx=\"2036.57\" cy=\"1423.18\" r=\"2\"/>\n",
       "<circle clip-path=\"url(#clip162)\" style=\"fill:#3da44d; stroke:none; fill-opacity:0\" cx=\"2096.02\" cy=\"1409.82\" r=\"2\"/>\n",
       "<circle clip-path=\"url(#clip162)\" style=\"fill:#3da44d; stroke:none; fill-opacity:0\" cx=\"2155.47\" cy=\"1423.18\" r=\"2\"/>\n",
       "<circle clip-path=\"url(#clip162)\" style=\"fill:#3da44d; stroke:none; fill-opacity:0\" cx=\"2214.92\" cy=\"1416.5\" r=\"2\"/>\n",
       "<path clip-path=\"url(#clip160)\" d=\"M1732.4 300.469 L2282.13 300.469 L2282.13 93.1086 L1732.4 93.1086  Z\" fill=\"#ffffff\" fill-rule=\"evenodd\" fill-opacity=\"1\"/>\n",
       "<polyline clip-path=\"url(#clip160)\" style=\"stroke:#000000; stroke-linecap:round; stroke-linejoin:round; stroke-width:4; stroke-opacity:1; fill:none\" points=\"1732.4,300.469 2282.13,300.469 2282.13,93.1086 1732.4,93.1086 1732.4,300.469 \"/>\n",
       "<path clip-path=\"url(#clip160)\" d=\"M1755.94 165.685 L1897.19 165.685 L1897.19 124.213 L1755.94 124.213 L1755.94 165.685  Z\" fill=\"#009af9\" fill-rule=\"evenodd\" fill-opacity=\"0.5\"/>\n",
       "<polyline clip-path=\"url(#clip160)\" style=\"stroke:#000000; stroke-linecap:round; stroke-linejoin:round; stroke-width:4; stroke-opacity:1; fill:none\" points=\"1755.94,165.685 1897.19,165.685 1897.19,124.213 1755.94,124.213 1755.94,165.685 \"/>\n",
       "<path clip-path=\"url(#clip160)\" d=\"M1920.73 127.669 L1927.02 127.669 L1942.35 156.581 L1942.35 127.669 L1946.88 127.669 L1946.88 162.229 L1940.59 162.229 L1925.26 133.317 L1925.26 162.229 L1920.73 162.229 L1920.73 127.669 Z\" fill=\"#000000\" fill-rule=\"nonzero\" fill-opacity=\"1\" /><path clip-path=\"url(#clip160)\" d=\"M1966.05 139.289 Q1962.62 139.289 1960.63 141.974 Q1958.64 144.636 1958.64 149.289 Q1958.64 153.942 1960.61 156.627 Q1962.6 159.289 1966.05 159.289 Q1969.45 159.289 1971.44 156.604 Q1973.43 153.918 1973.43 149.289 Q1973.43 144.682 1971.44 141.997 Q1969.45 139.289 1966.05 139.289 M1966.05 135.678 Q1971.61 135.678 1974.78 139.289 Q1977.95 142.9 1977.95 149.289 Q1977.95 155.655 1974.78 159.289 Q1971.61 162.9 1966.05 162.9 Q1960.47 162.9 1957.3 159.289 Q1954.15 155.655 1954.15 149.289 Q1954.15 142.9 1957.3 139.289 Q1960.47 135.678 1966.05 135.678 Z\" fill=\"#000000\" fill-rule=\"nonzero\" fill-opacity=\"1\" /><path clip-path=\"url(#clip160)\" d=\"M2000.03 140.284 Q1999.31 139.868 1998.46 139.682 Q1997.62 139.474 1996.61 139.474 Q1992.99 139.474 1991.05 141.835 Q1989.13 144.173 1989.13 148.571 L1989.13 162.229 L1984.85 162.229 L1984.85 136.303 L1989.13 136.303 L1989.13 140.331 Q1990.47 137.969 1992.62 136.835 Q1994.78 135.678 1997.86 135.678 Q1998.3 135.678 1998.83 135.747 Q1999.36 135.794 2000.01 135.909 L2000.03 140.284 Z\" fill=\"#000000\" fill-rule=\"nonzero\" fill-opacity=\"1\" /><path clip-path=\"url(#clip160)\" d=\"M2023.85 141.28 Q2025.45 138.409 2027.67 137.044 Q2029.89 135.678 2032.9 135.678 Q2036.95 135.678 2039.15 138.525 Q2041.35 141.349 2041.35 146.581 L2041.35 162.229 L2037.07 162.229 L2037.07 146.719 Q2037.07 142.993 2035.75 141.187 Q2034.43 139.382 2031.72 139.382 Q2028.41 139.382 2026.49 141.581 Q2024.57 143.78 2024.57 147.576 L2024.57 162.229 L2020.29 162.229 L2020.29 146.719 Q2020.29 142.969 2018.97 141.187 Q2017.65 139.382 2014.89 139.382 Q2011.63 139.382 2009.71 141.604 Q2007.79 143.803 2007.79 147.576 L2007.79 162.229 L2003.5 162.229 L2003.5 136.303 L2007.79 136.303 L2007.79 140.331 Q2009.24 137.946 2011.28 136.812 Q2013.32 135.678 2016.12 135.678 Q2018.94 135.678 2020.91 137.113 Q2022.9 138.548 2023.85 141.28 Z\" fill=\"#000000\" fill-rule=\"nonzero\" fill-opacity=\"1\" /><path clip-path=\"url(#clip160)\" d=\"M2061.63 149.196 Q2056.47 149.196 2054.48 150.377 Q2052.48 151.557 2052.48 154.405 Q2052.48 156.673 2053.97 158.016 Q2055.47 159.335 2058.04 159.335 Q2061.58 159.335 2063.71 156.835 Q2065.86 154.312 2065.86 150.145 L2065.86 149.196 L2061.63 149.196 M2070.12 147.437 L2070.12 162.229 L2065.86 162.229 L2065.86 158.293 Q2064.41 160.655 2062.23 161.789 Q2060.05 162.9 2056.91 162.9 Q2052.92 162.9 2050.56 160.678 Q2048.23 158.432 2048.23 154.682 Q2048.23 150.307 2051.14 148.085 Q2054.08 145.863 2059.89 145.863 L2065.86 145.863 L2065.86 145.446 Q2065.86 142.507 2063.92 140.909 Q2062 139.289 2058.5 139.289 Q2056.28 139.289 2054.17 139.821 Q2052.07 140.354 2050.12 141.419 L2050.12 137.483 Q2052.46 136.581 2054.66 136.141 Q2056.86 135.678 2058.94 135.678 Q2064.57 135.678 2067.35 138.594 Q2070.12 141.511 2070.12 147.437 Z\" fill=\"#000000\" fill-rule=\"nonzero\" fill-opacity=\"1\" /><path clip-path=\"url(#clip160)\" d=\"M2078.9 126.21 L2083.16 126.21 L2083.16 162.229 L2078.9 162.229 L2078.9 126.21 Z\" fill=\"#000000\" fill-rule=\"nonzero\" fill-opacity=\"1\" /><path clip-path=\"url(#clip160)\" d=\"M2102.3 126.257 Q2099.2 131.581 2097.69 136.789 Q2096.19 141.997 2096.19 147.344 Q2096.19 152.692 2097.69 157.946 Q2099.22 163.178 2102.3 168.479 L2098.6 168.479 Q2095.12 163.039 2093.39 157.784 Q2091.67 152.53 2091.67 147.344 Q2091.67 142.182 2093.39 136.951 Q2095.1 131.72 2098.6 126.257 L2102.3 126.257 Z\" fill=\"#000000\" fill-rule=\"nonzero\" fill-opacity=\"1\" /><path clip-path=\"url(#clip160)\" d=\"M2111.21 127.669 L2129.57 127.669 L2129.57 131.604 L2115.49 131.604 L2115.49 140.076 Q2116.51 139.729 2117.53 139.567 Q2118.55 139.382 2119.57 139.382 Q2125.35 139.382 2128.73 142.553 Q2132.11 145.724 2132.11 151.141 Q2132.11 156.719 2128.64 159.821 Q2125.17 162.9 2118.85 162.9 Q2116.67 162.9 2114.41 162.53 Q2112.16 162.159 2109.75 161.418 L2109.75 156.719 Q2111.84 157.854 2114.06 158.409 Q2116.28 158.965 2118.76 158.965 Q2122.76 158.965 2125.1 156.858 Q2127.44 154.752 2127.44 151.141 Q2127.44 147.53 2125.1 145.423 Q2122.76 143.317 2118.76 143.317 Q2116.88 143.317 2115.01 143.733 Q2113.16 144.15 2111.21 145.03 L2111.21 127.669 Z\" fill=\"#000000\" fill-rule=\"nonzero\" fill-opacity=\"1\" /><path clip-path=\"url(#clip160)\" d=\"M2141.81 156.349 L2146.7 156.349 L2146.7 160.33 L2142.9 167.738 L2139.91 167.738 L2141.81 160.33 L2141.81 156.349 Z\" fill=\"#000000\" fill-rule=\"nonzero\" fill-opacity=\"1\" /><path clip-path=\"url(#clip160)\" d=\"M2175.49 158.293 L2191.81 158.293 L2191.81 162.229 L2169.87 162.229 L2169.87 158.293 Q2172.53 155.539 2177.11 150.909 Q2181.72 146.256 2182.9 144.914 Q2185.15 142.391 2186.03 140.655 Q2186.93 138.895 2186.93 137.206 Q2186.93 134.451 2184.98 132.715 Q2183.06 130.979 2179.96 130.979 Q2177.76 130.979 2175.31 131.743 Q2172.88 132.507 2170.1 134.057 L2170.1 129.335 Q2172.92 128.201 2175.38 127.622 Q2177.83 127.044 2179.87 127.044 Q2185.24 127.044 2188.43 129.729 Q2191.63 132.414 2191.63 136.905 Q2191.63 139.034 2190.82 140.956 Q2190.03 142.854 2187.92 145.446 Q2187.34 146.118 2184.24 149.335 Q2181.14 152.53 2175.49 158.293 Z\" fill=\"#000000\" fill-rule=\"nonzero\" fill-opacity=\"1\" /><path clip-path=\"url(#clip160)\" d=\"M2200.35 126.257 L2204.06 126.257 Q2207.53 131.72 2209.24 136.951 Q2210.98 142.182 2210.98 147.344 Q2210.98 152.53 2209.24 157.784 Q2207.53 163.039 2204.06 168.479 L2200.35 168.479 Q2203.43 163.178 2204.94 157.946 Q2206.47 152.692 2206.47 147.344 Q2206.47 141.997 2204.94 136.789 Q2203.43 131.581 2200.35 126.257 Z\" fill=\"#000000\" fill-rule=\"nonzero\" fill-opacity=\"1\" /><path clip-path=\"url(#clip160)\" d=\"M1755.94 217.525 L1897.19 217.525 L1897.19 176.053 L1755.94 176.053 L1755.94 217.525  Z\" fill=\"#e26f46\" fill-rule=\"evenodd\" fill-opacity=\"0.5\"/>\n",
       "<polyline clip-path=\"url(#clip160)\" style=\"stroke:#000000; stroke-linecap:round; stroke-linejoin:round; stroke-width:4; stroke-opacity:1; fill:none\" points=\"1755.94,217.525 1897.19,217.525 1897.19,176.053 1755.94,176.053 1755.94,217.525 \"/>\n",
       "<path clip-path=\"url(#clip160)\" d=\"M1920.73 179.509 L1925.43 179.509 L1925.43 200.504 Q1925.43 206.059 1927.44 208.513 Q1929.45 210.944 1933.97 210.944 Q1938.46 210.944 1940.47 208.513 Q1942.49 206.059 1942.49 200.504 L1942.49 179.509 L1947.18 179.509 L1947.18 201.083 Q1947.18 207.842 1943.83 211.291 Q1940.49 214.74 1933.97 214.74 Q1927.42 214.74 1924.06 211.291 Q1920.73 207.842 1920.73 201.083 L1920.73 179.509 Z\" fill=\"#000000\" fill-rule=\"nonzero\" fill-opacity=\"1\" /><path clip-path=\"url(#clip160)\" d=\"M1977.32 198.421 L1977.32 214.069 L1973.06 214.069 L1973.06 198.559 Q1973.06 194.879 1971.63 193.05 Q1970.19 191.222 1967.32 191.222 Q1963.87 191.222 1961.88 193.421 Q1959.89 195.62 1959.89 199.416 L1959.89 214.069 L1955.61 214.069 L1955.61 188.143 L1959.89 188.143 L1959.89 192.171 Q1961.42 189.833 1963.48 188.675 Q1965.56 187.518 1968.27 187.518 Q1972.74 187.518 1975.03 190.296 Q1977.32 193.05 1977.32 198.421 Z\" fill=\"#000000\" fill-rule=\"nonzero\" fill-opacity=\"1\" /><path clip-path=\"url(#clip160)\" d=\"M1985.82 188.143 L1990.08 188.143 L1990.08 214.069 L1985.82 214.069 L1985.82 188.143 M1985.82 178.05 L1990.08 178.05 L1990.08 183.444 L1985.82 183.444 L1985.82 178.05 Z\" fill=\"#000000\" fill-rule=\"nonzero\" fill-opacity=\"1\" /><path clip-path=\"url(#clip160)\" d=\"M2012.11 178.05 L2012.11 181.592 L2008.04 181.592 Q2005.75 181.592 2004.85 182.518 Q2003.97 183.444 2003.97 185.851 L2003.97 188.143 L2010.98 188.143 L2010.98 191.453 L2003.97 191.453 L2003.97 214.069 L1999.68 214.069 L1999.68 191.453 L1995.61 191.453 L1995.61 188.143 L1999.68 188.143 L1999.68 186.337 Q1999.68 182.009 2001.7 180.041 Q2003.71 178.05 2008.09 178.05 L2012.11 178.05 Z\" fill=\"#000000\" fill-rule=\"nonzero\" fill-opacity=\"1\" /><path clip-path=\"url(#clip160)\" d=\"M2025.73 191.129 Q2022.3 191.129 2020.31 193.814 Q2018.32 196.476 2018.32 201.129 Q2018.32 205.782 2020.29 208.467 Q2022.28 211.129 2025.73 211.129 Q2029.13 211.129 2031.12 208.444 Q2033.11 205.758 2033.11 201.129 Q2033.11 196.522 2031.12 193.837 Q2029.13 191.129 2025.73 191.129 M2025.73 187.518 Q2031.28 187.518 2034.45 191.129 Q2037.62 194.74 2037.62 201.129 Q2037.62 207.495 2034.45 211.129 Q2031.28 214.74 2025.73 214.74 Q2020.15 214.74 2016.98 211.129 Q2013.83 207.495 2013.83 201.129 Q2013.83 194.74 2016.98 191.129 Q2020.15 187.518 2025.73 187.518 Z\" fill=\"#000000\" fill-rule=\"nonzero\" fill-opacity=\"1\" /><path clip-path=\"url(#clip160)\" d=\"M2059.71 192.124 Q2058.99 191.708 2058.13 191.522 Q2057.3 191.314 2056.28 191.314 Q2052.67 191.314 2050.73 193.675 Q2048.8 196.013 2048.8 200.411 L2048.8 214.069 L2044.52 214.069 L2044.52 188.143 L2048.8 188.143 L2048.8 192.171 Q2050.15 189.809 2052.3 188.675 Q2054.45 187.518 2057.53 187.518 Q2057.97 187.518 2058.5 187.587 Q2059.04 187.634 2059.68 187.749 L2059.71 192.124 Z\" fill=\"#000000\" fill-rule=\"nonzero\" fill-opacity=\"1\" /><path clip-path=\"url(#clip160)\" d=\"M2083.53 193.12 Q2085.12 190.249 2087.35 188.884 Q2089.57 187.518 2092.58 187.518 Q2096.63 187.518 2098.83 190.365 Q2101.03 193.189 2101.03 198.421 L2101.03 214.069 L2096.74 214.069 L2096.74 198.559 Q2096.74 194.833 2095.42 193.027 Q2094.1 191.222 2091.4 191.222 Q2088.09 191.222 2086.16 193.421 Q2084.24 195.62 2084.24 199.416 L2084.24 214.069 L2079.96 214.069 L2079.96 198.559 Q2079.96 194.809 2078.64 193.027 Q2077.32 191.222 2074.57 191.222 Q2071.3 191.222 2069.38 193.444 Q2067.46 195.643 2067.46 199.416 L2067.46 214.069 L2063.18 214.069 L2063.18 188.143 L2067.46 188.143 L2067.46 192.171 Q2068.92 189.786 2070.96 188.652 Q2072.99 187.518 2075.79 187.518 Q2078.62 187.518 2080.59 188.953 Q2082.58 190.388 2083.53 193.12 Z\" fill=\"#000000\" fill-rule=\"nonzero\" fill-opacity=\"1\" /><path clip-path=\"url(#clip160)\" d=\"M2119.75 178.097 Q2116.65 183.421 2115.15 188.629 Q2113.64 193.837 2113.64 199.184 Q2113.64 204.532 2115.15 209.786 Q2116.67 215.018 2119.75 220.319 L2116.05 220.319 Q2112.58 214.879 2110.84 209.624 Q2109.13 204.37 2109.13 199.184 Q2109.13 194.022 2110.84 188.791 Q2112.55 183.56 2116.05 178.097 L2119.75 178.097 Z\" fill=\"#000000\" fill-rule=\"nonzero\" fill-opacity=\"1\" /><path clip-path=\"url(#clip160)\" d=\"M2138.62 182.587 Q2135.01 182.587 2133.18 186.152 Q2131.37 189.694 2131.37 196.823 Q2131.37 203.93 2133.18 207.495 Q2135.01 211.036 2138.62 211.036 Q2142.25 211.036 2144.06 207.495 Q2145.89 203.93 2145.89 196.823 Q2145.89 189.694 2144.06 186.152 Q2142.25 182.587 2138.62 182.587 M2138.62 178.884 Q2144.43 178.884 2147.48 183.49 Q2150.56 188.073 2150.56 196.823 Q2150.56 205.55 2147.48 210.157 Q2144.43 214.74 2138.62 214.74 Q2132.81 214.74 2129.73 210.157 Q2126.67 205.55 2126.67 196.823 Q2126.67 188.073 2129.73 183.49 Q2132.81 178.884 2138.62 178.884 Z\" fill=\"#000000\" fill-rule=\"nonzero\" fill-opacity=\"1\" /><path clip-path=\"url(#clip160)\" d=\"M2159.27 208.189 L2164.15 208.189 L2164.15 212.17 L2160.35 219.578 L2157.37 219.578 L2159.27 212.17 L2159.27 208.189 Z\" fill=\"#000000\" fill-rule=\"nonzero\" fill-opacity=\"1\" /><path clip-path=\"url(#clip160)\" d=\"M2189.73 210.133 L2197.37 210.133 L2197.37 183.768 L2189.06 185.435 L2189.06 181.175 L2197.32 179.509 L2202 179.509 L2202 210.133 L2209.64 210.133 L2209.64 214.069 L2189.73 214.069 L2189.73 210.133 Z\" fill=\"#000000\" fill-rule=\"nonzero\" fill-opacity=\"1\" /><path clip-path=\"url(#clip160)\" d=\"M2229.08 182.587 Q2225.47 182.587 2223.64 186.152 Q2221.84 189.694 2221.84 196.823 Q2221.84 203.93 2223.64 207.495 Q2225.47 211.036 2229.08 211.036 Q2232.72 211.036 2234.52 207.495 Q2236.35 203.93 2236.35 196.823 Q2236.35 189.694 2234.52 186.152 Q2232.72 182.587 2229.08 182.587 M2229.08 178.884 Q2234.89 178.884 2237.95 183.49 Q2241.03 188.073 2241.03 196.823 Q2241.03 205.55 2237.95 210.157 Q2234.89 214.74 2229.08 214.74 Q2223.27 214.74 2220.19 210.157 Q2217.14 205.55 2217.14 196.823 Q2217.14 188.073 2220.19 183.49 Q2223.27 178.884 2229.08 178.884 Z\" fill=\"#000000\" fill-rule=\"nonzero\" fill-opacity=\"1\" /><path clip-path=\"url(#clip160)\" d=\"M2247.97 178.097 L2251.67 178.097 Q2255.15 183.56 2256.86 188.791 Q2258.59 194.022 2258.59 199.184 Q2258.59 204.37 2256.86 209.624 Q2255.15 214.879 2251.67 220.319 L2247.97 220.319 Q2251.05 215.018 2252.55 209.786 Q2254.08 204.532 2254.08 199.184 Q2254.08 193.837 2252.55 188.629 Q2251.05 183.421 2247.97 178.097 Z\" fill=\"#000000\" fill-rule=\"nonzero\" fill-opacity=\"1\" /><path clip-path=\"url(#clip160)\" d=\"M1755.94 269.365 L1897.19 269.365 L1897.19 227.893 L1755.94 227.893 L1755.94 269.365  Z\" fill=\"#3da44d\" fill-rule=\"evenodd\" fill-opacity=\"0.5\"/>\n",
       "<polyline clip-path=\"url(#clip160)\" style=\"stroke:#000000; stroke-linecap:round; stroke-linejoin:round; stroke-width:4; stroke-opacity:1; fill:none\" points=\"1755.94,269.365 1897.19,269.365 1897.19,227.893 1755.94,227.893 1755.94,269.365 \"/>\n",
       "<path clip-path=\"url(#clip160)\" d=\"M1925.4 235.191 L1925.4 248.177 L1931.28 248.177 Q1934.55 248.177 1936.33 246.487 Q1938.11 244.798 1938.11 241.673 Q1938.11 238.571 1936.33 236.881 Q1934.55 235.191 1931.28 235.191 L1925.4 235.191 M1920.73 231.349 L1931.28 231.349 Q1937.09 231.349 1940.05 233.987 Q1943.04 236.603 1943.04 241.673 Q1943.04 246.788 1940.05 249.404 Q1937.09 252.02 1931.28 252.02 L1925.4 252.02 L1925.4 265.909 L1920.73 265.909 L1920.73 231.349 Z\" fill=\"#000000\" fill-rule=\"nonzero\" fill-opacity=\"1\" /><path clip-path=\"url(#clip160)\" d=\"M1957.49 242.969 Q1954.06 242.969 1952.07 245.654 Q1950.08 248.316 1950.08 252.969 Q1950.08 257.622 1952.05 260.307 Q1954.04 262.969 1957.49 262.969 Q1960.89 262.969 1962.88 260.284 Q1964.87 257.598 1964.87 252.969 Q1964.87 248.362 1962.88 245.677 Q1960.89 242.969 1957.49 242.969 M1957.49 239.358 Q1963.04 239.358 1966.21 242.969 Q1969.38 246.58 1969.38 252.969 Q1969.38 259.335 1966.21 262.969 Q1963.04 266.58 1957.49 266.58 Q1951.91 266.58 1948.74 262.969 Q1945.59 259.335 1945.59 252.969 Q1945.59 246.58 1948.74 242.969 Q1951.91 239.358 1957.49 239.358 Z\" fill=\"#000000\" fill-rule=\"nonzero\" fill-opacity=\"1\" /><path clip-path=\"url(#clip160)\" d=\"M1976.44 239.983 L1980.7 239.983 L1980.7 265.909 L1976.44 265.909 L1976.44 239.983 M1976.44 229.89 L1980.7 229.89 L1980.7 235.284 L1976.44 235.284 L1976.44 229.89 Z\" fill=\"#000000\" fill-rule=\"nonzero\" fill-opacity=\"1\" /><path clip-path=\"url(#clip160)\" d=\"M2006.14 240.747 L2006.14 244.774 Q2004.34 243.849 2002.39 243.386 Q2000.45 242.923 1998.36 242.923 Q1995.19 242.923 1993.6 243.895 Q1992.02 244.867 1992.02 246.811 Q1992.02 248.293 1993.16 249.149 Q1994.29 249.983 1997.72 250.747 L1999.17 251.071 Q2003.71 252.043 2005.61 253.825 Q2007.53 255.585 2007.53 258.756 Q2007.53 262.367 2004.66 264.473 Q2001.81 266.58 1996.81 266.58 Q1994.73 266.58 1992.46 266.163 Q1990.22 265.77 1987.72 264.96 L1987.72 260.561 Q1990.08 261.788 1992.37 262.413 Q1994.66 263.015 1996.91 263.015 Q1999.92 263.015 2001.54 261.997 Q2003.16 260.955 2003.16 259.08 Q2003.16 257.344 2001.98 256.418 Q2000.82 255.492 1996.86 254.636 L1995.38 254.288 Q1991.42 253.455 1989.66 251.742 Q1987.9 250.006 1987.9 246.997 Q1987.9 243.339 1990.49 241.349 Q1993.09 239.358 1997.86 239.358 Q2000.22 239.358 2002.3 239.705 Q2004.38 240.052 2006.14 240.747 Z\" fill=\"#000000\" fill-rule=\"nonzero\" fill-opacity=\"1\" /><path clip-path=\"url(#clip160)\" d=\"M2030.84 240.747 L2030.84 244.774 Q2029.04 243.849 2027.09 243.386 Q2025.15 242.923 2023.06 242.923 Q2019.89 242.923 2018.29 243.895 Q2016.72 244.867 2016.72 246.811 Q2016.72 248.293 2017.86 249.149 Q2018.99 249.983 2022.42 250.747 L2023.87 251.071 Q2028.41 252.043 2030.31 253.825 Q2032.23 255.585 2032.23 258.756 Q2032.23 262.367 2029.36 264.473 Q2026.51 266.58 2021.51 266.58 Q2019.43 266.58 2017.16 266.163 Q2014.92 265.77 2012.42 264.96 L2012.42 260.561 Q2014.78 261.788 2017.07 262.413 Q2019.36 263.015 2021.61 263.015 Q2024.61 263.015 2026.23 261.997 Q2027.86 260.955 2027.86 259.08 Q2027.86 257.344 2026.67 256.418 Q2025.52 255.492 2021.56 254.636 L2020.08 254.288 Q2016.12 253.455 2014.36 251.742 Q2012.6 250.006 2012.6 246.997 Q2012.6 243.339 2015.19 241.349 Q2017.79 239.358 2022.55 239.358 Q2024.92 239.358 2027 239.705 Q2029.08 240.052 2030.84 240.747 Z\" fill=\"#000000\" fill-rule=\"nonzero\" fill-opacity=\"1\" /><path clip-path=\"url(#clip160)\" d=\"M2049.06 242.969 Q2045.63 242.969 2043.64 245.654 Q2041.65 248.316 2041.65 252.969 Q2041.65 257.622 2043.62 260.307 Q2045.61 262.969 2049.06 262.969 Q2052.46 262.969 2054.45 260.284 Q2056.44 257.598 2056.44 252.969 Q2056.44 248.362 2054.45 245.677 Q2052.46 242.969 2049.06 242.969 M2049.06 239.358 Q2054.61 239.358 2057.79 242.969 Q2060.96 246.58 2060.96 252.969 Q2060.96 259.335 2057.79 262.969 Q2054.61 266.58 2049.06 266.58 Q2043.48 266.58 2040.31 262.969 Q2037.16 259.335 2037.16 252.969 Q2037.16 246.58 2040.31 242.969 Q2043.48 239.358 2049.06 239.358 Z\" fill=\"#000000\" fill-rule=\"nonzero\" fill-opacity=\"1\" /><path clip-path=\"url(#clip160)\" d=\"M2089.57 250.261 L2089.57 265.909 L2085.31 265.909 L2085.31 250.399 Q2085.31 246.719 2083.87 244.89 Q2082.44 243.062 2079.57 243.062 Q2076.12 243.062 2074.13 245.261 Q2072.14 247.46 2072.14 251.256 L2072.14 265.909 L2067.85 265.909 L2067.85 239.983 L2072.14 239.983 L2072.14 244.011 Q2073.66 241.673 2075.73 240.515 Q2077.81 239.358 2080.52 239.358 Q2084.98 239.358 2087.28 242.136 Q2089.57 244.89 2089.57 250.261 Z\" fill=\"#000000\" fill-rule=\"nonzero\" fill-opacity=\"1\" /><path clip-path=\"url(#clip160)\" d=\"M2108.29 229.937 Q2105.19 235.261 2103.69 240.469 Q2102.18 245.677 2102.18 251.024 Q2102.18 256.372 2103.69 261.626 Q2105.22 266.858 2108.29 272.159 L2104.59 272.159 Q2101.12 266.719 2099.38 261.464 Q2097.67 256.21 2097.67 251.024 Q2097.67 245.862 2099.38 240.631 Q2101.1 235.4 2104.59 229.937 L2108.29 229.937 Z\" fill=\"#000000\" fill-rule=\"nonzero\" fill-opacity=\"1\" /><path clip-path=\"url(#clip160)\" d=\"M2130.01 235.423 L2118.2 253.872 L2130.01 253.872 L2130.01 235.423 M2128.78 231.349 L2134.66 231.349 L2134.66 253.872 L2139.59 253.872 L2139.59 257.761 L2134.66 257.761 L2134.66 265.909 L2130.01 265.909 L2130.01 257.761 L2114.41 257.761 L2114.41 253.247 L2128.78 231.349 Z\" fill=\"#000000\" fill-rule=\"nonzero\" fill-opacity=\"1\" /><path clip-path=\"url(#clip160)\" d=\"M2146.05 229.937 L2149.75 229.937 Q2153.22 235.4 2154.94 240.631 Q2156.67 245.862 2156.67 251.024 Q2156.67 256.21 2154.94 261.464 Q2153.22 266.719 2149.75 272.159 L2146.05 272.159 Q2149.13 266.858 2150.63 261.626 Q2152.16 256.372 2152.16 251.024 Q2152.16 245.677 2150.63 240.469 Q2149.13 235.261 2146.05 229.937 Z\" fill=\"#000000\" fill-rule=\"nonzero\" fill-opacity=\"1\" /></svg>\n"
      ],
      "text/html": [
       "<?xml version=\"1.0\" encoding=\"utf-8\"?>\n",
       "<svg xmlns=\"http://www.w3.org/2000/svg\" xmlns:xlink=\"http://www.w3.org/1999/xlink\" width=\"600\" height=\"400\" viewBox=\"0 0 2400 1600\">\n",
       "<defs>\n",
       "  <clipPath id=\"clip210\">\n",
       "    <rect x=\"0\" y=\"0\" width=\"2400\" height=\"1600\"/>\n",
       "  </clipPath>\n",
       "</defs>\n",
       "<path clip-path=\"url(#clip210)\" d=\"M0 1600 L2400 1600 L2400 8.88178e-14 L0 8.88178e-14  Z\" fill=\"#ffffff\" fill-rule=\"evenodd\" fill-opacity=\"1\"/>\n",
       "<defs>\n",
       "  <clipPath id=\"clip211\">\n",
       "    <rect x=\"480\" y=\"0\" width=\"1681\" height=\"1600\"/>\n",
       "  </clipPath>\n",
       "</defs>\n",
       "<path clip-path=\"url(#clip210)\" d=\"M234.125 1423.18 L2352.76 1423.18 L2352.76 47.2441 L234.125 47.2441  Z\" fill=\"#ffffff\" fill-rule=\"evenodd\" fill-opacity=\"1\"/>\n",
       "<defs>\n",
       "  <clipPath id=\"clip212\">\n",
       "    <rect x=\"234\" y=\"47\" width=\"2120\" height=\"1377\"/>\n",
       "  </clipPath>\n",
       "</defs>\n",
       "<polyline clip-path=\"url(#clip212)\" style=\"stroke:#000000; stroke-linecap:round; stroke-linejoin:round; stroke-width:2; stroke-opacity:0.1; fill:none\" points=\"342.241,1423.18 342.241,47.2441 \"/>\n",
       "<polyline clip-path=\"url(#clip212)\" style=\"stroke:#000000; stroke-linecap:round; stroke-linejoin:round; stroke-width:2; stroke-opacity:0.1; fill:none\" points=\"639.491,1423.18 639.491,47.2441 \"/>\n",
       "<polyline clip-path=\"url(#clip212)\" style=\"stroke:#000000; stroke-linecap:round; stroke-linejoin:round; stroke-width:2; stroke-opacity:0.1; fill:none\" points=\"936.741,1423.18 936.741,47.2441 \"/>\n",
       "<polyline clip-path=\"url(#clip212)\" style=\"stroke:#000000; stroke-linecap:round; stroke-linejoin:round; stroke-width:2; stroke-opacity:0.1; fill:none\" points=\"1233.99,1423.18 1233.99,47.2441 \"/>\n",
       "<polyline clip-path=\"url(#clip212)\" style=\"stroke:#000000; stroke-linecap:round; stroke-linejoin:round; stroke-width:2; stroke-opacity:0.1; fill:none\" points=\"1531.24,1423.18 1531.24,47.2441 \"/>\n",
       "<polyline clip-path=\"url(#clip212)\" style=\"stroke:#000000; stroke-linecap:round; stroke-linejoin:round; stroke-width:2; stroke-opacity:0.1; fill:none\" points=\"1828.49,1423.18 1828.49,47.2441 \"/>\n",
       "<polyline clip-path=\"url(#clip212)\" style=\"stroke:#000000; stroke-linecap:round; stroke-linejoin:round; stroke-width:2; stroke-opacity:0.1; fill:none\" points=\"2125.74,1423.18 2125.74,47.2441 \"/>\n",
       "<polyline clip-path=\"url(#clip212)\" style=\"stroke:#000000; stroke-linecap:round; stroke-linejoin:round; stroke-width:2; stroke-opacity:0.1; fill:none\" points=\"234.125,1423.18 2352.76,1423.18 \"/>\n",
       "<polyline clip-path=\"url(#clip212)\" style=\"stroke:#000000; stroke-linecap:round; stroke-linejoin:round; stroke-width:2; stroke-opacity:0.1; fill:none\" points=\"234.125,1089.21 2352.76,1089.21 \"/>\n",
       "<polyline clip-path=\"url(#clip212)\" style=\"stroke:#000000; stroke-linecap:round; stroke-linejoin:round; stroke-width:2; stroke-opacity:0.1; fill:none\" points=\"234.125,755.25 2352.76,755.25 \"/>\n",
       "<polyline clip-path=\"url(#clip212)\" style=\"stroke:#000000; stroke-linecap:round; stroke-linejoin:round; stroke-width:2; stroke-opacity:0.1; fill:none\" points=\"234.125,421.285 2352.76,421.285 \"/>\n",
       "<polyline clip-path=\"url(#clip212)\" style=\"stroke:#000000; stroke-linecap:round; stroke-linejoin:round; stroke-width:2; stroke-opacity:0.1; fill:none\" points=\"234.125,87.3199 2352.76,87.3199 \"/>\n",
       "<polyline clip-path=\"url(#clip210)\" style=\"stroke:#000000; stroke-linecap:round; stroke-linejoin:round; stroke-width:4; stroke-opacity:1; fill:none\" points=\"234.125,1423.18 2352.76,1423.18 \"/>\n",
       "<polyline clip-path=\"url(#clip210)\" style=\"stroke:#000000; stroke-linecap:round; stroke-linejoin:round; stroke-width:4; stroke-opacity:1; fill:none\" points=\"342.241,1423.18 342.241,1404.28 \"/>\n",
       "<polyline clip-path=\"url(#clip210)\" style=\"stroke:#000000; stroke-linecap:round; stroke-linejoin:round; stroke-width:4; stroke-opacity:1; fill:none\" points=\"639.491,1423.18 639.491,1404.28 \"/>\n",
       "<polyline clip-path=\"url(#clip210)\" style=\"stroke:#000000; stroke-linecap:round; stroke-linejoin:round; stroke-width:4; stroke-opacity:1; fill:none\" points=\"936.741,1423.18 936.741,1404.28 \"/>\n",
       "<polyline clip-path=\"url(#clip210)\" style=\"stroke:#000000; stroke-linecap:round; stroke-linejoin:round; stroke-width:4; stroke-opacity:1; fill:none\" points=\"1233.99,1423.18 1233.99,1404.28 \"/>\n",
       "<polyline clip-path=\"url(#clip210)\" style=\"stroke:#000000; stroke-linecap:round; stroke-linejoin:round; stroke-width:4; stroke-opacity:1; fill:none\" points=\"1531.24,1423.18 1531.24,1404.28 \"/>\n",
       "<polyline clip-path=\"url(#clip210)\" style=\"stroke:#000000; stroke-linecap:round; stroke-linejoin:round; stroke-width:4; stroke-opacity:1; fill:none\" points=\"1828.49,1423.18 1828.49,1404.28 \"/>\n",
       "<polyline clip-path=\"url(#clip210)\" style=\"stroke:#000000; stroke-linecap:round; stroke-linejoin:round; stroke-width:4; stroke-opacity:1; fill:none\" points=\"2125.74,1423.18 2125.74,1404.28 \"/>\n",
       "<path clip-path=\"url(#clip210)\" d=\"M289.267 1468.75 L318.943 1468.75 L318.943 1472.69 L289.267 1472.69 L289.267 1468.75 Z\" fill=\"#000000\" fill-rule=\"nonzero\" fill-opacity=\"1\" /><path clip-path=\"url(#clip210)\" d=\"M333.063 1481.64 L349.382 1481.64 L349.382 1485.58 L327.438 1485.58 L327.438 1481.64 Q330.1 1478.89 334.683 1474.26 Q339.29 1469.61 340.47 1468.27 Q342.716 1465.74 343.595 1464.01 Q344.498 1462.25 344.498 1460.56 Q344.498 1457.8 342.554 1456.07 Q340.632 1454.33 337.531 1454.33 Q335.331 1454.33 332.878 1455.09 Q330.447 1455.86 327.669 1457.41 L327.669 1452.69 Q330.494 1451.55 332.947 1450.97 Q335.401 1450.39 337.438 1450.39 Q342.808 1450.39 346.003 1453.08 Q349.197 1455.77 349.197 1460.26 Q349.197 1462.39 348.387 1464.31 Q347.6 1466.2 345.493 1468.8 Q344.915 1469.47 341.813 1472.69 Q338.711 1475.88 333.063 1481.64 Z\" fill=\"#000000\" fill-rule=\"nonzero\" fill-opacity=\"1\" /><path clip-path=\"url(#clip210)\" d=\"M359.197 1479.7 L364.081 1479.7 L364.081 1485.58 L359.197 1485.58 L359.197 1479.7 Z\" fill=\"#000000\" fill-rule=\"nonzero\" fill-opacity=\"1\" /><path clip-path=\"url(#clip210)\" d=\"M374.313 1451.02 L392.669 1451.02 L392.669 1454.96 L378.595 1454.96 L378.595 1463.43 Q379.614 1463.08 380.632 1462.92 Q381.651 1462.73 382.669 1462.73 Q388.456 1462.73 391.836 1465.9 Q395.215 1469.08 395.215 1474.49 Q395.215 1480.07 391.743 1483.17 Q388.271 1486.25 381.952 1486.25 Q379.776 1486.25 377.507 1485.88 Q375.262 1485.51 372.854 1484.77 L372.854 1480.07 Q374.938 1481.2 377.16 1481.76 Q379.382 1482.32 381.859 1482.32 Q385.864 1482.32 388.202 1480.21 Q390.54 1478.1 390.54 1474.49 Q390.54 1470.88 388.202 1468.77 Q385.864 1466.67 381.859 1466.67 Q379.984 1466.67 378.109 1467.08 Q376.257 1467.5 374.313 1468.38 L374.313 1451.02 Z\" fill=\"#000000\" fill-rule=\"nonzero\" fill-opacity=\"1\" /><path clip-path=\"url(#clip210)\" d=\"M616.875 1454.1 Q613.264 1454.1 611.436 1457.66 Q609.63 1461.2 609.63 1468.33 Q609.63 1475.44 611.436 1479.01 Q613.264 1482.55 616.875 1482.55 Q620.51 1482.55 622.315 1479.01 Q624.144 1475.44 624.144 1468.33 Q624.144 1461.2 622.315 1457.66 Q620.51 1454.1 616.875 1454.1 M616.875 1450.39 Q622.686 1450.39 625.741 1455 Q628.82 1459.58 628.82 1468.33 Q628.82 1477.06 625.741 1481.67 Q622.686 1486.25 616.875 1486.25 Q611.065 1486.25 607.987 1481.67 Q604.931 1477.06 604.931 1468.33 Q604.931 1459.58 607.987 1455 Q611.065 1450.39 616.875 1450.39 Z\" fill=\"#000000\" fill-rule=\"nonzero\" fill-opacity=\"1\" /><path clip-path=\"url(#clip210)\" d=\"M637.037 1479.7 L641.922 1479.7 L641.922 1485.58 L637.037 1485.58 L637.037 1479.7 Z\" fill=\"#000000\" fill-rule=\"nonzero\" fill-opacity=\"1\" /><path clip-path=\"url(#clip210)\" d=\"M662.107 1454.1 Q658.496 1454.1 656.667 1457.66 Q654.861 1461.2 654.861 1468.33 Q654.861 1475.44 656.667 1479.01 Q658.496 1482.55 662.107 1482.55 Q665.741 1482.55 667.546 1479.01 Q669.375 1475.44 669.375 1468.33 Q669.375 1461.2 667.546 1457.66 Q665.741 1454.1 662.107 1454.1 M662.107 1450.39 Q667.917 1450.39 670.972 1455 Q674.051 1459.58 674.051 1468.33 Q674.051 1477.06 670.972 1481.67 Q667.917 1486.25 662.107 1486.25 Q656.296 1486.25 653.218 1481.67 Q650.162 1477.06 650.162 1468.33 Q650.162 1459.58 653.218 1455 Q656.296 1450.39 662.107 1450.39 Z\" fill=\"#000000\" fill-rule=\"nonzero\" fill-opacity=\"1\" /><path clip-path=\"url(#clip210)\" d=\"M908.477 1481.64 L924.796 1481.64 L924.796 1485.58 L902.852 1485.58 L902.852 1481.64 Q905.514 1478.89 910.097 1474.26 Q914.704 1469.61 915.884 1468.27 Q918.13 1465.74 919.009 1464.01 Q919.912 1462.25 919.912 1460.56 Q919.912 1457.8 917.968 1456.07 Q916.047 1454.33 912.945 1454.33 Q910.746 1454.33 908.292 1455.09 Q905.861 1455.86 903.084 1457.41 L903.084 1452.69 Q905.908 1451.55 908.361 1450.97 Q910.815 1450.39 912.852 1450.39 Q918.222 1450.39 921.417 1453.08 Q924.611 1455.77 924.611 1460.26 Q924.611 1462.39 923.801 1464.31 Q923.014 1466.2 920.908 1468.8 Q920.329 1469.47 917.227 1472.69 Q914.125 1475.88 908.477 1481.64 Z\" fill=\"#000000\" fill-rule=\"nonzero\" fill-opacity=\"1\" /><path clip-path=\"url(#clip210)\" d=\"M934.611 1479.7 L939.495 1479.7 L939.495 1485.58 L934.611 1485.58 L934.611 1479.7 Z\" fill=\"#000000\" fill-rule=\"nonzero\" fill-opacity=\"1\" /><path clip-path=\"url(#clip210)\" d=\"M949.727 1451.02 L968.083 1451.02 L968.083 1454.96 L954.009 1454.96 L954.009 1463.43 Q955.028 1463.08 956.046 1462.92 Q957.065 1462.73 958.083 1462.73 Q963.87 1462.73 967.25 1465.9 Q970.63 1469.08 970.63 1474.49 Q970.63 1480.07 967.157 1483.17 Q963.685 1486.25 957.366 1486.25 Q955.19 1486.25 952.921 1485.88 Q950.676 1485.51 948.269 1484.77 L948.269 1480.07 Q950.352 1481.2 952.574 1481.76 Q954.796 1482.32 957.273 1482.32 Q961.278 1482.32 963.616 1480.21 Q965.954 1478.1 965.954 1474.49 Q965.954 1470.88 963.616 1468.77 Q961.278 1466.67 957.273 1466.67 Q955.398 1466.67 953.523 1467.08 Q951.671 1467.5 949.727 1468.38 L949.727 1451.02 Z\" fill=\"#000000\" fill-rule=\"nonzero\" fill-opacity=\"1\" /><path clip-path=\"url(#clip210)\" d=\"M1201.16 1451.02 L1219.51 1451.02 L1219.51 1454.96 L1205.44 1454.96 L1205.44 1463.43 Q1206.46 1463.08 1207.47 1462.92 Q1208.49 1462.73 1209.51 1462.73 Q1215.3 1462.73 1218.68 1465.9 Q1222.06 1469.08 1222.06 1474.49 Q1222.06 1480.07 1218.59 1483.17 Q1215.11 1486.25 1208.79 1486.25 Q1206.62 1486.25 1204.35 1485.88 Q1202.1 1485.51 1199.7 1484.77 L1199.7 1480.07 Q1201.78 1481.2 1204 1481.76 Q1206.22 1482.32 1208.7 1482.32 Q1212.71 1482.32 1215.04 1480.21 Q1217.38 1478.1 1217.38 1474.49 Q1217.38 1470.88 1215.04 1468.77 Q1212.71 1466.67 1208.7 1466.67 Q1206.83 1466.67 1204.95 1467.08 Q1203.1 1467.5 1201.16 1468.38 L1201.16 1451.02 Z\" fill=\"#000000\" fill-rule=\"nonzero\" fill-opacity=\"1\" /><path clip-path=\"url(#clip210)\" d=\"M1231.27 1479.7 L1236.16 1479.7 L1236.16 1485.58 L1231.27 1485.58 L1231.27 1479.7 Z\" fill=\"#000000\" fill-rule=\"nonzero\" fill-opacity=\"1\" /><path clip-path=\"url(#clip210)\" d=\"M1256.34 1454.1 Q1252.73 1454.1 1250.9 1457.66 Q1249.09 1461.2 1249.09 1468.33 Q1249.09 1475.44 1250.9 1479.01 Q1252.73 1482.55 1256.34 1482.55 Q1259.97 1482.55 1261.78 1479.01 Q1263.61 1475.44 1263.61 1468.33 Q1263.61 1461.2 1261.78 1457.66 Q1259.97 1454.1 1256.34 1454.1 M1256.34 1450.39 Q1262.15 1450.39 1265.21 1455 Q1268.28 1459.58 1268.28 1468.33 Q1268.28 1477.06 1265.21 1481.67 Q1262.15 1486.25 1256.34 1486.25 Q1250.53 1486.25 1247.45 1481.67 Q1244.4 1477.06 1244.4 1468.33 Q1244.4 1459.58 1247.45 1455 Q1250.53 1450.39 1256.34 1450.39 Z\" fill=\"#000000\" fill-rule=\"nonzero\" fill-opacity=\"1\" /><path clip-path=\"url(#clip210)\" d=\"M1497.56 1451.02 L1519.78 1451.02 L1519.78 1453.01 L1507.24 1485.58 L1502.35 1485.58 L1514.16 1454.96 L1497.56 1454.96 L1497.56 1451.02 Z\" fill=\"#000000\" fill-rule=\"nonzero\" fill-opacity=\"1\" /><path clip-path=\"url(#clip210)\" d=\"M1528.9 1479.7 L1533.79 1479.7 L1533.79 1485.58 L1528.9 1485.58 L1528.9 1479.7 Z\" fill=\"#000000\" fill-rule=\"nonzero\" fill-opacity=\"1\" /><path clip-path=\"url(#clip210)\" d=\"M1544.02 1451.02 L1562.37 1451.02 L1562.37 1454.96 L1548.3 1454.96 L1548.3 1463.43 Q1549.32 1463.08 1550.34 1462.92 Q1551.36 1462.73 1552.37 1462.73 Q1558.16 1462.73 1561.54 1465.9 Q1564.92 1469.08 1564.92 1474.49 Q1564.92 1480.07 1561.45 1483.17 Q1557.98 1486.25 1551.66 1486.25 Q1549.48 1486.25 1547.21 1485.88 Q1544.97 1485.51 1542.56 1484.77 L1542.56 1480.07 Q1544.64 1481.2 1546.87 1481.76 Q1549.09 1482.32 1551.56 1482.32 Q1555.57 1482.32 1557.91 1480.21 Q1560.25 1478.1 1560.25 1474.49 Q1560.25 1470.88 1557.91 1468.77 Q1555.57 1466.67 1551.56 1466.67 Q1549.69 1466.67 1547.81 1467.08 Q1545.96 1467.5 1544.02 1468.38 L1544.02 1451.02 Z\" fill=\"#000000\" fill-rule=\"nonzero\" fill-opacity=\"1\" /><path clip-path=\"url(#clip210)\" d=\"M1780.56 1481.64 L1788.2 1481.64 L1788.2 1455.28 L1779.89 1456.95 L1779.89 1452.69 L1788.15 1451.02 L1792.83 1451.02 L1792.83 1481.64 L1800.47 1481.64 L1800.47 1485.58 L1780.56 1485.58 L1780.56 1481.64 Z\" fill=\"#000000\" fill-rule=\"nonzero\" fill-opacity=\"1\" /><path clip-path=\"url(#clip210)\" d=\"M1819.91 1454.1 Q1816.3 1454.1 1814.47 1457.66 Q1812.67 1461.2 1812.67 1468.33 Q1812.67 1475.44 1814.47 1479.01 Q1816.3 1482.55 1819.91 1482.55 Q1823.55 1482.55 1825.35 1479.01 Q1827.18 1475.44 1827.18 1468.33 Q1827.18 1461.2 1825.35 1457.66 Q1823.55 1454.1 1819.91 1454.1 M1819.91 1450.39 Q1825.72 1450.39 1828.78 1455 Q1831.86 1459.58 1831.86 1468.33 Q1831.86 1477.06 1828.78 1481.67 Q1825.72 1486.25 1819.91 1486.25 Q1814.1 1486.25 1811.03 1481.67 Q1807.97 1477.06 1807.97 1468.33 Q1807.97 1459.58 1811.03 1455 Q1814.1 1450.39 1819.91 1450.39 Z\" fill=\"#000000\" fill-rule=\"nonzero\" fill-opacity=\"1\" /><path clip-path=\"url(#clip210)\" d=\"M1840.08 1479.7 L1844.96 1479.7 L1844.96 1485.58 L1840.08 1485.58 L1840.08 1479.7 Z\" fill=\"#000000\" fill-rule=\"nonzero\" fill-opacity=\"1\" /><path clip-path=\"url(#clip210)\" d=\"M1865.15 1454.1 Q1861.53 1454.1 1859.71 1457.66 Q1857.9 1461.2 1857.9 1468.33 Q1857.9 1475.44 1859.71 1479.01 Q1861.53 1482.55 1865.15 1482.55 Q1868.78 1482.55 1870.59 1479.01 Q1872.41 1475.44 1872.41 1468.33 Q1872.41 1461.2 1870.59 1457.66 Q1868.78 1454.1 1865.15 1454.1 M1865.15 1450.39 Q1870.96 1450.39 1874.01 1455 Q1877.09 1459.58 1877.09 1468.33 Q1877.09 1477.06 1874.01 1481.67 Q1870.96 1486.25 1865.15 1486.25 Q1859.34 1486.25 1856.26 1481.67 Q1853.2 1477.06 1853.2 1468.33 Q1853.2 1459.58 1856.26 1455 Q1859.34 1450.39 1865.15 1450.39 Z\" fill=\"#000000\" fill-rule=\"nonzero\" fill-opacity=\"1\" /><path clip-path=\"url(#clip210)\" d=\"M2078.31 1481.64 L2085.95 1481.64 L2085.95 1455.28 L2077.64 1456.95 L2077.64 1452.69 L2085.9 1451.02 L2090.58 1451.02 L2090.58 1481.64 L2098.22 1481.64 L2098.22 1485.58 L2078.31 1485.58 L2078.31 1481.64 Z\" fill=\"#000000\" fill-rule=\"nonzero\" fill-opacity=\"1\" /><path clip-path=\"url(#clip210)\" d=\"M2111.69 1481.64 L2128.01 1481.64 L2128.01 1485.58 L2106.06 1485.58 L2106.06 1481.64 Q2108.73 1478.89 2113.31 1474.26 Q2117.92 1469.61 2119.1 1468.27 Q2121.34 1465.74 2122.22 1464.01 Q2123.12 1462.25 2123.12 1460.56 Q2123.12 1457.8 2121.18 1456.07 Q2119.26 1454.33 2116.16 1454.33 Q2113.96 1454.33 2111.5 1455.09 Q2109.07 1455.86 2106.3 1457.41 L2106.3 1452.69 Q2109.12 1451.55 2111.57 1450.97 Q2114.03 1450.39 2116.06 1450.39 Q2121.43 1450.39 2124.63 1453.08 Q2127.82 1455.77 2127.82 1460.26 Q2127.82 1462.39 2127.01 1464.31 Q2126.23 1466.2 2124.12 1468.8 Q2123.54 1469.47 2120.44 1472.69 Q2117.34 1475.88 2111.69 1481.64 Z\" fill=\"#000000\" fill-rule=\"nonzero\" fill-opacity=\"1\" /><path clip-path=\"url(#clip210)\" d=\"M2137.82 1479.7 L2142.71 1479.7 L2142.71 1485.58 L2137.82 1485.58 L2137.82 1479.7 Z\" fill=\"#000000\" fill-rule=\"nonzero\" fill-opacity=\"1\" /><path clip-path=\"url(#clip210)\" d=\"M2152.94 1451.02 L2171.3 1451.02 L2171.3 1454.96 L2157.22 1454.96 L2157.22 1463.43 Q2158.24 1463.08 2159.26 1462.92 Q2160.28 1462.73 2161.3 1462.73 Q2167.08 1462.73 2170.46 1465.9 Q2173.84 1469.08 2173.84 1474.49 Q2173.84 1480.07 2170.37 1483.17 Q2166.9 1486.25 2160.58 1486.25 Q2158.4 1486.25 2156.13 1485.88 Q2153.89 1485.51 2151.48 1484.77 L2151.48 1480.07 Q2153.56 1481.2 2155.79 1481.76 Q2158.01 1482.32 2160.49 1482.32 Q2164.49 1482.32 2166.83 1480.21 Q2169.17 1478.1 2169.17 1474.49 Q2169.17 1470.88 2166.83 1468.77 Q2164.49 1466.67 2160.49 1466.67 Q2158.61 1466.67 2156.74 1467.08 Q2154.88 1467.5 2152.94 1468.38 L2152.94 1451.02 Z\" fill=\"#000000\" fill-rule=\"nonzero\" fill-opacity=\"1\" /><path clip-path=\"url(#clip210)\" d=\"M1224.07 1568.04 L1205.93 1520.52 L1212.64 1520.52 L1227.7 1560.53 L1242.79 1520.52 L1249.47 1520.52 L1231.36 1568.04 L1224.07 1568.04 Z\" fill=\"#000000\" fill-rule=\"nonzero\" fill-opacity=\"1\" /><path clip-path=\"url(#clip210)\" d=\"M1267.29 1550.12 Q1260.2 1550.12 1257.46 1551.75 Q1254.72 1553.37 1254.72 1557.29 Q1254.72 1560.4 1256.76 1562.25 Q1258.83 1564.07 1262.36 1564.07 Q1267.23 1564.07 1270.16 1560.63 Q1273.12 1557.16 1273.12 1551.43 L1273.12 1550.12 L1267.29 1550.12 M1278.97 1547.71 L1278.97 1568.04 L1273.12 1568.04 L1273.12 1562.63 Q1271.11 1565.88 1268.12 1567.44 Q1265.13 1568.97 1260.8 1568.97 Q1255.33 1568.97 1252.08 1565.91 Q1248.86 1562.82 1248.86 1557.67 Q1248.86 1551.65 1252.88 1548.6 Q1256.92 1545.54 1264.91 1545.54 L1273.12 1545.54 L1273.12 1544.97 Q1273.12 1540.93 1270.44 1538.73 Q1267.8 1536.5 1263 1536.5 Q1259.94 1536.5 1257.04 1537.23 Q1254.15 1537.97 1251.47 1539.43 L1251.47 1534.02 Q1254.69 1532.78 1257.71 1532.17 Q1260.74 1531.54 1263.6 1531.54 Q1271.34 1531.54 1275.16 1535.55 Q1278.97 1539.56 1278.97 1547.71 Z\" fill=\"#000000\" fill-rule=\"nonzero\" fill-opacity=\"1\" /><path clip-path=\"url(#clip210)\" d=\"M1291.04 1518.52 L1296.89 1518.52 L1296.89 1568.04 L1291.04 1568.04 L1291.04 1518.52 Z\" fill=\"#000000\" fill-rule=\"nonzero\" fill-opacity=\"1\" /><path clip-path=\"url(#clip210)\" d=\"M1308.54 1553.98 L1308.54 1532.4 L1314.4 1532.4 L1314.4 1553.75 Q1314.4 1558.81 1316.37 1561.36 Q1318.35 1563.87 1322.29 1563.87 Q1327.04 1563.87 1329.77 1560.85 Q1332.54 1557.83 1332.54 1552.61 L1332.54 1532.4 L1338.4 1532.4 L1338.4 1568.04 L1332.54 1568.04 L1332.54 1562.57 Q1330.41 1565.82 1327.58 1567.41 Q1324.78 1568.97 1321.05 1568.97 Q1314.91 1568.97 1311.73 1565.15 Q1308.54 1561.33 1308.54 1553.98 M1323.28 1531.54 L1323.28 1531.54 Z\" fill=\"#000000\" fill-rule=\"nonzero\" fill-opacity=\"1\" /><path clip-path=\"url(#clip210)\" d=\"M1380.95 1548.76 L1380.95 1551.62 L1354.03 1551.62 Q1354.41 1557.67 1357.65 1560.85 Q1360.93 1564 1366.76 1564 Q1370.13 1564 1373.28 1563.17 Q1376.47 1562.35 1379.58 1560.69 L1379.58 1566.23 Q1376.43 1567.57 1373.12 1568.27 Q1369.81 1568.97 1366.41 1568.97 Q1357.88 1568.97 1352.88 1564 Q1347.92 1559.04 1347.92 1550.57 Q1347.92 1541.82 1352.63 1536.69 Q1357.37 1531.54 1365.39 1531.54 Q1372.58 1531.54 1376.75 1536.18 Q1380.95 1540.8 1380.95 1548.76 M1375.1 1547.04 Q1375.03 1542.23 1372.39 1539.37 Q1369.78 1536.5 1365.45 1536.5 Q1360.55 1536.5 1357.59 1539.27 Q1354.66 1542.04 1354.22 1547.07 L1375.1 1547.04 Z\" fill=\"#000000\" fill-rule=\"nonzero\" fill-opacity=\"1\" /><polyline clip-path=\"url(#clip210)\" style=\"stroke:#000000; stroke-linecap:round; stroke-linejoin:round; stroke-width:4; stroke-opacity:1; fill:none\" points=\"234.125,1423.18 234.125,47.2441 \"/>\n",
       "<polyline clip-path=\"url(#clip210)\" style=\"stroke:#000000; stroke-linecap:round; stroke-linejoin:round; stroke-width:4; stroke-opacity:1; fill:none\" points=\"234.125,1423.18 253.023,1423.18 \"/>\n",
       "<polyline clip-path=\"url(#clip210)\" style=\"stroke:#000000; stroke-linecap:round; stroke-linejoin:round; stroke-width:4; stroke-opacity:1; fill:none\" points=\"234.125,1089.21 253.023,1089.21 \"/>\n",
       "<polyline clip-path=\"url(#clip210)\" style=\"stroke:#000000; stroke-linecap:round; stroke-linejoin:round; stroke-width:4; stroke-opacity:1; fill:none\" points=\"234.125,755.25 253.023,755.25 \"/>\n",
       "<polyline clip-path=\"url(#clip210)\" style=\"stroke:#000000; stroke-linecap:round; stroke-linejoin:round; stroke-width:4; stroke-opacity:1; fill:none\" points=\"234.125,421.285 253.023,421.285 \"/>\n",
       "<polyline clip-path=\"url(#clip210)\" style=\"stroke:#000000; stroke-linecap:round; stroke-linejoin:round; stroke-width:4; stroke-opacity:1; fill:none\" points=\"234.125,87.3199 253.023,87.3199 \"/>\n",
       "<path clip-path=\"url(#clip210)\" d=\"M186.181 1408.98 Q182.57 1408.98 180.741 1412.54 Q178.936 1416.08 178.936 1423.21 Q178.936 1430.32 180.741 1433.89 Q182.57 1437.43 186.181 1437.43 Q189.815 1437.43 191.621 1433.89 Q193.45 1430.32 193.45 1423.21 Q193.45 1416.08 191.621 1412.54 Q189.815 1408.98 186.181 1408.98 M186.181 1405.27 Q191.991 1405.27 195.047 1409.88 Q198.125 1414.46 198.125 1423.21 Q198.125 1431.94 195.047 1436.55 Q191.991 1441.13 186.181 1441.13 Q180.371 1441.13 177.292 1436.55 Q174.237 1431.94 174.237 1423.21 Q174.237 1414.46 177.292 1409.88 Q180.371 1405.27 186.181 1405.27 Z\" fill=\"#000000\" fill-rule=\"nonzero\" fill-opacity=\"1\" /><path clip-path=\"url(#clip210)\" d=\"M146.066 1071.93 L164.422 1071.93 L164.422 1075.87 L150.348 1075.87 L150.348 1084.34 Q151.366 1083.99 152.385 1083.83 Q153.403 1083.65 154.422 1083.65 Q160.209 1083.65 163.589 1086.82 Q166.968 1089.99 166.968 1095.41 Q166.968 1100.99 163.496 1104.09 Q160.024 1107.17 153.704 1107.17 Q151.528 1107.17 149.26 1106.8 Q147.015 1106.43 144.607 1105.68 L144.607 1100.99 Q146.691 1102.12 148.913 1102.68 Q151.135 1103.23 153.612 1103.23 Q157.616 1103.23 159.954 1101.12 Q162.292 1099.02 162.292 1095.41 Q162.292 1091.8 159.954 1089.69 Q157.616 1087.58 153.612 1087.58 Q151.737 1087.58 149.862 1088 Q148.01 1088.42 146.066 1089.3 L146.066 1071.93 Z\" fill=\"#000000\" fill-rule=\"nonzero\" fill-opacity=\"1\" /><path clip-path=\"url(#clip210)\" d=\"M186.181 1075.01 Q182.57 1075.01 180.741 1078.58 Q178.936 1082.12 178.936 1089.25 Q178.936 1096.36 180.741 1099.92 Q182.57 1103.46 186.181 1103.46 Q189.815 1103.46 191.621 1099.92 Q193.45 1096.36 193.45 1089.25 Q193.45 1082.12 191.621 1078.58 Q189.815 1075.01 186.181 1075.01 M186.181 1071.31 Q191.991 1071.31 195.047 1075.92 Q198.125 1080.5 198.125 1089.25 Q198.125 1097.98 195.047 1102.58 Q191.991 1107.17 186.181 1107.17 Q180.371 1107.17 177.292 1102.58 Q174.237 1097.98 174.237 1089.25 Q174.237 1080.5 177.292 1075.92 Q180.371 1071.31 186.181 1071.31 Z\" fill=\"#000000\" fill-rule=\"nonzero\" fill-opacity=\"1\" /><path clip-path=\"url(#clip210)\" d=\"M116.668 768.595 L124.306 768.595 L124.306 742.229 L115.996 743.896 L115.996 739.637 L124.26 737.97 L128.936 737.97 L128.936 768.595 L136.575 768.595 L136.575 772.53 L116.668 772.53 L116.668 768.595 Z\" fill=\"#000000\" fill-rule=\"nonzero\" fill-opacity=\"1\" /><path clip-path=\"url(#clip210)\" d=\"M156.019 741.049 Q152.408 741.049 150.579 744.613 Q148.774 748.155 148.774 755.285 Q148.774 762.391 150.579 765.956 Q152.408 769.497 156.019 769.497 Q159.653 769.497 161.459 765.956 Q163.288 762.391 163.288 755.285 Q163.288 748.155 161.459 744.613 Q159.653 741.049 156.019 741.049 M156.019 737.345 Q161.829 737.345 164.885 741.951 Q167.964 746.535 167.964 755.285 Q167.964 764.011 164.885 768.618 Q161.829 773.201 156.019 773.201 Q150.209 773.201 147.13 768.618 Q144.075 764.011 144.075 755.285 Q144.075 746.535 147.13 741.951 Q150.209 737.345 156.019 737.345 Z\" fill=\"#000000\" fill-rule=\"nonzero\" fill-opacity=\"1\" /><path clip-path=\"url(#clip210)\" d=\"M186.181 741.049 Q182.57 741.049 180.741 744.613 Q178.936 748.155 178.936 755.285 Q178.936 762.391 180.741 765.956 Q182.57 769.497 186.181 769.497 Q189.815 769.497 191.621 765.956 Q193.45 762.391 193.45 755.285 Q193.45 748.155 191.621 744.613 Q189.815 741.049 186.181 741.049 M186.181 737.345 Q191.991 737.345 195.047 741.951 Q198.125 746.535 198.125 755.285 Q198.125 764.011 195.047 768.618 Q191.991 773.201 186.181 773.201 Q180.371 773.201 177.292 768.618 Q174.237 764.011 174.237 755.285 Q174.237 746.535 177.292 741.951 Q180.371 737.345 186.181 737.345 Z\" fill=\"#000000\" fill-rule=\"nonzero\" fill-opacity=\"1\" /><path clip-path=\"url(#clip210)\" d=\"M116.668 434.63 L124.306 434.63 L124.306 408.264 L115.996 409.931 L115.996 405.672 L124.26 404.005 L128.936 404.005 L128.936 434.63 L136.575 434.63 L136.575 438.565 L116.668 438.565 L116.668 434.63 Z\" fill=\"#000000\" fill-rule=\"nonzero\" fill-opacity=\"1\" /><path clip-path=\"url(#clip210)\" d=\"M146.066 404.005 L164.422 404.005 L164.422 407.94 L150.348 407.94 L150.348 416.412 Q151.366 416.065 152.385 415.903 Q153.403 415.718 154.422 415.718 Q160.209 415.718 163.589 418.889 Q166.968 422.06 166.968 427.477 Q166.968 433.056 163.496 436.157 Q160.024 439.236 153.704 439.236 Q151.528 439.236 149.26 438.866 Q147.015 438.495 144.607 437.755 L144.607 433.056 Q146.691 434.19 148.913 434.745 Q151.135 435.301 153.612 435.301 Q157.616 435.301 159.954 433.195 Q162.292 431.088 162.292 427.477 Q162.292 423.866 159.954 421.759 Q157.616 419.653 153.612 419.653 Q151.737 419.653 149.862 420.07 Q148.01 420.486 146.066 421.366 L146.066 404.005 Z\" fill=\"#000000\" fill-rule=\"nonzero\" fill-opacity=\"1\" /><path clip-path=\"url(#clip210)\" d=\"M186.181 407.084 Q182.57 407.084 180.741 410.648 Q178.936 414.19 178.936 421.32 Q178.936 428.426 180.741 431.991 Q182.57 435.532 186.181 435.532 Q189.815 435.532 191.621 431.991 Q193.45 428.426 193.45 421.32 Q193.45 414.19 191.621 410.648 Q189.815 407.084 186.181 407.084 M186.181 403.38 Q191.991 403.38 195.047 407.986 Q198.125 412.57 198.125 421.32 Q198.125 430.046 195.047 434.653 Q191.991 439.236 186.181 439.236 Q180.371 439.236 177.292 434.653 Q174.237 430.046 174.237 421.32 Q174.237 412.57 177.292 407.986 Q180.371 403.38 186.181 403.38 Z\" fill=\"#000000\" fill-rule=\"nonzero\" fill-opacity=\"1\" /><path clip-path=\"url(#clip210)\" d=\"M119.885 100.665 L136.204 100.665 L136.204 104.6 L114.26 104.6 L114.26 100.665 Q116.922 97.9101 121.505 93.2805 Q126.112 88.6278 127.292 87.2852 Q129.538 84.762 130.417 83.0259 Q131.32 81.2667 131.32 79.5769 Q131.32 76.8223 129.376 75.0862 Q127.455 73.3501 124.353 73.3501 Q122.154 73.3501 119.7 74.1139 Q117.269 74.8778 114.492 76.4287 L114.492 71.7066 Q117.316 70.5723 119.769 69.9936 Q122.223 69.4149 124.26 69.4149 Q129.63 69.4149 132.825 72.1001 Q136.019 74.7852 136.019 79.276 Q136.019 81.4056 135.209 83.3269 Q134.422 85.225 132.316 87.8176 Q131.737 88.4889 128.635 91.7064 Q125.533 94.9009 119.885 100.665 Z\" fill=\"#000000\" fill-rule=\"nonzero\" fill-opacity=\"1\" /><path clip-path=\"url(#clip210)\" d=\"M156.019 73.1186 Q152.408 73.1186 150.579 76.6834 Q148.774 80.225 148.774 87.3546 Q148.774 94.4611 150.579 98.0259 Q152.408 101.568 156.019 101.568 Q159.653 101.568 161.459 98.0259 Q163.288 94.4611 163.288 87.3546 Q163.288 80.225 161.459 76.6834 Q159.653 73.1186 156.019 73.1186 M156.019 69.4149 Q161.829 69.4149 164.885 74.0214 Q167.964 78.6047 167.964 87.3546 Q167.964 96.0814 164.885 100.688 Q161.829 105.271 156.019 105.271 Q150.209 105.271 147.13 100.688 Q144.075 96.0814 144.075 87.3546 Q144.075 78.6047 147.13 74.0214 Q150.209 69.4149 156.019 69.4149 Z\" fill=\"#000000\" fill-rule=\"nonzero\" fill-opacity=\"1\" /><path clip-path=\"url(#clip210)\" d=\"M186.181 73.1186 Q182.57 73.1186 180.741 76.6834 Q178.936 80.225 178.936 87.3546 Q178.936 94.4611 180.741 98.0259 Q182.57 101.568 186.181 101.568 Q189.815 101.568 191.621 98.0259 Q193.45 94.4611 193.45 87.3546 Q193.45 80.225 191.621 76.6834 Q189.815 73.1186 186.181 73.1186 M186.181 69.4149 Q191.991 69.4149 195.047 74.0214 Q198.125 78.6047 198.125 87.3546 Q198.125 96.0814 195.047 100.688 Q191.991 105.271 186.181 105.271 Q180.371 105.271 177.292 100.688 Q174.237 96.0814 174.237 87.3546 Q174.237 78.6047 177.292 74.0214 Q180.371 69.4149 186.181 69.4149 Z\" fill=\"#000000\" fill-rule=\"nonzero\" fill-opacity=\"1\" /><path clip-path=\"url(#clip210)\" d=\"M16.4842 899.415 L16.4842 872.106 L21.895 872.106 L21.895 892.986 L35.8996 892.986 L35.8996 874.144 L41.3104 874.144 L41.3104 892.986 L64.0042 892.986 L64.0042 899.415 L16.4842 899.415 Z\" fill=\"#000000\" fill-rule=\"nonzero\" fill-opacity=\"1\" /><path clip-path=\"url(#clip210)\" d=\"M33.8307 846.262 Q33.2578 847.248 33.0032 848.426 Q32.7167 849.572 32.7167 850.972 Q32.7167 855.938 35.9632 858.611 Q39.1779 861.253 45.2253 861.253 L64.0042 861.253 L64.0042 867.141 L28.3562 867.141 L28.3562 861.253 L33.8944 861.253 Q30.6479 859.407 29.0883 856.447 Q27.4968 853.487 27.4968 849.254 Q27.4968 848.649 27.5923 847.917 Q27.656 847.185 27.8151 846.294 L33.8307 846.262 Z\" fill=\"#000000\" fill-rule=\"nonzero\" fill-opacity=\"1\" /><path clip-path=\"url(#clip210)\" d=\"M44.7161 811.059 L47.5806 811.059 L47.5806 837.986 Q53.6281 837.604 56.8109 834.358 Q59.9619 831.08 59.9619 825.255 Q59.9619 821.881 59.1344 818.73 Q58.3069 815.547 56.6518 812.428 L62.1899 812.428 Q63.5267 815.579 64.227 818.889 Q64.9272 822.199 64.9272 825.605 Q64.9272 834.135 59.9619 839.132 Q54.9967 844.097 46.5303 844.097 Q37.7774 844.097 32.6531 839.387 Q27.4968 834.644 27.4968 826.624 Q27.4968 819.43 32.1438 815.261 Q36.7589 811.059 44.7161 811.059 M42.9973 816.916 Q38.1912 816.979 35.3266 819.621 Q32.4621 822.231 32.4621 826.56 Q32.4621 831.461 35.2312 834.422 Q38.0002 837.35 43.0292 837.795 L42.9973 816.916 Z\" fill=\"#000000\" fill-rule=\"nonzero\" fill-opacity=\"1\" /><path clip-path=\"url(#clip210)\" d=\"M46.212 797.946 Q52.6732 797.946 56.3653 795.304 Q60.0256 792.631 60.0256 787.984 Q60.0256 783.337 56.3653 780.663 Q52.6732 777.99 46.212 777.99 Q39.7508 777.99 36.0905 780.663 Q32.3984 783.337 32.3984 787.984 Q32.3984 792.631 36.0905 795.304 Q39.7508 797.946 46.212 797.946 M58.657 777.99 Q61.8398 779.836 63.3994 782.668 Q64.9272 785.469 64.9272 789.416 Q64.9272 795.877 59.771 799.951 Q54.6147 803.993 46.212 803.993 Q37.8093 803.993 32.6531 799.951 Q27.4968 795.877 27.4968 789.416 Q27.4968 785.469 29.0564 782.668 Q30.5842 779.836 33.7671 777.99 L28.3562 777.99 L28.3562 772.133 L77.5631 772.133 L77.5631 777.99 L58.657 777.99 Z\" fill=\"#000000\" fill-rule=\"nonzero\" fill-opacity=\"1\" /><path clip-path=\"url(#clip210)\" d=\"M49.9359 760.675 L28.3562 760.675 L28.3562 754.818 L49.7131 754.818 Q54.7739 754.818 57.3202 752.845 Q59.8346 750.872 59.8346 746.925 Q59.8346 742.182 56.8109 739.445 Q53.7872 736.676 48.5673 736.676 L28.3562 736.676 L28.3562 730.82 L64.0042 730.82 L64.0042 736.676 L58.5296 736.676 Q61.7762 738.809 63.3676 741.641 Q64.9272 744.442 64.9272 748.166 Q64.9272 754.309 61.1078 757.492 Q57.2883 760.675 49.9359 760.675 M27.4968 745.938 L27.4968 745.938 Z\" fill=\"#000000\" fill-rule=\"nonzero\" fill-opacity=\"1\" /><path clip-path=\"url(#clip210)\" d=\"M44.7161 688.265 L47.5806 688.265 L47.5806 715.192 Q53.6281 714.81 56.8109 711.563 Q59.9619 708.285 59.9619 702.46 Q59.9619 699.087 59.1344 695.936 Q58.3069 692.753 56.6518 689.634 L62.1899 689.634 Q63.5267 692.785 64.227 696.095 Q64.9272 699.405 64.9272 702.811 Q64.9272 711.341 59.9619 716.338 Q54.9967 721.303 46.5303 721.303 Q37.7774 721.303 32.6531 716.592 Q27.4968 711.85 27.4968 703.829 Q27.4968 696.636 32.1438 692.466 Q36.7589 688.265 44.7161 688.265 M42.9973 694.121 Q38.1912 694.185 35.3266 696.827 Q32.4621 699.437 32.4621 703.765 Q32.4621 708.667 35.2312 711.627 Q38.0002 714.555 43.0292 715.001 L42.9973 694.121 Z\" fill=\"#000000\" fill-rule=\"nonzero\" fill-opacity=\"1\" /><path clip-path=\"url(#clip210)\" d=\"M42.4881 649.02 L64.0042 649.02 L64.0042 654.877 L42.679 654.877 Q37.6183 654.877 35.1038 656.85 Q32.5894 658.823 32.5894 662.77 Q32.5894 667.513 35.6131 670.25 Q38.6368 672.987 43.8567 672.987 L64.0042 672.987 L64.0042 678.875 L28.3562 678.875 L28.3562 672.987 L33.8944 672.987 Q30.6797 670.887 29.0883 668.054 Q27.4968 665.189 27.4968 661.465 Q27.4968 655.322 31.3163 652.171 Q35.1038 649.02 42.4881 649.02 Z\" fill=\"#000000\" fill-rule=\"nonzero\" fill-opacity=\"1\" /><path clip-path=\"url(#clip210)\" d=\"M29.7248 611.685 L35.1993 611.685 Q33.8307 614.168 33.1623 616.683 Q32.4621 619.165 32.4621 621.711 Q32.4621 627.409 36.0905 630.56 Q39.6872 633.711 46.212 633.711 Q52.7369 633.711 56.3653 630.56 Q59.9619 627.409 59.9619 621.711 Q59.9619 619.165 59.2935 616.683 Q58.5933 614.168 57.2247 611.685 L62.6355 611.685 Q63.7814 614.136 64.3543 616.778 Q64.9272 619.388 64.9272 622.348 Q64.9272 630.401 59.8664 635.143 Q54.8057 639.886 46.212 639.886 Q37.491 639.886 32.4939 635.111 Q27.4968 630.305 27.4968 621.966 Q27.4968 619.261 28.0697 616.683 Q28.6108 614.104 29.7248 611.685 Z\" fill=\"#000000\" fill-rule=\"nonzero\" fill-opacity=\"1\" /><path clip-path=\"url(#clip210)\" d=\"M67.3143 586.668 Q73.68 589.151 75.6216 591.506 Q77.5631 593.861 77.5631 597.808 L77.5631 602.487 L72.6615 602.487 L72.6615 599.05 Q72.6615 596.631 71.5157 595.294 Q70.3699 593.957 66.1048 592.334 L63.4312 591.283 L28.3562 605.702 L28.3562 599.495 L56.238 588.355 L28.3562 577.215 L28.3562 571.009 L67.3143 586.668 Z\" fill=\"#000000\" fill-rule=\"nonzero\" fill-opacity=\"1\" /><path clip-path=\"url(#clip212)\" d=\"M342.241 1416.5 L342.241 1423.18 L401.691 1423.18 L401.691 1416.5 L342.241 1416.5 L342.241 1416.5  Z\" fill=\"#009af9\" fill-rule=\"evenodd\" fill-opacity=\"0.5\"/>\n",
       "<polyline clip-path=\"url(#clip212)\" style=\"stroke:#000000; stroke-linecap:round; stroke-linejoin:round; stroke-width:4; stroke-opacity:0.5; fill:none\" points=\"342.241,1416.5 342.241,1423.18 401.691,1423.18 401.691,1416.5 342.241,1416.5 \"/>\n",
       "<path clip-path=\"url(#clip212)\" d=\"M401.691 1409.82 L401.691 1423.18 L461.141 1423.18 L461.141 1409.82 L401.691 1409.82 L401.691 1409.82  Z\" fill=\"#009af9\" fill-rule=\"evenodd\" fill-opacity=\"0.5\"/>\n",
       "<polyline clip-path=\"url(#clip212)\" style=\"stroke:#000000; stroke-linecap:round; stroke-linejoin:round; stroke-width:4; stroke-opacity:0.5; fill:none\" points=\"401.691,1409.82 401.691,1423.18 461.141,1423.18 461.141,1409.82 401.691,1409.82 \"/>\n",
       "<path clip-path=\"url(#clip212)\" d=\"M461.141 1416.5 L461.141 1423.18 L520.591 1423.18 L520.591 1416.5 L461.141 1416.5 L461.141 1416.5  Z\" fill=\"#009af9\" fill-rule=\"evenodd\" fill-opacity=\"0.5\"/>\n",
       "<polyline clip-path=\"url(#clip212)\" style=\"stroke:#000000; stroke-linecap:round; stroke-linejoin:round; stroke-width:4; stroke-opacity:0.5; fill:none\" points=\"461.141,1416.5 461.141,1423.18 520.591,1423.18 520.591,1416.5 461.141,1416.5 \"/>\n",
       "<path clip-path=\"url(#clip212)\" d=\"M520.591 1416.5 L520.591 1423.18 L580.041 1423.18 L580.041 1416.5 L520.591 1416.5 L520.591 1416.5  Z\" fill=\"#009af9\" fill-rule=\"evenodd\" fill-opacity=\"0.5\"/>\n",
       "<polyline clip-path=\"url(#clip212)\" style=\"stroke:#000000; stroke-linecap:round; stroke-linejoin:round; stroke-width:4; stroke-opacity:0.5; fill:none\" points=\"520.591,1416.5 520.591,1423.18 580.041,1423.18 580.041,1416.5 520.591,1416.5 \"/>\n",
       "<path clip-path=\"url(#clip212)\" d=\"M580.041 1416.5 L580.041 1423.18 L639.491 1423.18 L639.491 1416.5 L580.041 1416.5 L580.041 1416.5  Z\" fill=\"#009af9\" fill-rule=\"evenodd\" fill-opacity=\"0.5\"/>\n",
       "<polyline clip-path=\"url(#clip212)\" style=\"stroke:#000000; stroke-linecap:round; stroke-linejoin:round; stroke-width:4; stroke-opacity:0.5; fill:none\" points=\"580.041,1416.5 580.041,1423.18 639.491,1423.18 639.491,1416.5 580.041,1416.5 \"/>\n",
       "<path clip-path=\"url(#clip212)\" d=\"M639.491 1349.71 L639.491 1423.18 L698.941 1423.18 L698.941 1349.71 L639.491 1349.71 L639.491 1349.71  Z\" fill=\"#009af9\" fill-rule=\"evenodd\" fill-opacity=\"0.5\"/>\n",
       "<polyline clip-path=\"url(#clip212)\" style=\"stroke:#000000; stroke-linecap:round; stroke-linejoin:round; stroke-width:4; stroke-opacity:0.5; fill:none\" points=\"639.491,1349.71 639.491,1423.18 698.941,1423.18 698.941,1349.71 639.491,1349.71 \"/>\n",
       "<path clip-path=\"url(#clip212)\" d=\"M698.941 1349.71 L698.941 1423.18 L758.391 1423.18 L758.391 1349.71 L698.941 1349.71 L698.941 1349.71  Z\" fill=\"#009af9\" fill-rule=\"evenodd\" fill-opacity=\"0.5\"/>\n",
       "<polyline clip-path=\"url(#clip212)\" style=\"stroke:#000000; stroke-linecap:round; stroke-linejoin:round; stroke-width:4; stroke-opacity:0.5; fill:none\" points=\"698.941,1349.71 698.941,1423.18 758.391,1423.18 758.391,1349.71 698.941,1349.71 \"/>\n",
       "<path clip-path=\"url(#clip212)\" d=\"M758.391 1322.99 L758.391 1423.18 L817.841 1423.18 L817.841 1322.99 L758.391 1322.99 L758.391 1322.99  Z\" fill=\"#009af9\" fill-rule=\"evenodd\" fill-opacity=\"0.5\"/>\n",
       "<polyline clip-path=\"url(#clip212)\" style=\"stroke:#000000; stroke-linecap:round; stroke-linejoin:round; stroke-width:4; stroke-opacity:0.5; fill:none\" points=\"758.391,1322.99 758.391,1423.18 817.841,1423.18 817.841,1322.99 758.391,1322.99 \"/>\n",
       "<path clip-path=\"url(#clip212)\" d=\"M817.841 1282.91 L817.841 1423.18 L877.291 1423.18 L877.291 1282.91 L817.841 1282.91 L817.841 1282.91  Z\" fill=\"#009af9\" fill-rule=\"evenodd\" fill-opacity=\"0.5\"/>\n",
       "<polyline clip-path=\"url(#clip212)\" style=\"stroke:#000000; stroke-linecap:round; stroke-linejoin:round; stroke-width:4; stroke-opacity:0.5; fill:none\" points=\"817.841,1282.91 817.841,1423.18 877.291,1423.18 877.291,1282.91 817.841,1282.91 \"/>\n",
       "<path clip-path=\"url(#clip212)\" d=\"M877.291 1216.12 L877.291 1423.18 L936.741 1423.18 L936.741 1216.12 L877.291 1216.12 L877.291 1216.12  Z\" fill=\"#009af9\" fill-rule=\"evenodd\" fill-opacity=\"0.5\"/>\n",
       "<polyline clip-path=\"url(#clip212)\" style=\"stroke:#000000; stroke-linecap:round; stroke-linejoin:round; stroke-width:4; stroke-opacity:0.5; fill:none\" points=\"877.291,1216.12 877.291,1423.18 936.741,1423.18 936.741,1216.12 877.291,1216.12 \"/>\n",
       "<path clip-path=\"url(#clip212)\" d=\"M936.741 1122.61 L936.741 1423.18 L996.191 1423.18 L996.191 1122.61 L936.741 1122.61 L936.741 1122.61  Z\" fill=\"#009af9\" fill-rule=\"evenodd\" fill-opacity=\"0.5\"/>\n",
       "<polyline clip-path=\"url(#clip212)\" style=\"stroke:#000000; stroke-linecap:round; stroke-linejoin:round; stroke-width:4; stroke-opacity:0.5; fill:none\" points=\"936.741,1122.61 936.741,1423.18 996.191,1423.18 996.191,1122.61 936.741,1122.61 \"/>\n",
       "<path clip-path=\"url(#clip212)\" d=\"M996.191 982.346 L996.191 1423.18 L1055.64 1423.18 L1055.64 982.346 L996.191 982.346 L996.191 982.346  Z\" fill=\"#009af9\" fill-rule=\"evenodd\" fill-opacity=\"0.5\"/>\n",
       "<polyline clip-path=\"url(#clip212)\" style=\"stroke:#000000; stroke-linecap:round; stroke-linejoin:round; stroke-width:4; stroke-opacity:0.5; fill:none\" points=\"996.191,982.346 996.191,1423.18 1055.64,1423.18 1055.64,982.346 996.191,982.346 \"/>\n",
       "<path clip-path=\"url(#clip212)\" d=\"M1055.64 882.157 L1055.64 1423.18 L1115.09 1423.18 L1115.09 882.157 L1055.64 882.157 L1055.64 882.157  Z\" fill=\"#009af9\" fill-rule=\"evenodd\" fill-opacity=\"0.5\"/>\n",
       "<polyline clip-path=\"url(#clip212)\" style=\"stroke:#000000; stroke-linecap:round; stroke-linejoin:round; stroke-width:4; stroke-opacity:0.5; fill:none\" points=\"1055.64,882.157 1055.64,1423.18 1115.09,1423.18 1115.09,882.157 1055.64,882.157 \"/>\n",
       "<path clip-path=\"url(#clip212)\" d=\"M1115.09 741.891 L1115.09 1423.18 L1174.54 1423.18 L1174.54 741.891 L1115.09 741.891 L1115.09 741.891  Z\" fill=\"#009af9\" fill-rule=\"evenodd\" fill-opacity=\"0.5\"/>\n",
       "<polyline clip-path=\"url(#clip212)\" style=\"stroke:#000000; stroke-linecap:round; stroke-linejoin:round; stroke-width:4; stroke-opacity:0.5; fill:none\" points=\"1115.09,741.891 1115.09,1423.18 1174.54,1423.18 1174.54,741.891 1115.09,741.891 \"/>\n",
       "<path clip-path=\"url(#clip212)\" d=\"M1174.54 741.891 L1174.54 1423.18 L1233.99 1423.18 L1233.99 741.891 L1174.54 741.891 L1174.54 741.891  Z\" fill=\"#009af9\" fill-rule=\"evenodd\" fill-opacity=\"0.5\"/>\n",
       "<polyline clip-path=\"url(#clip212)\" style=\"stroke:#000000; stroke-linecap:round; stroke-linejoin:round; stroke-width:4; stroke-opacity:0.5; fill:none\" points=\"1174.54,741.891 1174.54,1423.18 1233.99,1423.18 1233.99,741.891 1174.54,741.891 \"/>\n",
       "<path clip-path=\"url(#clip212)\" d=\"M1233.99 868.798 L1233.99 1423.18 L1293.44 1423.18 L1293.44 868.798 L1233.99 868.798 L1233.99 868.798  Z\" fill=\"#009af9\" fill-rule=\"evenodd\" fill-opacity=\"0.5\"/>\n",
       "<polyline clip-path=\"url(#clip212)\" style=\"stroke:#000000; stroke-linecap:round; stroke-linejoin:round; stroke-width:4; stroke-opacity:0.5; fill:none\" points=\"1233.99,868.798 1233.99,1423.18 1293.44,1423.18 1293.44,868.798 1233.99,868.798 \"/>\n",
       "<path clip-path=\"url(#clip212)\" d=\"M1293.44 741.891 L1293.44 1423.18 L1352.89 1423.18 L1352.89 741.891 L1293.44 741.891 L1293.44 741.891  Z\" fill=\"#009af9\" fill-rule=\"evenodd\" fill-opacity=\"0.5\"/>\n",
       "<polyline clip-path=\"url(#clip212)\" style=\"stroke:#000000; stroke-linecap:round; stroke-linejoin:round; stroke-width:4; stroke-opacity:0.5; fill:none\" points=\"1293.44,741.891 1293.44,1423.18 1352.89,1423.18 1352.89,741.891 1293.44,741.891 \"/>\n",
       "<path clip-path=\"url(#clip212)\" d=\"M1352.89 835.401 L1352.89 1423.18 L1412.34 1423.18 L1412.34 835.401 L1352.89 835.401 L1352.89 835.401  Z\" fill=\"#009af9\" fill-rule=\"evenodd\" fill-opacity=\"0.5\"/>\n",
       "<polyline clip-path=\"url(#clip212)\" style=\"stroke:#000000; stroke-linecap:round; stroke-linejoin:round; stroke-width:4; stroke-opacity:0.5; fill:none\" points=\"1352.89,835.401 1352.89,1423.18 1412.34,1423.18 1412.34,835.401 1352.89,835.401 \"/>\n",
       "<path clip-path=\"url(#clip212)\" d=\"M1412.34 915.553 L1412.34 1423.18 L1471.79 1423.18 L1471.79 915.553 L1412.34 915.553 L1412.34 915.553  Z\" fill=\"#009af9\" fill-rule=\"evenodd\" fill-opacity=\"0.5\"/>\n",
       "<polyline clip-path=\"url(#clip212)\" style=\"stroke:#000000; stroke-linecap:round; stroke-linejoin:round; stroke-width:4; stroke-opacity:0.5; fill:none\" points=\"1412.34,915.553 1412.34,1423.18 1471.79,1423.18 1471.79,915.553 1412.34,915.553 \"/>\n",
       "<path clip-path=\"url(#clip212)\" d=\"M1471.79 1029.1 L1471.79 1423.18 L1531.24 1423.18 L1531.24 1029.1 L1471.79 1029.1 L1471.79 1029.1  Z\" fill=\"#009af9\" fill-rule=\"evenodd\" fill-opacity=\"0.5\"/>\n",
       "<polyline clip-path=\"url(#clip212)\" style=\"stroke:#000000; stroke-linecap:round; stroke-linejoin:round; stroke-width:4; stroke-opacity:0.5; fill:none\" points=\"1471.79,1029.1 1471.79,1423.18 1531.24,1423.18 1531.24,1029.1 1471.79,1029.1 \"/>\n",
       "<path clip-path=\"url(#clip212)\" d=\"M1531.24 1176.05 L1531.24 1423.18 L1590.69 1423.18 L1590.69 1176.05 L1531.24 1176.05 L1531.24 1176.05  Z\" fill=\"#009af9\" fill-rule=\"evenodd\" fill-opacity=\"0.5\"/>\n",
       "<polyline clip-path=\"url(#clip212)\" style=\"stroke:#000000; stroke-linecap:round; stroke-linejoin:round; stroke-width:4; stroke-opacity:0.5; fill:none\" points=\"1531.24,1176.05 1531.24,1423.18 1590.69,1423.18 1590.69,1176.05 1531.24,1176.05 \"/>\n",
       "<path clip-path=\"url(#clip212)\" d=\"M1590.69 1229.48 L1590.69 1423.18 L1650.14 1423.18 L1650.14 1229.48 L1590.69 1229.48 L1590.69 1229.48  Z\" fill=\"#009af9\" fill-rule=\"evenodd\" fill-opacity=\"0.5\"/>\n",
       "<polyline clip-path=\"url(#clip212)\" style=\"stroke:#000000; stroke-linecap:round; stroke-linejoin:round; stroke-width:4; stroke-opacity:0.5; fill:none\" points=\"1590.69,1229.48 1590.69,1423.18 1650.14,1423.18 1650.14,1229.48 1590.69,1229.48 \"/>\n",
       "<path clip-path=\"url(#clip212)\" d=\"M1650.14 1336.35 L1650.14 1423.18 L1709.59 1423.18 L1709.59 1336.35 L1650.14 1336.35 L1650.14 1336.35  Z\" fill=\"#009af9\" fill-rule=\"evenodd\" fill-opacity=\"0.5\"/>\n",
       "<polyline clip-path=\"url(#clip212)\" style=\"stroke:#000000; stroke-linecap:round; stroke-linejoin:round; stroke-width:4; stroke-opacity:0.5; fill:none\" points=\"1650.14,1336.35 1650.14,1423.18 1709.59,1423.18 1709.59,1336.35 1650.14,1336.35 \"/>\n",
       "<path clip-path=\"url(#clip212)\" d=\"M1709.59 1329.67 L1709.59 1423.18 L1769.04 1423.18 L1769.04 1329.67 L1709.59 1329.67 L1709.59 1329.67  Z\" fill=\"#009af9\" fill-rule=\"evenodd\" fill-opacity=\"0.5\"/>\n",
       "<polyline clip-path=\"url(#clip212)\" style=\"stroke:#000000; stroke-linecap:round; stroke-linejoin:round; stroke-width:4; stroke-opacity:0.5; fill:none\" points=\"1709.59,1329.67 1709.59,1423.18 1769.04,1423.18 1769.04,1329.67 1709.59,1329.67 \"/>\n",
       "<path clip-path=\"url(#clip212)\" d=\"M1769.04 1403.14 L1769.04 1423.18 L1828.49 1423.18 L1828.49 1403.14 L1769.04 1403.14 L1769.04 1403.14  Z\" fill=\"#009af9\" fill-rule=\"evenodd\" fill-opacity=\"0.5\"/>\n",
       "<polyline clip-path=\"url(#clip212)\" style=\"stroke:#000000; stroke-linecap:round; stroke-linejoin:round; stroke-width:4; stroke-opacity:0.5; fill:none\" points=\"1769.04,1403.14 1769.04,1423.18 1828.49,1423.18 1828.49,1403.14 1769.04,1403.14 \"/>\n",
       "<path clip-path=\"url(#clip212)\" d=\"M1828.49 1396.46 L1828.49 1423.18 L1887.94 1423.18 L1887.94 1396.46 L1828.49 1396.46 L1828.49 1396.46  Z\" fill=\"#009af9\" fill-rule=\"evenodd\" fill-opacity=\"0.5\"/>\n",
       "<polyline clip-path=\"url(#clip212)\" style=\"stroke:#000000; stroke-linecap:round; stroke-linejoin:round; stroke-width:4; stroke-opacity:0.5; fill:none\" points=\"1828.49,1396.46 1828.49,1423.18 1887.94,1423.18 1887.94,1396.46 1828.49,1396.46 \"/>\n",
       "<path clip-path=\"url(#clip212)\" d=\"M1887.94 1416.5 L1887.94 1423.18 L1947.39 1423.18 L1947.39 1416.5 L1887.94 1416.5 L1887.94 1416.5  Z\" fill=\"#009af9\" fill-rule=\"evenodd\" fill-opacity=\"0.5\"/>\n",
       "<polyline clip-path=\"url(#clip212)\" style=\"stroke:#000000; stroke-linecap:round; stroke-linejoin:round; stroke-width:4; stroke-opacity:0.5; fill:none\" points=\"1887.94,1416.5 1887.94,1423.18 1947.39,1423.18 1947.39,1416.5 1887.94,1416.5 \"/>\n",
       "<circle clip-path=\"url(#clip212)\" style=\"fill:#009af9; stroke:none; fill-opacity:0\" cx=\"371.966\" cy=\"1416.5\" r=\"2\"/>\n",
       "<circle clip-path=\"url(#clip212)\" style=\"fill:#009af9; stroke:none; fill-opacity:0\" cx=\"431.416\" cy=\"1409.82\" r=\"2\"/>\n",
       "<circle clip-path=\"url(#clip212)\" style=\"fill:#009af9; stroke:none; fill-opacity:0\" cx=\"490.866\" cy=\"1416.5\" r=\"2\"/>\n",
       "<circle clip-path=\"url(#clip212)\" style=\"fill:#009af9; stroke:none; fill-opacity:0\" cx=\"550.316\" cy=\"1416.5\" r=\"2\"/>\n",
       "<circle clip-path=\"url(#clip212)\" style=\"fill:#009af9; stroke:none; fill-opacity:0\" cx=\"609.766\" cy=\"1416.5\" r=\"2\"/>\n",
       "<circle clip-path=\"url(#clip212)\" style=\"fill:#009af9; stroke:none; fill-opacity:0\" cx=\"669.216\" cy=\"1349.71\" r=\"2\"/>\n",
       "<circle clip-path=\"url(#clip212)\" style=\"fill:#009af9; stroke:none; fill-opacity:0\" cx=\"728.666\" cy=\"1349.71\" r=\"2\"/>\n",
       "<circle clip-path=\"url(#clip212)\" style=\"fill:#009af9; stroke:none; fill-opacity:0\" cx=\"788.116\" cy=\"1322.99\" r=\"2\"/>\n",
       "<circle clip-path=\"url(#clip212)\" style=\"fill:#009af9; stroke:none; fill-opacity:0\" cx=\"847.566\" cy=\"1282.91\" r=\"2\"/>\n",
       "<circle clip-path=\"url(#clip212)\" style=\"fill:#009af9; stroke:none; fill-opacity:0\" cx=\"907.016\" cy=\"1216.12\" r=\"2\"/>\n",
       "<circle clip-path=\"url(#clip212)\" style=\"fill:#009af9; stroke:none; fill-opacity:0\" cx=\"966.466\" cy=\"1122.61\" r=\"2\"/>\n",
       "<circle clip-path=\"url(#clip212)\" style=\"fill:#009af9; stroke:none; fill-opacity:0\" cx=\"1025.92\" cy=\"982.346\" r=\"2\"/>\n",
       "<circle clip-path=\"url(#clip212)\" style=\"fill:#009af9; stroke:none; fill-opacity:0\" cx=\"1085.37\" cy=\"882.157\" r=\"2\"/>\n",
       "<circle clip-path=\"url(#clip212)\" style=\"fill:#009af9; stroke:none; fill-opacity:0\" cx=\"1144.82\" cy=\"741.891\" r=\"2\"/>\n",
       "<circle clip-path=\"url(#clip212)\" style=\"fill:#009af9; stroke:none; fill-opacity:0\" cx=\"1204.27\" cy=\"741.891\" r=\"2\"/>\n",
       "<circle clip-path=\"url(#clip212)\" style=\"fill:#009af9; stroke:none; fill-opacity:0\" cx=\"1263.72\" cy=\"868.798\" r=\"2\"/>\n",
       "<circle clip-path=\"url(#clip212)\" style=\"fill:#009af9; stroke:none; fill-opacity:0\" cx=\"1323.17\" cy=\"741.891\" r=\"2\"/>\n",
       "<circle clip-path=\"url(#clip212)\" style=\"fill:#009af9; stroke:none; fill-opacity:0\" cx=\"1382.62\" cy=\"835.401\" r=\"2\"/>\n",
       "<circle clip-path=\"url(#clip212)\" style=\"fill:#009af9; stroke:none; fill-opacity:0\" cx=\"1442.07\" cy=\"915.553\" r=\"2\"/>\n",
       "<circle clip-path=\"url(#clip212)\" style=\"fill:#009af9; stroke:none; fill-opacity:0\" cx=\"1501.52\" cy=\"1029.1\" r=\"2\"/>\n",
       "<circle clip-path=\"url(#clip212)\" style=\"fill:#009af9; stroke:none; fill-opacity:0\" cx=\"1560.97\" cy=\"1176.05\" r=\"2\"/>\n",
       "<circle clip-path=\"url(#clip212)\" style=\"fill:#009af9; stroke:none; fill-opacity:0\" cx=\"1620.42\" cy=\"1229.48\" r=\"2\"/>\n",
       "<circle clip-path=\"url(#clip212)\" style=\"fill:#009af9; stroke:none; fill-opacity:0\" cx=\"1679.87\" cy=\"1336.35\" r=\"2\"/>\n",
       "<circle clip-path=\"url(#clip212)\" style=\"fill:#009af9; stroke:none; fill-opacity:0\" cx=\"1739.32\" cy=\"1329.67\" r=\"2\"/>\n",
       "<circle clip-path=\"url(#clip212)\" style=\"fill:#009af9; stroke:none; fill-opacity:0\" cx=\"1798.77\" cy=\"1403.14\" r=\"2\"/>\n",
       "<circle clip-path=\"url(#clip212)\" style=\"fill:#009af9; stroke:none; fill-opacity:0\" cx=\"1858.22\" cy=\"1396.46\" r=\"2\"/>\n",
       "<circle clip-path=\"url(#clip212)\" style=\"fill:#009af9; stroke:none; fill-opacity:0\" cx=\"1917.67\" cy=\"1416.5\" r=\"2\"/>\n",
       "<path clip-path=\"url(#clip212)\" d=\"M639.491 1069.18 L639.491 1423.18 L698.941 1423.18 L698.941 1069.18 L639.491 1069.18 L639.491 1069.18  Z\" fill=\"#e26f46\" fill-rule=\"evenodd\" fill-opacity=\"0.5\"/>\n",
       "<polyline clip-path=\"url(#clip212)\" style=\"stroke:#000000; stroke-linecap:round; stroke-linejoin:round; stroke-width:4; stroke-opacity:0.5; fill:none\" points=\"639.491,1069.18 639.491,1423.18 698.941,1423.18 698.941,1069.18 639.491,1069.18 \"/>\n",
       "<path clip-path=\"url(#clip212)\" d=\"M698.941 1062.5 L698.941 1423.18 L758.391 1423.18 L758.391 1062.5 L698.941 1062.5 L698.941 1062.5  Z\" fill=\"#e26f46\" fill-rule=\"evenodd\" fill-opacity=\"0.5\"/>\n",
       "<polyline clip-path=\"url(#clip212)\" style=\"stroke:#000000; stroke-linecap:round; stroke-linejoin:round; stroke-width:4; stroke-opacity:0.5; fill:none\" points=\"698.941,1062.5 698.941,1423.18 758.391,1423.18 758.391,1062.5 698.941,1062.5 \"/>\n",
       "<path clip-path=\"url(#clip212)\" d=\"M758.391 1129.29 L758.391 1423.18 L817.841 1423.18 L817.841 1129.29 L758.391 1129.29 L758.391 1129.29  Z\" fill=\"#e26f46\" fill-rule=\"evenodd\" fill-opacity=\"0.5\"/>\n",
       "<polyline clip-path=\"url(#clip212)\" style=\"stroke:#000000; stroke-linecap:round; stroke-linejoin:round; stroke-width:4; stroke-opacity:0.5; fill:none\" points=\"758.391,1129.29 758.391,1423.18 817.841,1423.18 817.841,1129.29 758.391,1129.29 \"/>\n",
       "<path clip-path=\"url(#clip212)\" d=\"M817.841 1129.29 L817.841 1423.18 L877.291 1423.18 L877.291 1129.29 L817.841 1129.29 L817.841 1129.29  Z\" fill=\"#e26f46\" fill-rule=\"evenodd\" fill-opacity=\"0.5\"/>\n",
       "<polyline clip-path=\"url(#clip212)\" style=\"stroke:#000000; stroke-linecap:round; stroke-linejoin:round; stroke-width:4; stroke-opacity:0.5; fill:none\" points=\"817.841,1129.29 817.841,1423.18 877.291,1423.18 877.291,1129.29 817.841,1129.29 \"/>\n",
       "<path clip-path=\"url(#clip212)\" d=\"M877.291 1075.86 L877.291 1423.18 L936.741 1423.18 L936.741 1075.86 L877.291 1075.86 L877.291 1075.86  Z\" fill=\"#e26f46\" fill-rule=\"evenodd\" fill-opacity=\"0.5\"/>\n",
       "<polyline clip-path=\"url(#clip212)\" style=\"stroke:#000000; stroke-linecap:round; stroke-linejoin:round; stroke-width:4; stroke-opacity:0.5; fill:none\" points=\"877.291,1075.86 877.291,1423.18 936.741,1423.18 936.741,1075.86 877.291,1075.86 \"/>\n",
       "<path clip-path=\"url(#clip212)\" d=\"M936.741 1075.86 L936.741 1423.18 L996.191 1423.18 L996.191 1075.86 L936.741 1075.86 L936.741 1075.86  Z\" fill=\"#e26f46\" fill-rule=\"evenodd\" fill-opacity=\"0.5\"/>\n",
       "<polyline clip-path=\"url(#clip212)\" style=\"stroke:#000000; stroke-linecap:round; stroke-linejoin:round; stroke-width:4; stroke-opacity:0.5; fill:none\" points=\"936.741,1075.86 936.741,1423.18 996.191,1423.18 996.191,1075.86 936.741,1075.86 \"/>\n",
       "<path clip-path=\"url(#clip212)\" d=\"M996.191 1095.89 L996.191 1423.18 L1055.64 1423.18 L1055.64 1095.89 L996.191 1095.89 L996.191 1095.89  Z\" fill=\"#e26f46\" fill-rule=\"evenodd\" fill-opacity=\"0.5\"/>\n",
       "<polyline clip-path=\"url(#clip212)\" style=\"stroke:#000000; stroke-linecap:round; stroke-linejoin:round; stroke-width:4; stroke-opacity:0.5; fill:none\" points=\"996.191,1095.89 996.191,1423.18 1055.64,1423.18 1055.64,1095.89 996.191,1095.89 \"/>\n",
       "<path clip-path=\"url(#clip212)\" d=\"M1055.64 1089.21 L1055.64 1423.18 L1115.09 1423.18 L1115.09 1089.21 L1055.64 1089.21 L1055.64 1089.21  Z\" fill=\"#e26f46\" fill-rule=\"evenodd\" fill-opacity=\"0.5\"/>\n",
       "<polyline clip-path=\"url(#clip212)\" style=\"stroke:#000000; stroke-linecap:round; stroke-linejoin:round; stroke-width:4; stroke-opacity:0.5; fill:none\" points=\"1055.64,1089.21 1055.64,1423.18 1115.09,1423.18 1115.09,1089.21 1055.64,1089.21 \"/>\n",
       "<path clip-path=\"url(#clip212)\" d=\"M1115.09 1156.01 L1115.09 1423.18 L1174.54 1423.18 L1174.54 1156.01 L1115.09 1156.01 L1115.09 1156.01  Z\" fill=\"#e26f46\" fill-rule=\"evenodd\" fill-opacity=\"0.5\"/>\n",
       "<polyline clip-path=\"url(#clip212)\" style=\"stroke:#000000; stroke-linecap:round; stroke-linejoin:round; stroke-width:4; stroke-opacity:0.5; fill:none\" points=\"1115.09,1156.01 1115.09,1423.18 1174.54,1423.18 1174.54,1156.01 1115.09,1156.01 \"/>\n",
       "<path clip-path=\"url(#clip212)\" d=\"M1174.54 1102.57 L1174.54 1423.18 L1233.99 1423.18 L1233.99 1102.57 L1174.54 1102.57 L1174.54 1102.57  Z\" fill=\"#e26f46\" fill-rule=\"evenodd\" fill-opacity=\"0.5\"/>\n",
       "<polyline clip-path=\"url(#clip212)\" style=\"stroke:#000000; stroke-linecap:round; stroke-linejoin:round; stroke-width:4; stroke-opacity:0.5; fill:none\" points=\"1174.54,1102.57 1174.54,1423.18 1233.99,1423.18 1233.99,1102.57 1174.54,1102.57 \"/>\n",
       "<path clip-path=\"url(#clip212)\" d=\"M1233.99 1182.73 L1233.99 1423.18 L1293.44 1423.18 L1293.44 1182.73 L1233.99 1182.73 L1233.99 1182.73  Z\" fill=\"#e26f46\" fill-rule=\"evenodd\" fill-opacity=\"0.5\"/>\n",
       "<polyline clip-path=\"url(#clip212)\" style=\"stroke:#000000; stroke-linecap:round; stroke-linejoin:round; stroke-width:4; stroke-opacity:0.5; fill:none\" points=\"1233.99,1182.73 1233.99,1423.18 1293.44,1423.18 1293.44,1182.73 1233.99,1182.73 \"/>\n",
       "<path clip-path=\"url(#clip212)\" d=\"M1293.44 1122.61 L1293.44 1423.18 L1352.89 1423.18 L1352.89 1122.61 L1293.44 1122.61 L1293.44 1122.61  Z\" fill=\"#e26f46\" fill-rule=\"evenodd\" fill-opacity=\"0.5\"/>\n",
       "<polyline clip-path=\"url(#clip212)\" style=\"stroke:#000000; stroke-linecap:round; stroke-linejoin:round; stroke-width:4; stroke-opacity:0.5; fill:none\" points=\"1293.44,1122.61 1293.44,1423.18 1352.89,1423.18 1352.89,1122.61 1293.44,1122.61 \"/>\n",
       "<path clip-path=\"url(#clip212)\" d=\"M1352.89 1109.25 L1352.89 1423.18 L1412.34 1423.18 L1412.34 1109.25 L1352.89 1109.25 L1352.89 1109.25  Z\" fill=\"#e26f46\" fill-rule=\"evenodd\" fill-opacity=\"0.5\"/>\n",
       "<polyline clip-path=\"url(#clip212)\" style=\"stroke:#000000; stroke-linecap:round; stroke-linejoin:round; stroke-width:4; stroke-opacity:0.5; fill:none\" points=\"1352.89,1109.25 1352.89,1423.18 1412.34,1423.18 1412.34,1109.25 1352.89,1109.25 \"/>\n",
       "<path clip-path=\"url(#clip212)\" d=\"M1412.34 1035.78 L1412.34 1423.18 L1471.79 1423.18 L1471.79 1035.78 L1412.34 1035.78 L1412.34 1035.78  Z\" fill=\"#e26f46\" fill-rule=\"evenodd\" fill-opacity=\"0.5\"/>\n",
       "<polyline clip-path=\"url(#clip212)\" style=\"stroke:#000000; stroke-linecap:round; stroke-linejoin:round; stroke-width:4; stroke-opacity:0.5; fill:none\" points=\"1412.34,1035.78 1412.34,1423.18 1471.79,1423.18 1471.79,1035.78 1412.34,1035.78 \"/>\n",
       "<path clip-path=\"url(#clip212)\" d=\"M1471.79 1142.65 L1471.79 1423.18 L1531.24 1423.18 L1531.24 1142.65 L1471.79 1142.65 L1471.79 1142.65  Z\" fill=\"#e26f46\" fill-rule=\"evenodd\" fill-opacity=\"0.5\"/>\n",
       "<polyline clip-path=\"url(#clip212)\" style=\"stroke:#000000; stroke-linecap:round; stroke-linejoin:round; stroke-width:4; stroke-opacity:0.5; fill:none\" points=\"1471.79,1142.65 1471.79,1423.18 1531.24,1423.18 1531.24,1142.65 1471.79,1142.65 \"/>\n",
       "<path clip-path=\"url(#clip212)\" d=\"M1531.24 1049.14 L1531.24 1423.18 L1590.69 1423.18 L1590.69 1049.14 L1531.24 1049.14 L1531.24 1049.14  Z\" fill=\"#e26f46\" fill-rule=\"evenodd\" fill-opacity=\"0.5\"/>\n",
       "<polyline clip-path=\"url(#clip212)\" style=\"stroke:#000000; stroke-linecap:round; stroke-linejoin:round; stroke-width:4; stroke-opacity:0.5; fill:none\" points=\"1531.24,1049.14 1531.24,1423.18 1590.69,1423.18 1590.69,1049.14 1531.24,1049.14 \"/>\n",
       "<path clip-path=\"url(#clip212)\" d=\"M1590.69 995.705 L1590.69 1423.18 L1650.14 1423.18 L1650.14 995.705 L1590.69 995.705 L1590.69 995.705  Z\" fill=\"#e26f46\" fill-rule=\"evenodd\" fill-opacity=\"0.5\"/>\n",
       "<polyline clip-path=\"url(#clip212)\" style=\"stroke:#000000; stroke-linecap:round; stroke-linejoin:round; stroke-width:4; stroke-opacity:0.5; fill:none\" points=\"1590.69,995.705 1590.69,1423.18 1650.14,1423.18 1650.14,995.705 1590.69,995.705 \"/>\n",
       "<path clip-path=\"url(#clip212)\" d=\"M1650.14 1069.18 L1650.14 1423.18 L1709.59 1423.18 L1709.59 1069.18 L1650.14 1069.18 L1650.14 1069.18  Z\" fill=\"#e26f46\" fill-rule=\"evenodd\" fill-opacity=\"0.5\"/>\n",
       "<polyline clip-path=\"url(#clip212)\" style=\"stroke:#000000; stroke-linecap:round; stroke-linejoin:round; stroke-width:4; stroke-opacity:0.5; fill:none\" points=\"1650.14,1069.18 1650.14,1423.18 1709.59,1423.18 1709.59,1069.18 1650.14,1069.18 \"/>\n",
       "<path clip-path=\"url(#clip212)\" d=\"M1709.59 1029.1 L1709.59 1423.18 L1769.04 1423.18 L1769.04 1029.1 L1709.59 1029.1 L1709.59 1029.1  Z\" fill=\"#e26f46\" fill-rule=\"evenodd\" fill-opacity=\"0.5\"/>\n",
       "<polyline clip-path=\"url(#clip212)\" style=\"stroke:#000000; stroke-linecap:round; stroke-linejoin:round; stroke-width:4; stroke-opacity:0.5; fill:none\" points=\"1709.59,1029.1 1709.59,1423.18 1769.04,1423.18 1769.04,1029.1 1709.59,1029.1 \"/>\n",
       "<path clip-path=\"url(#clip212)\" d=\"M1769.04 1062.5 L1769.04 1423.18 L1828.49 1423.18 L1828.49 1062.5 L1769.04 1062.5 L1769.04 1062.5  Z\" fill=\"#e26f46\" fill-rule=\"evenodd\" fill-opacity=\"0.5\"/>\n",
       "<polyline clip-path=\"url(#clip212)\" style=\"stroke:#000000; stroke-linecap:round; stroke-linejoin:round; stroke-width:4; stroke-opacity:0.5; fill:none\" points=\"1769.04,1062.5 1769.04,1423.18 1828.49,1423.18 1828.49,1062.5 1769.04,1062.5 \"/>\n",
       "<circle clip-path=\"url(#clip212)\" style=\"fill:#e26f46; stroke:none; fill-opacity:0\" cx=\"669.216\" cy=\"1069.18\" r=\"2\"/>\n",
       "<circle clip-path=\"url(#clip212)\" style=\"fill:#e26f46; stroke:none; fill-opacity:0\" cx=\"728.666\" cy=\"1062.5\" r=\"2\"/>\n",
       "<circle clip-path=\"url(#clip212)\" style=\"fill:#e26f46; stroke:none; fill-opacity:0\" cx=\"788.116\" cy=\"1129.29\" r=\"2\"/>\n",
       "<circle clip-path=\"url(#clip212)\" style=\"fill:#e26f46; stroke:none; fill-opacity:0\" cx=\"847.566\" cy=\"1129.29\" r=\"2\"/>\n",
       "<circle clip-path=\"url(#clip212)\" style=\"fill:#e26f46; stroke:none; fill-opacity:0\" cx=\"907.016\" cy=\"1075.86\" r=\"2\"/>\n",
       "<circle clip-path=\"url(#clip212)\" style=\"fill:#e26f46; stroke:none; fill-opacity:0\" cx=\"966.466\" cy=\"1075.86\" r=\"2\"/>\n",
       "<circle clip-path=\"url(#clip212)\" style=\"fill:#e26f46; stroke:none; fill-opacity:0\" cx=\"1025.92\" cy=\"1095.89\" r=\"2\"/>\n",
       "<circle clip-path=\"url(#clip212)\" style=\"fill:#e26f46; stroke:none; fill-opacity:0\" cx=\"1085.37\" cy=\"1089.21\" r=\"2\"/>\n",
       "<circle clip-path=\"url(#clip212)\" style=\"fill:#e26f46; stroke:none; fill-opacity:0\" cx=\"1144.82\" cy=\"1156.01\" r=\"2\"/>\n",
       "<circle clip-path=\"url(#clip212)\" style=\"fill:#e26f46; stroke:none; fill-opacity:0\" cx=\"1204.27\" cy=\"1102.57\" r=\"2\"/>\n",
       "<circle clip-path=\"url(#clip212)\" style=\"fill:#e26f46; stroke:none; fill-opacity:0\" cx=\"1263.72\" cy=\"1182.73\" r=\"2\"/>\n",
       "<circle clip-path=\"url(#clip212)\" style=\"fill:#e26f46; stroke:none; fill-opacity:0\" cx=\"1323.17\" cy=\"1122.61\" r=\"2\"/>\n",
       "<circle clip-path=\"url(#clip212)\" style=\"fill:#e26f46; stroke:none; fill-opacity:0\" cx=\"1382.62\" cy=\"1109.25\" r=\"2\"/>\n",
       "<circle clip-path=\"url(#clip212)\" style=\"fill:#e26f46; stroke:none; fill-opacity:0\" cx=\"1442.07\" cy=\"1035.78\" r=\"2\"/>\n",
       "<circle clip-path=\"url(#clip212)\" style=\"fill:#e26f46; stroke:none; fill-opacity:0\" cx=\"1501.52\" cy=\"1142.65\" r=\"2\"/>\n",
       "<circle clip-path=\"url(#clip212)\" style=\"fill:#e26f46; stroke:none; fill-opacity:0\" cx=\"1560.97\" cy=\"1049.14\" r=\"2\"/>\n",
       "<circle clip-path=\"url(#clip212)\" style=\"fill:#e26f46; stroke:none; fill-opacity:0\" cx=\"1620.42\" cy=\"995.705\" r=\"2\"/>\n",
       "<circle clip-path=\"url(#clip212)\" style=\"fill:#e26f46; stroke:none; fill-opacity:0\" cx=\"1679.87\" cy=\"1069.18\" r=\"2\"/>\n",
       "<circle clip-path=\"url(#clip212)\" style=\"fill:#e26f46; stroke:none; fill-opacity:0\" cx=\"1739.32\" cy=\"1029.1\" r=\"2\"/>\n",
       "<circle clip-path=\"url(#clip212)\" style=\"fill:#e26f46; stroke:none; fill-opacity:0\" cx=\"1798.77\" cy=\"1062.5\" r=\"2\"/>\n",
       "<path clip-path=\"url(#clip212)\" d=\"M639.491 1302.95 L639.491 1423.18 L698.941 1423.18 L698.941 1302.95 L639.491 1302.95 L639.491 1302.95  Z\" fill=\"#3da44d\" fill-rule=\"evenodd\" fill-opacity=\"0.5\"/>\n",
       "<polyline clip-path=\"url(#clip212)\" style=\"stroke:#000000; stroke-linecap:round; stroke-linejoin:round; stroke-width:4; stroke-opacity:0.5; fill:none\" points=\"639.491,1302.95 639.491,1423.18 698.941,1423.18 698.941,1302.95 639.491,1302.95 \"/>\n",
       "<path clip-path=\"url(#clip212)\" d=\"M698.941 1423.18 L698.941 1423.18 L758.391 1423.18 L758.391 1423.18 L698.941 1423.18 L698.941 1423.18  Z\" fill=\"#3da44d\" fill-rule=\"evenodd\" fill-opacity=\"0.5\"/>\n",
       "<polyline clip-path=\"url(#clip212)\" style=\"stroke:#000000; stroke-linecap:round; stroke-linejoin:round; stroke-width:4; stroke-opacity:0.5; fill:none\" points=\"698.941,1423.18 698.941,1423.18 758.391,1423.18 698.941,1423.18 \"/>\n",
       "<path clip-path=\"url(#clip212)\" d=\"M758.391 1015.74 L758.391 1423.18 L817.841 1423.18 L817.841 1015.74 L758.391 1015.74 L758.391 1015.74  Z\" fill=\"#3da44d\" fill-rule=\"evenodd\" fill-opacity=\"0.5\"/>\n",
       "<polyline clip-path=\"url(#clip212)\" style=\"stroke:#000000; stroke-linecap:round; stroke-linejoin:round; stroke-width:4; stroke-opacity:0.5; fill:none\" points=\"758.391,1015.74 758.391,1423.18 817.841,1423.18 817.841,1015.74 758.391,1015.74 \"/>\n",
       "<path clip-path=\"url(#clip212)\" d=\"M817.841 1423.18 L817.841 1423.18 L877.291 1423.18 L877.291 1423.18 L817.841 1423.18 L817.841 1423.18  Z\" fill=\"#3da44d\" fill-rule=\"evenodd\" fill-opacity=\"0.5\"/>\n",
       "<polyline clip-path=\"url(#clip212)\" style=\"stroke:#000000; stroke-linecap:round; stroke-linejoin:round; stroke-width:4; stroke-opacity:0.5; fill:none\" points=\"817.841,1423.18 817.841,1423.18 877.291,1423.18 817.841,1423.18 \"/>\n",
       "<path clip-path=\"url(#clip212)\" d=\"M877.291 427.964 L877.291 1423.18 L936.741 1423.18 L936.741 427.964 L877.291 427.964 L877.291 427.964  Z\" fill=\"#3da44d\" fill-rule=\"evenodd\" fill-opacity=\"0.5\"/>\n",
       "<polyline clip-path=\"url(#clip212)\" style=\"stroke:#000000; stroke-linecap:round; stroke-linejoin:round; stroke-width:4; stroke-opacity:0.5; fill:none\" points=\"877.291,427.964 877.291,1423.18 936.741,1423.18 936.741,427.964 877.291,427.964 \"/>\n",
       "<path clip-path=\"url(#clip212)\" d=\"M936.741 1423.18 L936.741 1423.18 L996.191 1423.18 L996.191 1423.18 L936.741 1423.18 L936.741 1423.18  Z\" fill=\"#3da44d\" fill-rule=\"evenodd\" fill-opacity=\"0.5\"/>\n",
       "<polyline clip-path=\"url(#clip212)\" style=\"stroke:#000000; stroke-linecap:round; stroke-linejoin:round; stroke-width:4; stroke-opacity:0.5; fill:none\" points=\"936.741,1423.18 936.741,1423.18 996.191,1423.18 936.741,1423.18 \"/>\n",
       "<path clip-path=\"url(#clip212)\" d=\"M996.191 140.754 L996.191 1423.18 L1055.64 1423.18 L1055.64 140.754 L996.191 140.754 L996.191 140.754  Z\" fill=\"#3da44d\" fill-rule=\"evenodd\" fill-opacity=\"0.5\"/>\n",
       "<polyline clip-path=\"url(#clip212)\" style=\"stroke:#000000; stroke-linecap:round; stroke-linejoin:round; stroke-width:4; stroke-opacity:0.5; fill:none\" points=\"996.191,140.754 996.191,1423.18 1055.64,1423.18 1055.64,140.754 996.191,140.754 \"/>\n",
       "<path clip-path=\"url(#clip212)\" d=\"M1055.64 1423.18 L1055.64 1423.18 L1115.09 1423.18 L1115.09 1423.18 L1055.64 1423.18 L1055.64 1423.18  Z\" fill=\"#3da44d\" fill-rule=\"evenodd\" fill-opacity=\"0.5\"/>\n",
       "<polyline clip-path=\"url(#clip212)\" style=\"stroke:#000000; stroke-linecap:round; stroke-linejoin:round; stroke-width:4; stroke-opacity:0.5; fill:none\" points=\"1055.64,1423.18 1055.64,1423.18 1115.09,1423.18 1055.64,1423.18 \"/>\n",
       "<path clip-path=\"url(#clip212)\" d=\"M1115.09 47.2441 L1115.09 1423.18 L1174.54 1423.18 L1174.54 47.2441 L1115.09 47.2441 L1115.09 47.2441  Z\" fill=\"#3da44d\" fill-rule=\"evenodd\" fill-opacity=\"0.5\"/>\n",
       "<polyline clip-path=\"url(#clip212)\" style=\"stroke:#000000; stroke-linecap:round; stroke-linejoin:round; stroke-width:4; stroke-opacity:0.5; fill:none\" points=\"1115.09,47.2441 1115.09,1423.18 1174.54,1423.18 1174.54,47.2441 1115.09,47.2441 \"/>\n",
       "<path clip-path=\"url(#clip212)\" d=\"M1174.54 1423.18 L1174.54 1423.18 L1233.99 1423.18 L1233.99 1423.18 L1174.54 1423.18 L1174.54 1423.18  Z\" fill=\"#3da44d\" fill-rule=\"evenodd\" fill-opacity=\"0.5\"/>\n",
       "<polyline clip-path=\"url(#clip212)\" style=\"stroke:#000000; stroke-linecap:round; stroke-linejoin:round; stroke-width:4; stroke-opacity:0.5; fill:none\" points=\"1174.54,1423.18 1174.54,1423.18 1233.99,1423.18 1174.54,1423.18 \"/>\n",
       "<path clip-path=\"url(#clip212)\" d=\"M1233.99 474.719 L1233.99 1423.18 L1293.44 1423.18 L1293.44 474.719 L1233.99 474.719 L1233.99 474.719  Z\" fill=\"#3da44d\" fill-rule=\"evenodd\" fill-opacity=\"0.5\"/>\n",
       "<polyline clip-path=\"url(#clip212)\" style=\"stroke:#000000; stroke-linecap:round; stroke-linejoin:round; stroke-width:4; stroke-opacity:0.5; fill:none\" points=\"1233.99,474.719 1233.99,1423.18 1293.44,1423.18 1293.44,474.719 1233.99,474.719 \"/>\n",
       "<path clip-path=\"url(#clip212)\" d=\"M1293.44 1423.18 L1293.44 1423.18 L1352.89 1423.18 L1352.89 1423.18 L1293.44 1423.18 L1293.44 1423.18  Z\" fill=\"#3da44d\" fill-rule=\"evenodd\" fill-opacity=\"0.5\"/>\n",
       "<polyline clip-path=\"url(#clip212)\" style=\"stroke:#000000; stroke-linecap:round; stroke-linejoin:round; stroke-width:4; stroke-opacity:0.5; fill:none\" points=\"1293.44,1423.18 1293.44,1423.18 1352.89,1423.18 1293.44,1423.18 \"/>\n",
       "<path clip-path=\"url(#clip212)\" d=\"M1352.89 648.381 L1352.89 1423.18 L1412.34 1423.18 L1412.34 648.381 L1352.89 648.381 L1352.89 648.381  Z\" fill=\"#3da44d\" fill-rule=\"evenodd\" fill-opacity=\"0.5\"/>\n",
       "<polyline clip-path=\"url(#clip212)\" style=\"stroke:#000000; stroke-linecap:round; stroke-linejoin:round; stroke-width:4; stroke-opacity:0.5; fill:none\" points=\"1352.89,648.381 1352.89,1423.18 1412.34,1423.18 1412.34,648.381 1352.89,648.381 \"/>\n",
       "<path clip-path=\"url(#clip212)\" d=\"M1412.34 1423.18 L1412.34 1423.18 L1471.79 1423.18 L1471.79 1423.18 L1412.34 1423.18 L1412.34 1423.18  Z\" fill=\"#3da44d\" fill-rule=\"evenodd\" fill-opacity=\"0.5\"/>\n",
       "<polyline clip-path=\"url(#clip212)\" style=\"stroke:#000000; stroke-linecap:round; stroke-linejoin:round; stroke-width:4; stroke-opacity:0.5; fill:none\" points=\"1412.34,1423.18 1412.34,1423.18 1471.79,1423.18 1412.34,1423.18 \"/>\n",
       "<path clip-path=\"url(#clip212)\" d=\"M1471.79 1055.82 L1471.79 1423.18 L1531.24 1423.18 L1531.24 1055.82 L1471.79 1055.82 L1471.79 1055.82  Z\" fill=\"#3da44d\" fill-rule=\"evenodd\" fill-opacity=\"0.5\"/>\n",
       "<polyline clip-path=\"url(#clip212)\" style=\"stroke:#000000; stroke-linecap:round; stroke-linejoin:round; stroke-width:4; stroke-opacity:0.5; fill:none\" points=\"1471.79,1055.82 1471.79,1423.18 1531.24,1423.18 1531.24,1055.82 1471.79,1055.82 \"/>\n",
       "<path clip-path=\"url(#clip212)\" d=\"M1531.24 1423.18 L1531.24 1423.18 L1590.69 1423.18 L1590.69 1423.18 L1531.24 1423.18 L1531.24 1423.18  Z\" fill=\"#3da44d\" fill-rule=\"evenodd\" fill-opacity=\"0.5\"/>\n",
       "<polyline clip-path=\"url(#clip212)\" style=\"stroke:#000000; stroke-linecap:round; stroke-linejoin:round; stroke-width:4; stroke-opacity:0.5; fill:none\" points=\"1531.24,1423.18 1531.24,1423.18 1590.69,1423.18 1531.24,1423.18 \"/>\n",
       "<path clip-path=\"url(#clip212)\" d=\"M1590.69 1169.37 L1590.69 1423.18 L1650.14 1423.18 L1650.14 1169.37 L1590.69 1169.37 L1590.69 1169.37  Z\" fill=\"#3da44d\" fill-rule=\"evenodd\" fill-opacity=\"0.5\"/>\n",
       "<polyline clip-path=\"url(#clip212)\" style=\"stroke:#000000; stroke-linecap:round; stroke-linejoin:round; stroke-width:4; stroke-opacity:0.5; fill:none\" points=\"1590.69,1169.37 1590.69,1423.18 1650.14,1423.18 1650.14,1169.37 1590.69,1169.37 \"/>\n",
       "<path clip-path=\"url(#clip212)\" d=\"M1650.14 1423.18 L1650.14 1423.18 L1709.59 1423.18 L1709.59 1423.18 L1650.14 1423.18 L1650.14 1423.18  Z\" fill=\"#3da44d\" fill-rule=\"evenodd\" fill-opacity=\"0.5\"/>\n",
       "<polyline clip-path=\"url(#clip212)\" style=\"stroke:#000000; stroke-linecap:round; stroke-linejoin:round; stroke-width:4; stroke-opacity:0.5; fill:none\" points=\"1650.14,1423.18 1650.14,1423.18 1709.59,1423.18 1650.14,1423.18 \"/>\n",
       "<path clip-path=\"url(#clip212)\" d=\"M1709.59 1336.35 L1709.59 1423.18 L1769.04 1423.18 L1769.04 1336.35 L1709.59 1336.35 L1709.59 1336.35  Z\" fill=\"#3da44d\" fill-rule=\"evenodd\" fill-opacity=\"0.5\"/>\n",
       "<polyline clip-path=\"url(#clip212)\" style=\"stroke:#000000; stroke-linecap:round; stroke-linejoin:round; stroke-width:4; stroke-opacity:0.5; fill:none\" points=\"1709.59,1336.35 1709.59,1423.18 1769.04,1423.18 1769.04,1336.35 1709.59,1336.35 \"/>\n",
       "<path clip-path=\"url(#clip212)\" d=\"M1769.04 1423.18 L1769.04 1423.18 L1828.49 1423.18 L1828.49 1423.18 L1769.04 1423.18 L1769.04 1423.18  Z\" fill=\"#3da44d\" fill-rule=\"evenodd\" fill-opacity=\"0.5\"/>\n",
       "<polyline clip-path=\"url(#clip212)\" style=\"stroke:#000000; stroke-linecap:round; stroke-linejoin:round; stroke-width:4; stroke-opacity:0.5; fill:none\" points=\"1769.04,1423.18 1769.04,1423.18 1828.49,1423.18 1769.04,1423.18 \"/>\n",
       "<path clip-path=\"url(#clip212)\" d=\"M1828.49 1389.78 L1828.49 1423.18 L1887.94 1423.18 L1887.94 1389.78 L1828.49 1389.78 L1828.49 1389.78  Z\" fill=\"#3da44d\" fill-rule=\"evenodd\" fill-opacity=\"0.5\"/>\n",
       "<polyline clip-path=\"url(#clip212)\" style=\"stroke:#000000; stroke-linecap:round; stroke-linejoin:round; stroke-width:4; stroke-opacity:0.5; fill:none\" points=\"1828.49,1389.78 1828.49,1423.18 1887.94,1423.18 1887.94,1389.78 1828.49,1389.78 \"/>\n",
       "<path clip-path=\"url(#clip212)\" d=\"M1887.94 1423.18 L1887.94 1423.18 L1947.39 1423.18 L1947.39 1423.18 L1887.94 1423.18 L1887.94 1423.18  Z\" fill=\"#3da44d\" fill-rule=\"evenodd\" fill-opacity=\"0.5\"/>\n",
       "<polyline clip-path=\"url(#clip212)\" style=\"stroke:#000000; stroke-linecap:round; stroke-linejoin:round; stroke-width:4; stroke-opacity:0.5; fill:none\" points=\"1887.94,1423.18 1887.94,1423.18 1947.39,1423.18 1887.94,1423.18 \"/>\n",
       "<path clip-path=\"url(#clip212)\" d=\"M1947.39 1409.82 L1947.39 1423.18 L2006.84 1423.18 L2006.84 1409.82 L1947.39 1409.82 L1947.39 1409.82  Z\" fill=\"#3da44d\" fill-rule=\"evenodd\" fill-opacity=\"0.5\"/>\n",
       "<polyline clip-path=\"url(#clip212)\" style=\"stroke:#000000; stroke-linecap:round; stroke-linejoin:round; stroke-width:4; stroke-opacity:0.5; fill:none\" points=\"1947.39,1409.82 1947.39,1423.18 2006.84,1423.18 2006.84,1409.82 1947.39,1409.82 \"/>\n",
       "<path clip-path=\"url(#clip212)\" d=\"M2006.84 1423.18 L2006.84 1423.18 L2066.29 1423.18 L2066.29 1423.18 L2006.84 1423.18 L2006.84 1423.18  Z\" fill=\"#3da44d\" fill-rule=\"evenodd\" fill-opacity=\"0.5\"/>\n",
       "<polyline clip-path=\"url(#clip212)\" style=\"stroke:#000000; stroke-linecap:round; stroke-linejoin:round; stroke-width:4; stroke-opacity:0.5; fill:none\" points=\"2006.84,1423.18 2006.84,1423.18 2066.29,1423.18 2006.84,1423.18 \"/>\n",
       "<path clip-path=\"url(#clip212)\" d=\"M2066.29 1409.82 L2066.29 1423.18 L2125.74 1423.18 L2125.74 1409.82 L2066.29 1409.82 L2066.29 1409.82  Z\" fill=\"#3da44d\" fill-rule=\"evenodd\" fill-opacity=\"0.5\"/>\n",
       "<polyline clip-path=\"url(#clip212)\" style=\"stroke:#000000; stroke-linecap:round; stroke-linejoin:round; stroke-width:4; stroke-opacity:0.5; fill:none\" points=\"2066.29,1409.82 2066.29,1423.18 2125.74,1423.18 2125.74,1409.82 2066.29,1409.82 \"/>\n",
       "<path clip-path=\"url(#clip212)\" d=\"M2125.74 1423.18 L2125.74 1423.18 L2185.19 1423.18 L2185.19 1423.18 L2125.74 1423.18 L2125.74 1423.18  Z\" fill=\"#3da44d\" fill-rule=\"evenodd\" fill-opacity=\"0.5\"/>\n",
       "<polyline clip-path=\"url(#clip212)\" style=\"stroke:#000000; stroke-linecap:round; stroke-linejoin:round; stroke-width:4; stroke-opacity:0.5; fill:none\" points=\"2125.74,1423.18 2125.74,1423.18 2185.19,1423.18 2125.74,1423.18 \"/>\n",
       "<path clip-path=\"url(#clip212)\" d=\"M2185.19 1416.5 L2185.19 1423.18 L2244.64 1423.18 L2244.64 1416.5 L2185.19 1416.5 L2185.19 1416.5  Z\" fill=\"#3da44d\" fill-rule=\"evenodd\" fill-opacity=\"0.5\"/>\n",
       "<polyline clip-path=\"url(#clip212)\" style=\"stroke:#000000; stroke-linecap:round; stroke-linejoin:round; stroke-width:4; stroke-opacity:0.5; fill:none\" points=\"2185.19,1416.5 2185.19,1423.18 2244.64,1423.18 2244.64,1416.5 2185.19,1416.5 \"/>\n",
       "<circle clip-path=\"url(#clip212)\" style=\"fill:#3da44d; stroke:none; fill-opacity:0\" cx=\"669.216\" cy=\"1302.95\" r=\"2\"/>\n",
       "<circle clip-path=\"url(#clip212)\" style=\"fill:#3da44d; stroke:none; fill-opacity:0\" cx=\"728.666\" cy=\"1423.18\" r=\"2\"/>\n",
       "<circle clip-path=\"url(#clip212)\" style=\"fill:#3da44d; stroke:none; fill-opacity:0\" cx=\"788.116\" cy=\"1015.74\" r=\"2\"/>\n",
       "<circle clip-path=\"url(#clip212)\" style=\"fill:#3da44d; stroke:none; fill-opacity:0\" cx=\"847.566\" cy=\"1423.18\" r=\"2\"/>\n",
       "<circle clip-path=\"url(#clip212)\" style=\"fill:#3da44d; stroke:none; fill-opacity:0\" cx=\"907.016\" cy=\"427.964\" r=\"2\"/>\n",
       "<circle clip-path=\"url(#clip212)\" style=\"fill:#3da44d; stroke:none; fill-opacity:0\" cx=\"966.466\" cy=\"1423.18\" r=\"2\"/>\n",
       "<circle clip-path=\"url(#clip212)\" style=\"fill:#3da44d; stroke:none; fill-opacity:0\" cx=\"1025.92\" cy=\"140.754\" r=\"2\"/>\n",
       "<circle clip-path=\"url(#clip212)\" style=\"fill:#3da44d; stroke:none; fill-opacity:0\" cx=\"1085.37\" cy=\"1423.18\" r=\"2\"/>\n",
       "<circle clip-path=\"url(#clip212)\" style=\"fill:#3da44d; stroke:none; fill-opacity:0\" cx=\"1144.82\" cy=\"47.2441\" r=\"2\"/>\n",
       "<circle clip-path=\"url(#clip212)\" style=\"fill:#3da44d; stroke:none; fill-opacity:0\" cx=\"1204.27\" cy=\"1423.18\" r=\"2\"/>\n",
       "<circle clip-path=\"url(#clip212)\" style=\"fill:#3da44d; stroke:none; fill-opacity:0\" cx=\"1263.72\" cy=\"474.719\" r=\"2\"/>\n",
       "<circle clip-path=\"url(#clip212)\" style=\"fill:#3da44d; stroke:none; fill-opacity:0\" cx=\"1323.17\" cy=\"1423.18\" r=\"2\"/>\n",
       "<circle clip-path=\"url(#clip212)\" style=\"fill:#3da44d; stroke:none; fill-opacity:0\" cx=\"1382.62\" cy=\"648.381\" r=\"2\"/>\n",
       "<circle clip-path=\"url(#clip212)\" style=\"fill:#3da44d; stroke:none; fill-opacity:0\" cx=\"1442.07\" cy=\"1423.18\" r=\"2\"/>\n",
       "<circle clip-path=\"url(#clip212)\" style=\"fill:#3da44d; stroke:none; fill-opacity:0\" cx=\"1501.52\" cy=\"1055.82\" r=\"2\"/>\n",
       "<circle clip-path=\"url(#clip212)\" style=\"fill:#3da44d; stroke:none; fill-opacity:0\" cx=\"1560.97\" cy=\"1423.18\" r=\"2\"/>\n",
       "<circle clip-path=\"url(#clip212)\" style=\"fill:#3da44d; stroke:none; fill-opacity:0\" cx=\"1620.42\" cy=\"1169.37\" r=\"2\"/>\n",
       "<circle clip-path=\"url(#clip212)\" style=\"fill:#3da44d; stroke:none; fill-opacity:0\" cx=\"1679.87\" cy=\"1423.18\" r=\"2\"/>\n",
       "<circle clip-path=\"url(#clip212)\" style=\"fill:#3da44d; stroke:none; fill-opacity:0\" cx=\"1739.32\" cy=\"1336.35\" r=\"2\"/>\n",
       "<circle clip-path=\"url(#clip212)\" style=\"fill:#3da44d; stroke:none; fill-opacity:0\" cx=\"1798.77\" cy=\"1423.18\" r=\"2\"/>\n",
       "<circle clip-path=\"url(#clip212)\" style=\"fill:#3da44d; stroke:none; fill-opacity:0\" cx=\"1858.22\" cy=\"1389.78\" r=\"2\"/>\n",
       "<circle clip-path=\"url(#clip212)\" style=\"fill:#3da44d; stroke:none; fill-opacity:0\" cx=\"1917.67\" cy=\"1423.18\" r=\"2\"/>\n",
       "<circle clip-path=\"url(#clip212)\" style=\"fill:#3da44d; stroke:none; fill-opacity:0\" cx=\"1977.12\" cy=\"1409.82\" r=\"2\"/>\n",
       "<circle clip-path=\"url(#clip212)\" style=\"fill:#3da44d; stroke:none; fill-opacity:0\" cx=\"2036.57\" cy=\"1423.18\" r=\"2\"/>\n",
       "<circle clip-path=\"url(#clip212)\" style=\"fill:#3da44d; stroke:none; fill-opacity:0\" cx=\"2096.02\" cy=\"1409.82\" r=\"2\"/>\n",
       "<circle clip-path=\"url(#clip212)\" style=\"fill:#3da44d; stroke:none; fill-opacity:0\" cx=\"2155.47\" cy=\"1423.18\" r=\"2\"/>\n",
       "<circle clip-path=\"url(#clip212)\" style=\"fill:#3da44d; stroke:none; fill-opacity:0\" cx=\"2214.92\" cy=\"1416.5\" r=\"2\"/>\n",
       "<path clip-path=\"url(#clip210)\" d=\"M1732.4 300.469 L2282.13 300.469 L2282.13 93.1086 L1732.4 93.1086  Z\" fill=\"#ffffff\" fill-rule=\"evenodd\" fill-opacity=\"1\"/>\n",
       "<polyline clip-path=\"url(#clip210)\" style=\"stroke:#000000; stroke-linecap:round; stroke-linejoin:round; stroke-width:4; stroke-opacity:1; fill:none\" points=\"1732.4,300.469 2282.13,300.469 2282.13,93.1086 1732.4,93.1086 1732.4,300.469 \"/>\n",
       "<path clip-path=\"url(#clip210)\" d=\"M1755.94 165.685 L1897.19 165.685 L1897.19 124.213 L1755.94 124.213 L1755.94 165.685  Z\" fill=\"#009af9\" fill-rule=\"evenodd\" fill-opacity=\"0.5\"/>\n",
       "<polyline clip-path=\"url(#clip210)\" style=\"stroke:#000000; stroke-linecap:round; stroke-linejoin:round; stroke-width:4; stroke-opacity:1; fill:none\" points=\"1755.94,165.685 1897.19,165.685 1897.19,124.213 1755.94,124.213 1755.94,165.685 \"/>\n",
       "<path clip-path=\"url(#clip210)\" d=\"M1920.73 127.669 L1927.02 127.669 L1942.35 156.581 L1942.35 127.669 L1946.88 127.669 L1946.88 162.229 L1940.59 162.229 L1925.26 133.317 L1925.26 162.229 L1920.73 162.229 L1920.73 127.669 Z\" fill=\"#000000\" fill-rule=\"nonzero\" fill-opacity=\"1\" /><path clip-path=\"url(#clip210)\" d=\"M1966.05 139.289 Q1962.62 139.289 1960.63 141.974 Q1958.64 144.636 1958.64 149.289 Q1958.64 153.942 1960.61 156.627 Q1962.6 159.289 1966.05 159.289 Q1969.45 159.289 1971.44 156.604 Q1973.43 153.918 1973.43 149.289 Q1973.43 144.682 1971.44 141.997 Q1969.45 139.289 1966.05 139.289 M1966.05 135.678 Q1971.61 135.678 1974.78 139.289 Q1977.95 142.9 1977.95 149.289 Q1977.95 155.655 1974.78 159.289 Q1971.61 162.9 1966.05 162.9 Q1960.47 162.9 1957.3 159.289 Q1954.15 155.655 1954.15 149.289 Q1954.15 142.9 1957.3 139.289 Q1960.47 135.678 1966.05 135.678 Z\" fill=\"#000000\" fill-rule=\"nonzero\" fill-opacity=\"1\" /><path clip-path=\"url(#clip210)\" d=\"M2000.03 140.284 Q1999.31 139.868 1998.46 139.682 Q1997.62 139.474 1996.61 139.474 Q1992.99 139.474 1991.05 141.835 Q1989.13 144.173 1989.13 148.571 L1989.13 162.229 L1984.85 162.229 L1984.85 136.303 L1989.13 136.303 L1989.13 140.331 Q1990.47 137.969 1992.62 136.835 Q1994.78 135.678 1997.86 135.678 Q1998.3 135.678 1998.83 135.747 Q1999.36 135.794 2000.01 135.909 L2000.03 140.284 Z\" fill=\"#000000\" fill-rule=\"nonzero\" fill-opacity=\"1\" /><path clip-path=\"url(#clip210)\" d=\"M2023.85 141.28 Q2025.45 138.409 2027.67 137.044 Q2029.89 135.678 2032.9 135.678 Q2036.95 135.678 2039.15 138.525 Q2041.35 141.349 2041.35 146.581 L2041.35 162.229 L2037.07 162.229 L2037.07 146.719 Q2037.07 142.993 2035.75 141.187 Q2034.43 139.382 2031.72 139.382 Q2028.41 139.382 2026.49 141.581 Q2024.57 143.78 2024.57 147.576 L2024.57 162.229 L2020.29 162.229 L2020.29 146.719 Q2020.29 142.969 2018.97 141.187 Q2017.65 139.382 2014.89 139.382 Q2011.63 139.382 2009.71 141.604 Q2007.79 143.803 2007.79 147.576 L2007.79 162.229 L2003.5 162.229 L2003.5 136.303 L2007.79 136.303 L2007.79 140.331 Q2009.24 137.946 2011.28 136.812 Q2013.32 135.678 2016.12 135.678 Q2018.94 135.678 2020.91 137.113 Q2022.9 138.548 2023.85 141.28 Z\" fill=\"#000000\" fill-rule=\"nonzero\" fill-opacity=\"1\" /><path clip-path=\"url(#clip210)\" d=\"M2061.63 149.196 Q2056.47 149.196 2054.48 150.377 Q2052.48 151.557 2052.48 154.405 Q2052.48 156.673 2053.97 158.016 Q2055.47 159.335 2058.04 159.335 Q2061.58 159.335 2063.71 156.835 Q2065.86 154.312 2065.86 150.145 L2065.86 149.196 L2061.63 149.196 M2070.12 147.437 L2070.12 162.229 L2065.86 162.229 L2065.86 158.293 Q2064.41 160.655 2062.23 161.789 Q2060.05 162.9 2056.91 162.9 Q2052.92 162.9 2050.56 160.678 Q2048.23 158.432 2048.23 154.682 Q2048.23 150.307 2051.14 148.085 Q2054.08 145.863 2059.89 145.863 L2065.86 145.863 L2065.86 145.446 Q2065.86 142.507 2063.92 140.909 Q2062 139.289 2058.5 139.289 Q2056.28 139.289 2054.17 139.821 Q2052.07 140.354 2050.12 141.419 L2050.12 137.483 Q2052.46 136.581 2054.66 136.141 Q2056.86 135.678 2058.94 135.678 Q2064.57 135.678 2067.35 138.594 Q2070.12 141.511 2070.12 147.437 Z\" fill=\"#000000\" fill-rule=\"nonzero\" fill-opacity=\"1\" /><path clip-path=\"url(#clip210)\" d=\"M2078.9 126.21 L2083.16 126.21 L2083.16 162.229 L2078.9 162.229 L2078.9 126.21 Z\" fill=\"#000000\" fill-rule=\"nonzero\" fill-opacity=\"1\" /><path clip-path=\"url(#clip210)\" d=\"M2102.3 126.257 Q2099.2 131.581 2097.69 136.789 Q2096.19 141.997 2096.19 147.344 Q2096.19 152.692 2097.69 157.946 Q2099.22 163.178 2102.3 168.479 L2098.6 168.479 Q2095.12 163.039 2093.39 157.784 Q2091.67 152.53 2091.67 147.344 Q2091.67 142.182 2093.39 136.951 Q2095.1 131.72 2098.6 126.257 L2102.3 126.257 Z\" fill=\"#000000\" fill-rule=\"nonzero\" fill-opacity=\"1\" /><path clip-path=\"url(#clip210)\" d=\"M2111.21 127.669 L2129.57 127.669 L2129.57 131.604 L2115.49 131.604 L2115.49 140.076 Q2116.51 139.729 2117.53 139.567 Q2118.55 139.382 2119.57 139.382 Q2125.35 139.382 2128.73 142.553 Q2132.11 145.724 2132.11 151.141 Q2132.11 156.719 2128.64 159.821 Q2125.17 162.9 2118.85 162.9 Q2116.67 162.9 2114.41 162.53 Q2112.16 162.159 2109.75 161.418 L2109.75 156.719 Q2111.84 157.854 2114.06 158.409 Q2116.28 158.965 2118.76 158.965 Q2122.76 158.965 2125.1 156.858 Q2127.44 154.752 2127.44 151.141 Q2127.44 147.53 2125.1 145.423 Q2122.76 143.317 2118.76 143.317 Q2116.88 143.317 2115.01 143.733 Q2113.16 144.15 2111.21 145.03 L2111.21 127.669 Z\" fill=\"#000000\" fill-rule=\"nonzero\" fill-opacity=\"1\" /><path clip-path=\"url(#clip210)\" d=\"M2141.81 156.349 L2146.7 156.349 L2146.7 160.33 L2142.9 167.738 L2139.91 167.738 L2141.81 160.33 L2141.81 156.349 Z\" fill=\"#000000\" fill-rule=\"nonzero\" fill-opacity=\"1\" /><path clip-path=\"url(#clip210)\" d=\"M2175.49 158.293 L2191.81 158.293 L2191.81 162.229 L2169.87 162.229 L2169.87 158.293 Q2172.53 155.539 2177.11 150.909 Q2181.72 146.256 2182.9 144.914 Q2185.15 142.391 2186.03 140.655 Q2186.93 138.895 2186.93 137.206 Q2186.93 134.451 2184.98 132.715 Q2183.06 130.979 2179.96 130.979 Q2177.76 130.979 2175.31 131.743 Q2172.88 132.507 2170.1 134.057 L2170.1 129.335 Q2172.92 128.201 2175.38 127.622 Q2177.83 127.044 2179.87 127.044 Q2185.24 127.044 2188.43 129.729 Q2191.63 132.414 2191.63 136.905 Q2191.63 139.034 2190.82 140.956 Q2190.03 142.854 2187.92 145.446 Q2187.34 146.118 2184.24 149.335 Q2181.14 152.53 2175.49 158.293 Z\" fill=\"#000000\" fill-rule=\"nonzero\" fill-opacity=\"1\" /><path clip-path=\"url(#clip210)\" d=\"M2200.35 126.257 L2204.06 126.257 Q2207.53 131.72 2209.24 136.951 Q2210.98 142.182 2210.98 147.344 Q2210.98 152.53 2209.24 157.784 Q2207.53 163.039 2204.06 168.479 L2200.35 168.479 Q2203.43 163.178 2204.94 157.946 Q2206.47 152.692 2206.47 147.344 Q2206.47 141.997 2204.94 136.789 Q2203.43 131.581 2200.35 126.257 Z\" fill=\"#000000\" fill-rule=\"nonzero\" fill-opacity=\"1\" /><path clip-path=\"url(#clip210)\" d=\"M1755.94 217.525 L1897.19 217.525 L1897.19 176.053 L1755.94 176.053 L1755.94 217.525  Z\" fill=\"#e26f46\" fill-rule=\"evenodd\" fill-opacity=\"0.5\"/>\n",
       "<polyline clip-path=\"url(#clip210)\" style=\"stroke:#000000; stroke-linecap:round; stroke-linejoin:round; stroke-width:4; stroke-opacity:1; fill:none\" points=\"1755.94,217.525 1897.19,217.525 1897.19,176.053 1755.94,176.053 1755.94,217.525 \"/>\n",
       "<path clip-path=\"url(#clip210)\" d=\"M1920.73 179.509 L1925.43 179.509 L1925.43 200.504 Q1925.43 206.059 1927.44 208.513 Q1929.45 210.944 1933.97 210.944 Q1938.46 210.944 1940.47 208.513 Q1942.49 206.059 1942.49 200.504 L1942.49 179.509 L1947.18 179.509 L1947.18 201.083 Q1947.18 207.842 1943.83 211.291 Q1940.49 214.74 1933.97 214.74 Q1927.42 214.74 1924.06 211.291 Q1920.73 207.842 1920.73 201.083 L1920.73 179.509 Z\" fill=\"#000000\" fill-rule=\"nonzero\" fill-opacity=\"1\" /><path clip-path=\"url(#clip210)\" d=\"M1977.32 198.421 L1977.32 214.069 L1973.06 214.069 L1973.06 198.559 Q1973.06 194.879 1971.63 193.05 Q1970.19 191.222 1967.32 191.222 Q1963.87 191.222 1961.88 193.421 Q1959.89 195.62 1959.89 199.416 L1959.89 214.069 L1955.61 214.069 L1955.61 188.143 L1959.89 188.143 L1959.89 192.171 Q1961.42 189.833 1963.48 188.675 Q1965.56 187.518 1968.27 187.518 Q1972.74 187.518 1975.03 190.296 Q1977.32 193.05 1977.32 198.421 Z\" fill=\"#000000\" fill-rule=\"nonzero\" fill-opacity=\"1\" /><path clip-path=\"url(#clip210)\" d=\"M1985.82 188.143 L1990.08 188.143 L1990.08 214.069 L1985.82 214.069 L1985.82 188.143 M1985.82 178.05 L1990.08 178.05 L1990.08 183.444 L1985.82 183.444 L1985.82 178.05 Z\" fill=\"#000000\" fill-rule=\"nonzero\" fill-opacity=\"1\" /><path clip-path=\"url(#clip210)\" d=\"M2012.11 178.05 L2012.11 181.592 L2008.04 181.592 Q2005.75 181.592 2004.85 182.518 Q2003.97 183.444 2003.97 185.851 L2003.97 188.143 L2010.98 188.143 L2010.98 191.453 L2003.97 191.453 L2003.97 214.069 L1999.68 214.069 L1999.68 191.453 L1995.61 191.453 L1995.61 188.143 L1999.68 188.143 L1999.68 186.337 Q1999.68 182.009 2001.7 180.041 Q2003.71 178.05 2008.09 178.05 L2012.11 178.05 Z\" fill=\"#000000\" fill-rule=\"nonzero\" fill-opacity=\"1\" /><path clip-path=\"url(#clip210)\" d=\"M2025.73 191.129 Q2022.3 191.129 2020.31 193.814 Q2018.32 196.476 2018.32 201.129 Q2018.32 205.782 2020.29 208.467 Q2022.28 211.129 2025.73 211.129 Q2029.13 211.129 2031.12 208.444 Q2033.11 205.758 2033.11 201.129 Q2033.11 196.522 2031.12 193.837 Q2029.13 191.129 2025.73 191.129 M2025.73 187.518 Q2031.28 187.518 2034.45 191.129 Q2037.62 194.74 2037.62 201.129 Q2037.62 207.495 2034.45 211.129 Q2031.28 214.74 2025.73 214.74 Q2020.15 214.74 2016.98 211.129 Q2013.83 207.495 2013.83 201.129 Q2013.83 194.74 2016.98 191.129 Q2020.15 187.518 2025.73 187.518 Z\" fill=\"#000000\" fill-rule=\"nonzero\" fill-opacity=\"1\" /><path clip-path=\"url(#clip210)\" d=\"M2059.71 192.124 Q2058.99 191.708 2058.13 191.522 Q2057.3 191.314 2056.28 191.314 Q2052.67 191.314 2050.73 193.675 Q2048.8 196.013 2048.8 200.411 L2048.8 214.069 L2044.52 214.069 L2044.52 188.143 L2048.8 188.143 L2048.8 192.171 Q2050.15 189.809 2052.3 188.675 Q2054.45 187.518 2057.53 187.518 Q2057.97 187.518 2058.5 187.587 Q2059.04 187.634 2059.68 187.749 L2059.71 192.124 Z\" fill=\"#000000\" fill-rule=\"nonzero\" fill-opacity=\"1\" /><path clip-path=\"url(#clip210)\" d=\"M2083.53 193.12 Q2085.12 190.249 2087.35 188.884 Q2089.57 187.518 2092.58 187.518 Q2096.63 187.518 2098.83 190.365 Q2101.03 193.189 2101.03 198.421 L2101.03 214.069 L2096.74 214.069 L2096.74 198.559 Q2096.74 194.833 2095.42 193.027 Q2094.1 191.222 2091.4 191.222 Q2088.09 191.222 2086.16 193.421 Q2084.24 195.62 2084.24 199.416 L2084.24 214.069 L2079.96 214.069 L2079.96 198.559 Q2079.96 194.809 2078.64 193.027 Q2077.32 191.222 2074.57 191.222 Q2071.3 191.222 2069.38 193.444 Q2067.46 195.643 2067.46 199.416 L2067.46 214.069 L2063.18 214.069 L2063.18 188.143 L2067.46 188.143 L2067.46 192.171 Q2068.92 189.786 2070.96 188.652 Q2072.99 187.518 2075.79 187.518 Q2078.62 187.518 2080.59 188.953 Q2082.58 190.388 2083.53 193.12 Z\" fill=\"#000000\" fill-rule=\"nonzero\" fill-opacity=\"1\" /><path clip-path=\"url(#clip210)\" d=\"M2119.75 178.097 Q2116.65 183.421 2115.15 188.629 Q2113.64 193.837 2113.64 199.184 Q2113.64 204.532 2115.15 209.786 Q2116.67 215.018 2119.75 220.319 L2116.05 220.319 Q2112.58 214.879 2110.84 209.624 Q2109.13 204.37 2109.13 199.184 Q2109.13 194.022 2110.84 188.791 Q2112.55 183.56 2116.05 178.097 L2119.75 178.097 Z\" fill=\"#000000\" fill-rule=\"nonzero\" fill-opacity=\"1\" /><path clip-path=\"url(#clip210)\" d=\"M2138.62 182.587 Q2135.01 182.587 2133.18 186.152 Q2131.37 189.694 2131.37 196.823 Q2131.37 203.93 2133.18 207.495 Q2135.01 211.036 2138.62 211.036 Q2142.25 211.036 2144.06 207.495 Q2145.89 203.93 2145.89 196.823 Q2145.89 189.694 2144.06 186.152 Q2142.25 182.587 2138.62 182.587 M2138.62 178.884 Q2144.43 178.884 2147.48 183.49 Q2150.56 188.073 2150.56 196.823 Q2150.56 205.55 2147.48 210.157 Q2144.43 214.74 2138.62 214.74 Q2132.81 214.74 2129.73 210.157 Q2126.67 205.55 2126.67 196.823 Q2126.67 188.073 2129.73 183.49 Q2132.81 178.884 2138.62 178.884 Z\" fill=\"#000000\" fill-rule=\"nonzero\" fill-opacity=\"1\" /><path clip-path=\"url(#clip210)\" d=\"M2159.27 208.189 L2164.15 208.189 L2164.15 212.17 L2160.35 219.578 L2157.37 219.578 L2159.27 212.17 L2159.27 208.189 Z\" fill=\"#000000\" fill-rule=\"nonzero\" fill-opacity=\"1\" /><path clip-path=\"url(#clip210)\" d=\"M2189.73 210.133 L2197.37 210.133 L2197.37 183.768 L2189.06 185.435 L2189.06 181.175 L2197.32 179.509 L2202 179.509 L2202 210.133 L2209.64 210.133 L2209.64 214.069 L2189.73 214.069 L2189.73 210.133 Z\" fill=\"#000000\" fill-rule=\"nonzero\" fill-opacity=\"1\" /><path clip-path=\"url(#clip210)\" d=\"M2229.08 182.587 Q2225.47 182.587 2223.64 186.152 Q2221.84 189.694 2221.84 196.823 Q2221.84 203.93 2223.64 207.495 Q2225.47 211.036 2229.08 211.036 Q2232.72 211.036 2234.52 207.495 Q2236.35 203.93 2236.35 196.823 Q2236.35 189.694 2234.52 186.152 Q2232.72 182.587 2229.08 182.587 M2229.08 178.884 Q2234.89 178.884 2237.95 183.49 Q2241.03 188.073 2241.03 196.823 Q2241.03 205.55 2237.95 210.157 Q2234.89 214.74 2229.08 214.74 Q2223.27 214.74 2220.19 210.157 Q2217.14 205.55 2217.14 196.823 Q2217.14 188.073 2220.19 183.49 Q2223.27 178.884 2229.08 178.884 Z\" fill=\"#000000\" fill-rule=\"nonzero\" fill-opacity=\"1\" /><path clip-path=\"url(#clip210)\" d=\"M2247.97 178.097 L2251.67 178.097 Q2255.15 183.56 2256.86 188.791 Q2258.59 194.022 2258.59 199.184 Q2258.59 204.37 2256.86 209.624 Q2255.15 214.879 2251.67 220.319 L2247.97 220.319 Q2251.05 215.018 2252.55 209.786 Q2254.08 204.532 2254.08 199.184 Q2254.08 193.837 2252.55 188.629 Q2251.05 183.421 2247.97 178.097 Z\" fill=\"#000000\" fill-rule=\"nonzero\" fill-opacity=\"1\" /><path clip-path=\"url(#clip210)\" d=\"M1755.94 269.365 L1897.19 269.365 L1897.19 227.893 L1755.94 227.893 L1755.94 269.365  Z\" fill=\"#3da44d\" fill-rule=\"evenodd\" fill-opacity=\"0.5\"/>\n",
       "<polyline clip-path=\"url(#clip210)\" style=\"stroke:#000000; stroke-linecap:round; stroke-linejoin:round; stroke-width:4; stroke-opacity:1; fill:none\" points=\"1755.94,269.365 1897.19,269.365 1897.19,227.893 1755.94,227.893 1755.94,269.365 \"/>\n",
       "<path clip-path=\"url(#clip210)\" d=\"M1925.4 235.191 L1925.4 248.177 L1931.28 248.177 Q1934.55 248.177 1936.33 246.487 Q1938.11 244.798 1938.11 241.673 Q1938.11 238.571 1936.33 236.881 Q1934.55 235.191 1931.28 235.191 L1925.4 235.191 M1920.73 231.349 L1931.28 231.349 Q1937.09 231.349 1940.05 233.987 Q1943.04 236.603 1943.04 241.673 Q1943.04 246.788 1940.05 249.404 Q1937.09 252.02 1931.28 252.02 L1925.4 252.02 L1925.4 265.909 L1920.73 265.909 L1920.73 231.349 Z\" fill=\"#000000\" fill-rule=\"nonzero\" fill-opacity=\"1\" /><path clip-path=\"url(#clip210)\" d=\"M1957.49 242.969 Q1954.06 242.969 1952.07 245.654 Q1950.08 248.316 1950.08 252.969 Q1950.08 257.622 1952.05 260.307 Q1954.04 262.969 1957.49 262.969 Q1960.89 262.969 1962.88 260.284 Q1964.87 257.598 1964.87 252.969 Q1964.87 248.362 1962.88 245.677 Q1960.89 242.969 1957.49 242.969 M1957.49 239.358 Q1963.04 239.358 1966.21 242.969 Q1969.38 246.58 1969.38 252.969 Q1969.38 259.335 1966.21 262.969 Q1963.04 266.58 1957.49 266.58 Q1951.91 266.58 1948.74 262.969 Q1945.59 259.335 1945.59 252.969 Q1945.59 246.58 1948.74 242.969 Q1951.91 239.358 1957.49 239.358 Z\" fill=\"#000000\" fill-rule=\"nonzero\" fill-opacity=\"1\" /><path clip-path=\"url(#clip210)\" d=\"M1976.44 239.983 L1980.7 239.983 L1980.7 265.909 L1976.44 265.909 L1976.44 239.983 M1976.44 229.89 L1980.7 229.89 L1980.7 235.284 L1976.44 235.284 L1976.44 229.89 Z\" fill=\"#000000\" fill-rule=\"nonzero\" fill-opacity=\"1\" /><path clip-path=\"url(#clip210)\" d=\"M2006.14 240.747 L2006.14 244.774 Q2004.34 243.849 2002.39 243.386 Q2000.45 242.923 1998.36 242.923 Q1995.19 242.923 1993.6 243.895 Q1992.02 244.867 1992.02 246.811 Q1992.02 248.293 1993.16 249.149 Q1994.29 249.983 1997.72 250.747 L1999.17 251.071 Q2003.71 252.043 2005.61 253.825 Q2007.53 255.585 2007.53 258.756 Q2007.53 262.367 2004.66 264.473 Q2001.81 266.58 1996.81 266.58 Q1994.73 266.58 1992.46 266.163 Q1990.22 265.77 1987.72 264.96 L1987.72 260.561 Q1990.08 261.788 1992.37 262.413 Q1994.66 263.015 1996.91 263.015 Q1999.92 263.015 2001.54 261.997 Q2003.16 260.955 2003.16 259.08 Q2003.16 257.344 2001.98 256.418 Q2000.82 255.492 1996.86 254.636 L1995.38 254.288 Q1991.42 253.455 1989.66 251.742 Q1987.9 250.006 1987.9 246.997 Q1987.9 243.339 1990.49 241.349 Q1993.09 239.358 1997.86 239.358 Q2000.22 239.358 2002.3 239.705 Q2004.38 240.052 2006.14 240.747 Z\" fill=\"#000000\" fill-rule=\"nonzero\" fill-opacity=\"1\" /><path clip-path=\"url(#clip210)\" d=\"M2030.84 240.747 L2030.84 244.774 Q2029.04 243.849 2027.09 243.386 Q2025.15 242.923 2023.06 242.923 Q2019.89 242.923 2018.29 243.895 Q2016.72 244.867 2016.72 246.811 Q2016.72 248.293 2017.86 249.149 Q2018.99 249.983 2022.42 250.747 L2023.87 251.071 Q2028.41 252.043 2030.31 253.825 Q2032.23 255.585 2032.23 258.756 Q2032.23 262.367 2029.36 264.473 Q2026.51 266.58 2021.51 266.58 Q2019.43 266.58 2017.16 266.163 Q2014.92 265.77 2012.42 264.96 L2012.42 260.561 Q2014.78 261.788 2017.07 262.413 Q2019.36 263.015 2021.61 263.015 Q2024.61 263.015 2026.23 261.997 Q2027.86 260.955 2027.86 259.08 Q2027.86 257.344 2026.67 256.418 Q2025.52 255.492 2021.56 254.636 L2020.08 254.288 Q2016.12 253.455 2014.36 251.742 Q2012.6 250.006 2012.6 246.997 Q2012.6 243.339 2015.19 241.349 Q2017.79 239.358 2022.55 239.358 Q2024.92 239.358 2027 239.705 Q2029.08 240.052 2030.84 240.747 Z\" fill=\"#000000\" fill-rule=\"nonzero\" fill-opacity=\"1\" /><path clip-path=\"url(#clip210)\" d=\"M2049.06 242.969 Q2045.63 242.969 2043.64 245.654 Q2041.65 248.316 2041.65 252.969 Q2041.65 257.622 2043.62 260.307 Q2045.61 262.969 2049.06 262.969 Q2052.46 262.969 2054.45 260.284 Q2056.44 257.598 2056.44 252.969 Q2056.44 248.362 2054.45 245.677 Q2052.46 242.969 2049.06 242.969 M2049.06 239.358 Q2054.61 239.358 2057.79 242.969 Q2060.96 246.58 2060.96 252.969 Q2060.96 259.335 2057.79 262.969 Q2054.61 266.58 2049.06 266.58 Q2043.48 266.58 2040.31 262.969 Q2037.16 259.335 2037.16 252.969 Q2037.16 246.58 2040.31 242.969 Q2043.48 239.358 2049.06 239.358 Z\" fill=\"#000000\" fill-rule=\"nonzero\" fill-opacity=\"1\" /><path clip-path=\"url(#clip210)\" d=\"M2089.57 250.261 L2089.57 265.909 L2085.31 265.909 L2085.31 250.399 Q2085.31 246.719 2083.87 244.89 Q2082.44 243.062 2079.57 243.062 Q2076.12 243.062 2074.13 245.261 Q2072.14 247.46 2072.14 251.256 L2072.14 265.909 L2067.85 265.909 L2067.85 239.983 L2072.14 239.983 L2072.14 244.011 Q2073.66 241.673 2075.73 240.515 Q2077.81 239.358 2080.52 239.358 Q2084.98 239.358 2087.28 242.136 Q2089.57 244.89 2089.57 250.261 Z\" fill=\"#000000\" fill-rule=\"nonzero\" fill-opacity=\"1\" /><path clip-path=\"url(#clip210)\" d=\"M2108.29 229.937 Q2105.19 235.261 2103.69 240.469 Q2102.18 245.677 2102.18 251.024 Q2102.18 256.372 2103.69 261.626 Q2105.22 266.858 2108.29 272.159 L2104.59 272.159 Q2101.12 266.719 2099.38 261.464 Q2097.67 256.21 2097.67 251.024 Q2097.67 245.862 2099.38 240.631 Q2101.1 235.4 2104.59 229.937 L2108.29 229.937 Z\" fill=\"#000000\" fill-rule=\"nonzero\" fill-opacity=\"1\" /><path clip-path=\"url(#clip210)\" d=\"M2130.01 235.423 L2118.2 253.872 L2130.01 253.872 L2130.01 235.423 M2128.78 231.349 L2134.66 231.349 L2134.66 253.872 L2139.59 253.872 L2139.59 257.761 L2134.66 257.761 L2134.66 265.909 L2130.01 265.909 L2130.01 257.761 L2114.41 257.761 L2114.41 253.247 L2128.78 231.349 Z\" fill=\"#000000\" fill-rule=\"nonzero\" fill-opacity=\"1\" /><path clip-path=\"url(#clip210)\" d=\"M2146.05 229.937 L2149.75 229.937 Q2153.22 235.4 2154.94 240.631 Q2156.67 245.862 2156.67 251.024 Q2156.67 256.21 2154.94 261.464 Q2153.22 266.719 2149.75 272.159 L2146.05 272.159 Q2149.13 266.858 2150.63 261.626 Q2152.16 256.372 2152.16 251.024 Q2152.16 245.677 2150.63 240.469 Q2149.13 235.261 2146.05 229.937 Z\" fill=\"#000000\" fill-rule=\"nonzero\" fill-opacity=\"1\" /></svg>\n"
      ]
     },
     "metadata": {},
     "output_type": "display_data"
    }
   ],
   "source": [
    "# Plot histograms for comparison\n",
    "histogram(normal_samples, bins=30, alpha=0.5, label=\"Normal(5, 2)\", xlabel=\"Value\", ylabel=\"Frequency\")\n",
    "histogram!(uniform_samples, bins=30, alpha=0.5, label=\"Uniform(0, 10)\")\n",
    "histogram!(poisson_samples, bins=30, alpha=0.5, label=\"Poisson(4)\")"
   ]
  }
 ],
 "metadata": {
  "kernelspec": {
   "display_name": "Julia 1.10.0-alpha1",
   "language": "julia",
   "name": "julia-1.10"
  },
  "language_info": {
   "file_extension": ".jl",
   "mimetype": "application/julia",
   "name": "julia",
   "version": "1.10.0-alpha1"
  }
 },
 "nbformat": 4,
 "nbformat_minor": 2
}
