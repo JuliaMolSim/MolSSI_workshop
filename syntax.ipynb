{
 "cells": [
  {
   "cell_type": "markdown",
   "metadata": {},
   "source": [
    "### Julia Syntax\n",
    "If you're familiar with Python and MATLAB, Julia syntax is a combination with some extra features and syntax sugar."
   ]
  },
  {
   "cell_type": "markdown",
   "metadata": {},
   "source": [
    "### Variables and Types\n",
    "Julia is strongly typed, but providing type information is optional. The compiler will try to infer type information, and will throw an error when it fails."
   ]
  },
  {
   "cell_type": "code",
   "execution_count": 2,
   "metadata": {},
   "outputs": [],
   "source": [
    "x = 3;\n",
    "y::Int64 = 4;"
   ]
  },
  {
   "cell_type": "code",
   "execution_count": 3,
   "metadata": {},
   "outputs": [
    {
     "data": {
      "text/plain": [
       "3"
      ]
     },
     "metadata": {},
     "output_type": "display_data"
    }
   ],
   "source": [
    "# If the compiler can convert the type it will do so automatically\n",
    "a::Float64 = 3"
   ]
  },
  {
   "cell_type": "code",
   "execution_count": 4,
   "metadata": {},
   "outputs": [
    {
     "ename": "InexactError",
     "evalue": "InexactError: Int64(3.4)",
     "output_type": "error",
     "traceback": [
      "InexactError: Int64(3.4)\n",
      "\n",
      "Stacktrace:\n",
      " [1] Int64\n",
      "   @ .\\float.jl:900 [inlined]\n",
      " [2] convert(#unused#::Type{Int64}, x::Float64)\n",
      "   @ Base .\\number.jl:7\n",
      " [3] top-level scope\n",
      "   @ d:\\Code\\repos\\MolSSI_workshop\\jl_notebook_cell_df34fa98e69747e1a8f8a730347b8e2f_X34sZmlsZQ==.jl:2"
     ]
    }
   ],
   "source": [
    "# This will throw an error because 3.4 cannot be converted to Int64\n",
    "z::Int64 = 3.4"
   ]
  },
  {
   "cell_type": "markdown",
   "metadata": {},
   "source": [
    "Julia lets you use any unicode character to define variables. Just type `\\alpha` and hit `tab`. For underscores type `c\\_p` and hit tab. Note that not all subscripts and superscripts are supported."
   ]
  },
  {
   "cell_type": "code",
   "execution_count": 25,
   "metadata": {},
   "outputs": [
    {
     "data": {
      "text/plain": [
       "0.011111111111111112"
      ]
     },
     "metadata": {},
     "output_type": "display_data"
    }
   ],
   "source": [
    "κ = 2\n",
    "L = 3\n",
    "cₚ = 4\n",
    "ρ = 5\n",
    "t = 1\n",
    "\n",
    "α = κ / (cₚ * ρ)\n",
    "Fo = α * t / (L^2)"
   ]
  },
  {
   "cell_type": "markdown",
   "metadata": {},
   "source": [
    "### Functions\n",
    "Julia functions are defined with the `function` keyword and wrapped with `end`. Function specializations are created at compile time depending on the data passed to the function"
   ]
  },
  {
   "cell_type": "code",
   "execution_count": 5,
   "metadata": {},
   "outputs": [
    {
     "data": {
      "text/plain": [
       "mult (generic function with 1 method)"
      ]
     },
     "metadata": {},
     "output_type": "display_data"
    }
   ],
   "source": [
    "function mult(x, y)\n",
    "    return x * y\n",
    "end"
   ]
  },
  {
   "cell_type": "code",
   "execution_count": 6,
   "metadata": {},
   "outputs": [
    {
     "name": "stdout",
     "output_type": "stream",
     "text": [
      "Integer multiplication: 2 with type Int64\n",
      "Float multiplication: 2.0 with type Float64\n"
     ]
    }
   ],
   "source": [
    "z_int = mult(1,2)\n",
    "z_float = mult(1.0, 2.0)\n",
    "println(\"Integer multiplication: $(z_int) with type $(typeof(z_int))\")\n",
    "println(\"Float multiplication: $(z_float) with type $(typeof(z_float))\")\n"
   ]
  },
  {
   "cell_type": "markdown",
   "metadata": {},
   "source": [
    "Type information can be set by the user as well. In practice, multiple `add` functions can be defined with different type information associated to their parameters. This is called multiple dispatch and will be covered in depth in the next section."
   ]
  },
  {
   "cell_type": "code",
   "execution_count": 7,
   "metadata": {},
   "outputs": [
    {
     "data": {
      "text/plain": [
       "add (generic function with 2 methods)"
      ]
     },
     "metadata": {},
     "output_type": "display_data"
    }
   ],
   "source": [
    "function add(x::Int, y::Int)\n",
    "    println(\"Adding integers\")\n",
    "    return x + y\n",
    "end\n",
    "\n",
    "function add(x::Float64, y::Float64)\n",
    "    println(\"Adding floats\")\n",
    "    return x + y\n",
    "end"
   ]
  },
  {
   "cell_type": "code",
   "execution_count": 8,
   "metadata": {},
   "outputs": [
    {
     "name": "stdout",
     "output_type": "stream",
     "text": [
      "Adding integers\n",
      "Adding floats\n"
     ]
    }
   ],
   "source": [
    "z_int = add(1, 2);\n",
    "z_float = add(1.0, 2.0);"
   ]
  },
  {
   "cell_type": "markdown",
   "metadata": {},
   "source": [
    "Julia also supports multiple return values. You can enforce the type of the return variables but it is recomended to allow the compiler to determine their types."
   ]
  },
  {
   "cell_type": "code",
   "execution_count": 9,
   "metadata": {},
   "outputs": [
    {
     "data": {
      "text/plain": [
       "multiple_return (generic function with 1 method)"
      ]
     },
     "metadata": {},
     "output_type": "display_data"
    }
   ],
   "source": [
    "function multiple_return(x, y)\n",
    "    x_plus_y = x + y\n",
    "    x_times_y = x * y\n",
    "    return x_plus_y, x_times_y\n",
    "end"
   ]
  },
  {
   "cell_type": "code",
   "execution_count": 10,
   "metadata": {},
   "outputs": [
    {
     "name": "stdout",
     "output_type": "stream",
     "text": [
      "Sum: 7, Product: 12\n"
     ]
    }
   ],
   "source": [
    "z1, z2 = multiple_return(3, 4)\n",
    "println(\"Sum: $(z1), Product: $(z2)\")"
   ]
  },
  {
   "cell_type": "code",
   "execution_count": 11,
   "metadata": {},
   "outputs": [
    {
     "data": {
      "text/plain": [
       "4"
      ]
     },
     "metadata": {},
     "output_type": "display_data"
    }
   ],
   "source": [
    "# Small functions can be defined in one line\n",
    "square(x) = x * x\n",
    "square(2)"
   ]
  },
  {
   "cell_type": "markdown",
   "metadata": {},
   "source": [
    "In Julia, if data passed into a function is not copied to save memory. Therefore, modifications within the function will modify the data outside of the function as well. If your function modifies parameters it is customary to end the function with `!`."
   ]
  },
  {
   "cell_type": "code",
   "execution_count": 44,
   "metadata": {},
   "outputs": [
    {
     "name": "stdout",
     "output_type": "stream",
     "text": [
      "Before: [1, 2, 3]\n",
      "After: [336, 2, 3]\n"
     ]
    }
   ],
   "source": [
    "function modifies_x!(x)\n",
    "    x[1] = 336\n",
    "    y = [1,2,3]\n",
    "    return x + y\n",
    "end\n",
    "\n",
    "x = [1,2,3]\n",
    "\n",
    "println(\"Before: $(x)\")\n",
    "modifies_x!(x)\n",
    "println(\"After: $(x)\")"
   ]
  },
  {
   "cell_type": "markdown",
   "metadata": {},
   "source": [
    "### Loops & Conditionals\n",
    "The syntax here is very similar to Python without the `:`, you just need an `end` to denote the end of the block."
   ]
  },
  {
   "cell_type": "code",
   "execution_count": 12,
   "metadata": {},
   "outputs": [
    {
     "name": "stdout",
     "output_type": "stream",
     "text": [
      "1 2 3 \n",
      "1 2 3 \n",
      "1 2 3 "
     ]
    }
   ],
   "source": [
    "# For loops\n",
    "for i in range(1, 3)\n",
    "    print(\"$i \")\n",
    "end\n",
    "println()\n",
    "\n",
    "for element in [1, 2, 3]\n",
    "    print(\"$(element) \")\n",
    "end\n",
    "println()\n",
    "\n",
    "# While loops\n",
    "counter = 1\n",
    "while counter <= 3\n",
    "    print(\"$(counter) \")\n",
    "    counter += 1\n",
    "end"
   ]
  },
  {
   "cell_type": "markdown",
   "metadata": {},
   "source": [
    "Similarly, the if-else syntax is similar to Python. Just remove the `:` and add an `end`"
   ]
  },
  {
   "cell_type": "code",
   "execution_count": 13,
   "metadata": {},
   "outputs": [
    {
     "name": "stdout",
     "output_type": "stream",
     "text": [
      "x is less than y.\n",
      "x is equal to y.\n"
     ]
    }
   ],
   "source": [
    "function test(x,y)\n",
    "    if x < y\n",
    "        relation = \"less than\"\n",
    "    elseif x == y\n",
    "        relation = \"equal to\"\n",
    "    else\n",
    "        relation = \"greater than\"\n",
    "    end\n",
    "    println(\"x is \", relation, \" y.\")\n",
    "end\n",
    "\n",
    "test(1, 2)\n",
    "test(1,1)"
   ]
  },
  {
   "cell_type": "markdown",
   "metadata": {},
   "source": [
    "### Custom Types : Structs\n",
    "Structs are like classes in Python and MATLAB. By default structs are immutable. Providing type information in a struct common."
   ]
  },
  {
   "cell_type": "code",
   "execution_count": 14,
   "metadata": {},
   "outputs": [],
   "source": [
    "struct MyType\n",
    "    a::Int\n",
    "    b::Float64\n",
    "end"
   ]
  },
  {
   "cell_type": "code",
   "execution_count": 15,
   "metadata": {},
   "outputs": [
    {
     "data": {
      "text/plain": [
       "MyType(3, 1.0)"
      ]
     },
     "metadata": {},
     "output_type": "display_data"
    }
   ],
   "source": [
    "MyType(3, 1.0)"
   ]
  },
  {
   "cell_type": "code",
   "execution_count": 16,
   "metadata": {},
   "outputs": [
    {
     "ename": "InexactError",
     "evalue": "InexactError: Int64(3.4)",
     "output_type": "error",
     "traceback": [
      "InexactError: Int64(3.4)\n",
      "\n",
      "Stacktrace:\n",
      " [1] Int64\n",
      "   @ .\\float.jl:900 [inlined]\n",
      " [2] convert\n",
      "   @ .\\number.jl:7 [inlined]\n",
      " [3] MyType(a::Float64, b::Float64)\n",
      "   @ Main d:\\Code\\repos\\MolSSI_workshop\\jl_notebook_cell_df34fa98e69747e1a8f8a730347b8e2f_X30sZmlsZQ==.jl:2\n",
      " [4] top-level scope\n",
      "   @ d:\\Code\\repos\\MolSSI_workshop\\jl_notebook_cell_df34fa98e69747e1a8f8a730347b8e2f_X41sZmlsZQ==.jl:1"
     ]
    }
   ],
   "source": [
    "MyType(3.4, 1.0)"
   ]
  },
  {
   "cell_type": "markdown",
   "metadata": {},
   "source": [
    "In Python you need to definie `__init__` which tells Python how to construct your object. Julia will always create a default constructor if one is not provided. To create an extra constructor, define a function with the same name as your `struct`."
   ]
  },
  {
   "cell_type": "code",
   "execution_count": 17,
   "metadata": {},
   "outputs": [
    {
     "data": {
      "text/plain": [
       "MyType"
      ]
     },
     "metadata": {},
     "output_type": "display_data"
    }
   ],
   "source": [
    "# Constructor that handles the case when only one parameter is known\n",
    "function MyType(a)\n",
    "    return MyType(a,a)\n",
    "end"
   ]
  },
  {
   "cell_type": "code",
   "execution_count": 18,
   "metadata": {},
   "outputs": [
    {
     "data": {
      "text/plain": [
       "MyType(3, 3.0)"
      ]
     },
     "metadata": {},
     "output_type": "display_data"
    }
   ],
   "source": [
    "MyType(3)"
   ]
  },
  {
   "cell_type": "markdown",
   "metadata": {},
   "source": [
    "To make your structs more flexible you can use parametric types."
   ]
  },
  {
   "cell_type": "code",
   "execution_count": 20,
   "metadata": {},
   "outputs": [],
   "source": [
    "struct ParametricType{T}\n",
    "    x1::T\n",
    "    x2::T\n",
    "end"
   ]
  },
  {
   "cell_type": "code",
   "execution_count": 21,
   "metadata": {},
   "outputs": [
    {
     "name": "stdout",
     "output_type": "stream",
     "text": [
      "ParametricType{Int64}\n",
      "ParametricType{Float64}\n"
     ]
    }
   ],
   "source": [
    "p_int = ParametricType(1, 2)\n",
    "println(typeof(p_int))\n",
    "p_float = ParametricType(1.0, 2.0)\n",
    "println(typeof(p_float))"
   ]
  },
  {
   "cell_type": "markdown",
   "metadata": {},
   "source": [
    "### Broadcasting\n",
    "Like in MATLAB you can broadcast operations like, `+`, with the `.` syntax. In Julia you can also broadcast functions with the `.` syntax."
   ]
  },
  {
   "cell_type": "code",
   "execution_count": 30,
   "metadata": {},
   "outputs": [
    {
     "data": {
      "text/plain": [
       "4-element Vector{Float64}:\n",
       " 3.0\n",
       " 3.0\n",
       " 3.0\n",
       " 3.0"
      ]
     },
     "metadata": {},
     "output_type": "display_data"
    }
   ],
   "source": [
    "x_vals = ones(4)\n",
    "x_vals = x_vals .+ 2"
   ]
  },
  {
   "cell_type": "code",
   "execution_count": 31,
   "metadata": {},
   "outputs": [
    {
     "data": {
      "text/plain": [
       "4-element Vector{Float64}:\n",
       " 6.0\n",
       " 7.0\n",
       " 8.0\n",
       " 9.0"
      ]
     },
     "metadata": {},
     "output_type": "display_data"
    }
   ],
   "source": [
    "x_vals .+= [3,4,5,6]"
   ]
  },
  {
   "cell_type": "code",
   "execution_count": 33,
   "metadata": {},
   "outputs": [
    {
     "data": {
      "text/plain": [
       "4-element Vector{Float64}:\n",
       " 3.0\n",
       " 3.0\n",
       " 3.0\n",
       " 3.0"
      ]
     },
     "metadata": {},
     "output_type": "display_data"
    }
   ],
   "source": [
    "y_vals = ones(4)\n",
    "y_vals .+= 2"
   ]
  },
  {
   "cell_type": "code",
   "execution_count": 35,
   "metadata": {},
   "outputs": [
    {
     "data": {
      "text/plain": [
       "4-element Vector{Int64}:\n",
       " 2\n",
       " 3\n",
       " 4\n",
       " 5"
      ]
     },
     "metadata": {},
     "output_type": "display_data"
    }
   ],
   "source": [
    "function add_one(x)\n",
    "    return x + 1\n",
    "end\n",
    "\n",
    "z_vals = [1,2,3,4]\n",
    "# The function add_one is broadcast over the array, z_vals.\n",
    "add_one.(z_vals)"
   ]
  },
  {
   "cell_type": "markdown",
   "metadata": {},
   "source": [
    "### File I/O"
   ]
  },
  {
   "cell_type": "code",
   "execution_count": 36,
   "metadata": {},
   "outputs": [
    {
     "data": {
      "text/plain": [
       "13"
      ]
     },
     "metadata": {},
     "output_type": "display_data"
    }
   ],
   "source": [
    "# Writing files\n",
    "outpath = joinpath(@__DIR__, \"data\", \"write_test.txt\")\n",
    "open(outpath, \"w\") do file\n",
    "    write(file, \"Hello, World!\")\n",
    "end"
   ]
  },
  {
   "cell_type": "markdown",
   "metadata": {},
   "source": [
    "There is a package made by Julia called `DelimitedFiles` which operates similar to `np.loadtxt`. Here we use the default functionality of Julia to parse a file. This example brings together a lot of what we have learned so far."
   ]
  },
  {
   "cell_type": "code",
   "execution_count": 40,
   "metadata": {},
   "outputs": [
    {
     "name": "stdout",
     "output_type": "stream",
     "text": [
      "Ignoring Comment: # Comment Line\n"
     ]
    },
    {
     "data": {
      "text/plain": [
       "3-element Vector{Any}:\n",
       " Float32[1.0, 1.0, 2.0, 3.0]\n",
       " Float32[2.0, 3.2, 3.2, 1.2]\n",
       " Float32[3.0, 12.2, 30.1, 19.2]"
      ]
     },
     "metadata": {},
     "output_type": "display_data"
    }
   ],
   "source": [
    "# Reading files\n",
    "function parse_file(inpath::String)\n",
    "    data = []\n",
    "    open(inpath, \"r\") do file\n",
    "        # eachline returns an iterator over lines in the file\n",
    "        # this avoids loading the entire file into memory. \n",
    "        for line in eachline(file)\n",
    "            # stip() removes whitespace\n",
    "            line = strip(line)\n",
    "\n",
    "            # Checks if the line starts\n",
    "            if startswith(line, \"#\")\n",
    "                println(\"Ignoring Comment: \", line)\n",
    "                continue\n",
    "            else\n",
    "                # split() converts the line into an array, splitting on whitespace\n",
    "                vals = split(line)\n",
    "                # parse() is broadcast over the elements of vals to convert them to Float32\n",
    "                # push!() adds the parsed values to the vector, data.\n",
    "                push!(data, parse.(Float32, vals))\n",
    "            end\n",
    "\n",
    "        end\n",
    "    end\n",
    "    return data\n",
    "end\n",
    "\n",
    "inpath = joinpath(@__DIR__, \"data\", \"read_test.txt\")\n",
    "parse_file(inpath)"
   ]
  },
  {
   "cell_type": "code",
   "execution_count": null,
   "metadata": {},
   "outputs": [],
   "source": []
  }
 ],
 "metadata": {
  "kernelspec": {
   "display_name": "Julia 1.9.0",
   "language": "julia",
   "name": "julia-1.9"
  },
  "language_info": {
   "file_extension": ".jl",
   "mimetype": "application/julia",
   "name": "julia",
   "version": "1.9.0"
  }
 },
 "nbformat": 4,
 "nbformat_minor": 2
}
