{
 "cells": [
  {
   "cell_type": "markdown",
   "metadata": {},
   "source": [
    "### Julia Syntax\n",
    "If you're familiar with Python and MATLAB, Julia syntax is a combination with some extra features and syntax sugar."
   ]
  },
  {
   "cell_type": "markdown",
   "metadata": {},
   "source": [
    "### Variables and Types\n",
    "Julia is strongly typed, but providing type information is optional. The compiler will try to infer type information, and will throw an error when it fails."
   ]
  },
  {
   "cell_type": "code",
   "execution_count": null,
   "metadata": {},
   "outputs": [],
   "source": [
    "x = 3;\n",
    "y::Int64 = 4;"
   ]
  },
  {
   "cell_type": "code",
   "execution_count": null,
   "metadata": {},
   "outputs": [],
   "source": [
    "# If the compiler can convert the type it will do so automatically\n",
    "a::Float64 = 3"
   ]
  },
  {
   "cell_type": "code",
   "execution_count": null,
   "metadata": {},
   "outputs": [],
   "source": [
    "# This will throw an error because 3.4 cannot be converted to Int64\n",
    "z::Int64 = 3.4"
   ]
  },
  {
   "cell_type": "markdown",
   "metadata": {},
   "source": [
    "Julia lets you use any unicode character to define variables. Just type `\\alpha` and hit `tab`. For underscores type `c\\_p` and hit tab. Note that not all subscripts and superscripts are supported."
   ]
  },
  {
   "cell_type": "code",
   "execution_count": null,
   "metadata": {},
   "outputs": [],
   "source": [
    "κ = 2\n",
    "L = 3\n",
    "cₚ = 4\n",
    "ρ = 5\n",
    "t = 1\n",
    "\n",
    "α = κ / (cₚ * ρ)\n",
    "Fo = α * t / (L^2)"
   ]
  },
  {
   "cell_type": "markdown",
   "metadata": {},
   "source": [
    "### Functions\n",
    "Julia functions are defined with the `function` keyword and wrapped with `end`. Function specializations are created at compile time depending on the data passed to the function."
   ]
  },
  {
   "cell_type": "code",
   "execution_count": null,
   "metadata": {},
   "outputs": [],
   "source": [
    "function mult(x, y)\n",
    "    return x * y\n",
    "end"
   ]
  },
  {
   "cell_type": "code",
   "execution_count": null,
   "metadata": {},
   "outputs": [],
   "source": [
    "z_int = mult(1,2)\n",
    "z_float = mult(1.0, 2.0)\n",
    "println(\"Integer multiplication: $(z_int) with type $(typeof(z_int))\")\n",
    "println(\"Float multiplication: $(z_float) with type $(typeof(z_float))\")"
   ]
  },
  {
   "cell_type": "code",
   "execution_count": null,
   "metadata": {},
   "outputs": [],
   "source": [
    "methods(mult)"
   ]
  },
  {
   "cell_type": "markdown",
   "metadata": {},
   "source": [
    "Type information can be set by the user as well. In practice, multiple `add` functions can be defined with different type information associated to their parameters. This is called multiple dispatch and will be covered in depth in the next section."
   ]
  },
  {
   "cell_type": "code",
   "execution_count": null,
   "metadata": {},
   "outputs": [],
   "source": [
    "function add(x::Int, y::Int)\n",
    "    println(\"Adding integers\")\n",
    "    return x + y\n",
    "end\n",
    "\n",
    "function add(x::Float64, y::Float64)\n",
    "    println(\"Adding floats\")\n",
    "    return x + y\n",
    "end"
   ]
  },
  {
   "cell_type": "code",
   "execution_count": null,
   "metadata": {},
   "outputs": [],
   "source": [
    "methods(add)"
   ]
  },
  {
   "cell_type": "code",
   "execution_count": null,
   "metadata": {},
   "outputs": [],
   "source": [
    "z_int = add(1, 2);\n",
    "z_float = add(1.0, 2.0);"
   ]
  },
  {
   "cell_type": "markdown",
   "metadata": {},
   "source": [
    "Julia also supports multiple return values. You can enforce the type of the return variables but it is recomended to allow the compiler to determine their types."
   ]
  },
  {
   "cell_type": "code",
   "execution_count": null,
   "metadata": {},
   "outputs": [],
   "source": [
    "function multiple_return(x, y)\n",
    "    x_plus_y = x + y\n",
    "    x_times_y = x * y\n",
    "    return x_plus_y, x_times_y\n",
    "end"
   ]
  },
  {
   "cell_type": "code",
   "execution_count": null,
   "metadata": {},
   "outputs": [],
   "source": [
    "z1, z2 = multiple_return(3, 4)\n",
    "println(\"Sum: $(z1), Product: $(z2)\")"
   ]
  },
  {
   "cell_type": "code",
   "execution_count": null,
   "metadata": {},
   "outputs": [],
   "source": [
    "# Small functions can be defined in one line\n",
    "square(x) = x * x\n",
    "square(2)"
   ]
  },
  {
   "cell_type": "markdown",
   "metadata": {},
   "source": [
    "In Julia, if data passed into a function is not copied to save memory. Therefore, modifications within the function will modify the data outside of the function as well. If your function modifies parameters, it is customary to end the function with `!`."
   ]
  },
  {
   "cell_type": "code",
   "execution_count": null,
   "metadata": {},
   "outputs": [],
   "source": [
    "function modifies_x!(x)\n",
    "    x[1] = 336\n",
    "    y = [1,2,3]\n",
    "    return x + y\n",
    "end\n",
    "\n",
    "x = [1,2,3]\n",
    "\n",
    "println(\"Before: $(x)\")\n",
    "modifies_x!(x)\n",
    "println(\"After: $(x)\")"
   ]
  },
  {
   "cell_type": "markdown",
   "metadata": {},
   "source": [
    "### Loops & Conditionals\n",
    "The syntax here is very similar to Python without the `:`, you just need an `end` to denote the end of the block."
   ]
  },
  {
   "cell_type": "code",
   "execution_count": null,
   "metadata": {},
   "outputs": [],
   "source": [
    "# For loops\n",
    "for i in range(1, 3)\n",
    "    print(\"$i \")\n",
    "end\n",
    "println()\n",
    "\n",
    "for element in [1, 2, 3]\n",
    "    print(\"$(element) \")\n",
    "end\n",
    "println()\n",
    "\n",
    "# While loops\n",
    "counter = 1\n",
    "while counter <= 3\n",
    "    print(\"$(counter) \")\n",
    "    counter += 1\n",
    "end"
   ]
  },
  {
   "cell_type": "markdown",
   "metadata": {},
   "source": [
    "Similarly, the if-else syntax is similar to Python. Just remove the `:` and add an `end`"
   ]
  },
  {
   "cell_type": "code",
   "execution_count": null,
   "metadata": {},
   "outputs": [],
   "source": [
    "function test(x,y)\n",
    "    if x < y\n",
    "        relation = \"less than\"\n",
    "    elseif x == y\n",
    "        relation = \"equal to\"\n",
    "    else\n",
    "        relation = \"greater than\"\n",
    "    end\n",
    "    println(\"x is \", relation, \" y.\")\n",
    "end\n",
    "\n",
    "test(1, 2)\n",
    "test(1,1)"
   ]
  },
  {
   "cell_type": "markdown",
   "metadata": {},
   "source": [
    "### Custom Types : Structs\n",
    "Structs are like classes in Python and MATLAB. By default structs are immutable. Providing type information in a struct common."
   ]
  },
  {
   "cell_type": "code",
   "execution_count": null,
   "metadata": {},
   "outputs": [],
   "source": [
    "struct MyType\n",
    "    a::Int\n",
    "    b::Float64\n",
    "end"
   ]
  },
  {
   "cell_type": "code",
   "execution_count": null,
   "metadata": {},
   "outputs": [],
   "source": [
    "MyType(3, 1.0)"
   ]
  },
  {
   "cell_type": "code",
   "execution_count": null,
   "metadata": {},
   "outputs": [],
   "source": [
    "MyType(3.4, 1.0)"
   ]
  },
  {
   "cell_type": "markdown",
   "metadata": {},
   "source": [
    "In Python, you need to define `__init__` which tells Python how to construct your object. Julia will always create a default constructor if one is not provided. To create an extra constructor, define a function with the same name as your `struct`."
   ]
  },
  {
   "cell_type": "code",
   "execution_count": null,
   "metadata": {},
   "outputs": [],
   "source": [
    "# Constructor that handles the case when only one parameter is known\n",
    "function MyType(a)\n",
    "    return MyType(a,a)\n",
    "end"
   ]
  },
  {
   "cell_type": "code",
   "execution_count": null,
   "metadata": {},
   "outputs": [],
   "source": [
    "MyType(3)"
   ]
  },
  {
   "cell_type": "markdown",
   "metadata": {},
   "source": [
    "To make your structs more flexible you can use parametric types."
   ]
  },
  {
   "cell_type": "code",
   "execution_count": null,
   "metadata": {},
   "outputs": [],
   "source": [
    "struct ParametricType{T}\n",
    "    x1::T\n",
    "    x2::T\n",
    "end"
   ]
  },
  {
   "cell_type": "code",
   "execution_count": null,
   "metadata": {},
   "outputs": [],
   "source": [
    "p_int = ParametricType(1, 2)\n",
    "println(typeof(p_int))\n",
    "p_float = ParametricType(1.0, 2.0)\n",
    "println(typeof(p_float))"
   ]
  },
  {
   "cell_type": "markdown",
   "metadata": {},
   "source": [
    "### Broadcasting\n",
    "Like in MATLAB you can broadcast operations like, `+`, with the `.` syntax. In Julia you can also broadcast functions with the `.` syntax."
   ]
  },
  {
   "cell_type": "code",
   "execution_count": null,
   "metadata": {},
   "outputs": [],
   "source": [
    "x_vals = ones(4)\n",
    "x_vals = x_vals .+ 2"
   ]
  },
  {
   "cell_type": "markdown",
   "metadata": {},
   "source": [
    "One difference from MATLAB is that Julia more often wants you to be \"explicit\" about what you mean by a broadcast. Whereas in MATLAB, the following would default to an element-wise add, here it errors."
   ]
  },
  {
   "cell_type": "code",
   "execution_count": null,
   "metadata": {},
   "outputs": [],
   "source": [
    "x_vals + 2"
   ]
  },
  {
   "cell_type": "markdown",
   "metadata": {},
   "source": [
    "However, multiplication does work:"
   ]
  },
  {
   "cell_type": "code",
   "execution_count": null,
   "metadata": {},
   "outputs": [],
   "source": [
    "x_vals * 2"
   ]
  },
  {
   "cell_type": "markdown",
   "metadata": {},
   "source": [
    "Here are some more examples of broadcasting..."
   ]
  },
  {
   "cell_type": "code",
   "execution_count": null,
   "metadata": {},
   "outputs": [],
   "source": [
    "x_vals .+= [3,4,5,6]"
   ]
  },
  {
   "cell_type": "code",
   "execution_count": null,
   "metadata": {},
   "outputs": [],
   "source": [
    "y_vals = ones(4)\n",
    "y_vals .+= 2"
   ]
  },
  {
   "cell_type": "code",
   "execution_count": null,
   "metadata": {},
   "outputs": [],
   "source": [
    "function add_one(x)\n",
    "    return x + 1\n",
    "end\n",
    "\n",
    "z_vals = [1,2,3,4]\n",
    "# The function add_one is broadcast over the array, z_vals.\n",
    "add_one.(z_vals)"
   ]
  },
  {
   "cell_type": "markdown",
   "metadata": {},
   "source": [
    "### File I/O"
   ]
  },
  {
   "cell_type": "code",
   "execution_count": null,
   "metadata": {},
   "outputs": [],
   "source": [
    "# Writing files\n",
    "outpath = joinpath(@__DIR__, \"data\", \"write_test.txt\")\n",
    "open(outpath, \"w\") do file\n",
    "    write(file, \"Hello, World!\")\n",
    "end"
   ]
  },
  {
   "cell_type": "markdown",
   "metadata": {},
   "source": [
    "There is a package made by Julia called `DelimitedFiles` which operates similar to `np.loadtxt`. Here we use the default functionality of Julia to parse a file. This example brings together a lot of what we have learned so far."
   ]
  },
  {
   "cell_type": "code",
   "execution_count": null,
   "metadata": {},
   "outputs": [],
   "source": [
    "# Reading files\n",
    "function parse_file(inpath::String)\n",
    "    data = []\n",
    "    open(inpath, \"r\") do file\n",
    "        # eachline returns an iterator over lines in the file\n",
    "        # this avoids loading the entire file into memory. \n",
    "        for line in eachline(file)\n",
    "            # stip() removes whitespace\n",
    "            line = strip(line)\n",
    "\n",
    "            # Checks if the line starts\n",
    "            if startswith(line, \"#\")\n",
    "                println(\"Ignoring Comment: \", line)\n",
    "                continue\n",
    "            else\n",
    "                # split() converts the line into an array, splitting on whitespace\n",
    "                vals = split(line)\n",
    "                # parse() is broadcast over the elements of vals to convert them to Float32\n",
    "                # push!() adds the parsed values to the vector, data.\n",
    "                push!(data, parse.(Float32, vals))\n",
    "            end\n",
    "\n",
    "        end\n",
    "    end\n",
    "    return data\n",
    "end\n",
    "\n",
    "inpath = joinpath(@__DIR__, \"data\", \"read_test.txt\")\n",
    "parse_file(inpath)"
   ]
  },
  {
   "cell_type": "markdown",
   "metadata": {},
   "source": [
    "### Macros\n",
    "Julia has a special feature called macros which act upon your code to generate new code. The details of how macros work are complicated, but as an end-user there are plenty of useful macros available to use."
   ]
  },
  {
   "cell_type": "markdown",
   "metadata": {},
   "source": [
    "- `@time` : Measures the run time, allocations, compile time, and garbage collection time of a piece of code"
   ]
  },
  {
   "cell_type": "code",
   "execution_count": null,
   "metadata": {},
   "outputs": [],
   "source": [
    "@time rand(3,3);"
   ]
  },
  {
   "cell_type": "markdown",
   "metadata": {},
   "source": [
    "- `@info`: Pretty prints data to the screen with a large INFO tag. In the REPL or a terminal this would be colored blue."
   ]
  },
  {
   "cell_type": "code",
   "execution_count": null,
   "metadata": {},
   "outputs": [],
   "source": [
    "@info \"May I have your attention please!\";"
   ]
  },
  {
   "cell_type": "markdown",
   "metadata": {},
   "source": [
    "`@.` : Tells julia to use the `.` broadcasting syntax on all operations in a piece of code."
   ]
  },
  {
   "cell_type": "code",
   "execution_count": null,
   "metadata": {},
   "outputs": [],
   "source": [
    "x = [1,2,3,4]\n",
    "y = @. x + [3,4,5,6] + [7,8,9,10]"
   ]
  },
  {
   "cell_type": "markdown",
   "metadata": {},
   "source": [
    "`@show` : Prints a quick debug statement with the variable name and value"
   ]
  },
  {
   "cell_type": "code",
   "execution_count": null,
   "metadata": {},
   "outputs": [],
   "source": [
    "value = 1234\n",
    "@show value;"
   ]
  },
  {
   "cell_type": "code",
   "execution_count": null,
   "metadata": {},
   "outputs": [],
   "source": []
  }
 ],
 "metadata": {
  "kernelspec": {
   "display_name": "Julia 1.10.5",
   "language": "julia",
   "name": "julia-1.10"
  },
  "language_info": {
   "file_extension": ".jl",
   "mimetype": "application/julia",
   "name": "julia",
   "version": "1.10.5"
  }
 },
 "nbformat": 4,
 "nbformat_minor": 2
}
